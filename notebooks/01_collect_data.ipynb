{
 "cells": [
  {
   "cell_type": "markdown",
   "metadata": {},
   "source": [
    "# Download packages and setup clients"
   ]
  },
  {
   "cell_type": "code",
   "execution_count": 71,
   "metadata": {},
   "outputs": [
    {
     "name": "stdout",
     "output_type": "stream",
     "text": [
      "Packages downloaded successfully\n"
     ]
    }
   ],
   "source": [
    "\n",
    "! pip install chembl_webresource_client --quiet\n",
    "! pip install rdkit --quiet\n",
    "print(\"Packages downloaded successfully\")"
   ]
  },
  {
   "cell_type": "code",
   "execution_count": 72,
   "metadata": {},
   "outputs": [],
   "source": [
    "from chembl_webresource_client.new_client import new_client\n",
    "import pandas as pd\n",
    "from tqdm.auto import tqdm\n",
    "import math\n",
    "from math import log10"
   ]
  },
  {
   "cell_type": "code",
   "execution_count": 73,
   "metadata": {},
   "outputs": [],
   "source": [
    "# Create the clients\n",
    "targets_api = new_client.target\n",
    "compounds_api = new_client.molecule\n",
    "bioactivities_api = new_client.activity"
   ]
  },
  {
   "cell_type": "markdown",
   "metadata": {},
   "source": [
    "# Finding our target"
   ]
  },
  {
   "cell_type": "code",
   "execution_count": 74,
   "metadata": {},
   "outputs": [
    {
     "data": {
      "text/html": [
       "<div>\n",
       "<style scoped>\n",
       "    .dataframe tbody tr th:only-of-type {\n",
       "        vertical-align: middle;\n",
       "    }\n",
       "\n",
       "    .dataframe tbody tr th {\n",
       "        vertical-align: top;\n",
       "    }\n",
       "\n",
       "    .dataframe thead th {\n",
       "        text-align: right;\n",
       "    }\n",
       "</style>\n",
       "<table border=\"1\" class=\"dataframe\">\n",
       "  <thead>\n",
       "    <tr style=\"text-align: right;\">\n",
       "      <th></th>\n",
       "      <th>organism</th>\n",
       "      <th>pref_name</th>\n",
       "      <th>target_chembl_id</th>\n",
       "      <th>target_type</th>\n",
       "    </tr>\n",
       "  </thead>\n",
       "  <tbody>\n",
       "    <tr>\n",
       "      <th>0</th>\n",
       "      <td>Homo sapiens</td>\n",
       "      <td>Matrix metalloproteinase 9</td>\n",
       "      <td>CHEMBL321</td>\n",
       "      <td>SINGLE PROTEIN</td>\n",
       "    </tr>\n",
       "    <tr>\n",
       "      <th>1</th>\n",
       "      <td>Homo sapiens</td>\n",
       "      <td>Matrix metalloproteinase 9</td>\n",
       "      <td>CHEMBL321</td>\n",
       "      <td>SINGLE PROTEIN</td>\n",
       "    </tr>\n",
       "    <tr>\n",
       "      <th>2</th>\n",
       "      <td>Homo sapiens</td>\n",
       "      <td>Collagenase</td>\n",
       "      <td>CHEMBL2095216</td>\n",
       "      <td>PROTEIN FAMILY</td>\n",
       "    </tr>\n",
       "    <tr>\n",
       "      <th>3</th>\n",
       "      <td>Homo sapiens</td>\n",
       "      <td>Matrix metalloproteinase 2/9</td>\n",
       "      <td>CHEMBL3885505</td>\n",
       "      <td>PROTEIN FAMILY</td>\n",
       "    </tr>\n",
       "    <tr>\n",
       "      <th>4</th>\n",
       "      <td>Homo sapiens</td>\n",
       "      <td>MMP-2/MMP-9</td>\n",
       "      <td>CHEMBL4523972</td>\n",
       "      <td>SELECTIVITY GROUP</td>\n",
       "    </tr>\n",
       "  </tbody>\n",
       "</table>\n",
       "</div>"
      ],
      "text/plain": [
       "       organism                     pref_name target_chembl_id  \\\n",
       "0  Homo sapiens    Matrix metalloproteinase 9        CHEMBL321   \n",
       "1  Homo sapiens    Matrix metalloproteinase 9        CHEMBL321   \n",
       "2  Homo sapiens                   Collagenase    CHEMBL2095216   \n",
       "3  Homo sapiens  Matrix metalloproteinase 2/9    CHEMBL3885505   \n",
       "4  Homo sapiens                   MMP-2/MMP-9    CHEMBL4523972   \n",
       "\n",
       "         target_type  \n",
       "0     SINGLE PROTEIN  \n",
       "1     SINGLE PROTEIN  \n",
       "2     PROTEIN FAMILY  \n",
       "3     PROTEIN FAMILY  \n",
       "4  SELECTIVITY GROUP  "
      ]
     },
     "execution_count": 74,
     "metadata": {},
     "output_type": "execute_result"
    }
   ],
   "source": [
    "uniprot_id = \"P14780\"\n",
    "targets = targets_api.get(target_components__accession=uniprot_id).only(\n",
    "    \"target_chembl_id\", \"organism\", \"pref_name\", \"target_type\"\n",
    ")\n",
    "targets = pd.DataFrame.from_records(targets)\n",
    "targets"
   ]
  },
  {
   "cell_type": "code",
   "execution_count": 75,
   "metadata": {},
   "outputs": [
    {
     "name": "stdout",
     "output_type": "stream",
     "text": [
      "organism                          Homo sapiens\n",
      "pref_name           Matrix metalloproteinase 9\n",
      "target_chembl_id                     CHEMBL321\n",
      "target_type                     SINGLE PROTEIN\n",
      "Name: 0, dtype: object\n",
      "\n",
      "The target ChEMBL ID is CHEMBL321\n"
     ]
    }
   ],
   "source": [
    "target = targets.iloc[0]\n",
    "chembl_id = target.target_chembl_id\n",
    "print(target)\n",
    "print(f\"\\nThe target ChEMBL ID is {chembl_id}\")"
   ]
  },
  {
   "cell_type": "markdown",
   "metadata": {},
   "source": [
    "# Getting Bioactivity Data"
   ]
  },
  {
   "cell_type": "code",
   "execution_count": 76,
   "metadata": {},
   "outputs": [
    {
     "name": "stdout",
     "output_type": "stream",
     "text": [
      "Length and type of bioactivities object: 2318\n"
     ]
    }
   ],
   "source": [
    "bioactivities = bioactivities_api.filter(\n",
    "    target_chembl_id=chembl_id, type=\"IC50\", relation=\"=\", assay_type=\"B\"\n",
    ").only(\n",
    "    \"activity_id\",\n",
    "    \"assay_chembl_id\",\n",
    "    \"assay_description\",\n",
    "    \"assay_type\",\n",
    "    \"molecule_chembl_id\",\n",
    "    \"type\",\n",
    "    \"standard_units\",\n",
    "    \"relation\",\n",
    "    \"standard_value\",\n",
    "    \"target_chembl_id\",\n",
    "    \"target_organism\",\n",
    ")\n",
    "\n",
    "print(f\"Length and type of bioactivities object: {len(bioactivities)}\")"
   ]
  },
  {
   "cell_type": "code",
   "execution_count": 77,
   "metadata": {},
   "outputs": [
    {
     "data": {
      "text/plain": [
       "{'activity_id': 33892,\n",
       " 'assay_chembl_id': 'CHEMBL715225',\n",
       " 'assay_description': 'In vitro inhibitory activity against matrix metalloprotease-9.',\n",
       " 'assay_type': 'B',\n",
       " 'molecule_chembl_id': 'CHEMBL80814',\n",
       " 'relation': '=',\n",
       " 'standard_units': 'nM',\n",
       " 'standard_value': '34.0',\n",
       " 'target_chembl_id': 'CHEMBL321',\n",
       " 'target_organism': 'Homo sapiens',\n",
       " 'type': 'IC50',\n",
       " 'units': 'nM',\n",
       " 'value': '34.0'}"
      ]
     },
     "execution_count": 77,
     "metadata": {},
     "output_type": "execute_result"
    }
   ],
   "source": [
    "bioactivities[0]"
   ]
  },
  {
   "cell_type": "code",
   "execution_count": 78,
   "metadata": {},
   "outputs": [
    {
     "name": "stdout",
     "output_type": "stream",
     "text": [
      "DataFrame shape: (2318, 13)\n"
     ]
    },
    {
     "data": {
      "text/html": [
       "<div>\n",
       "<style scoped>\n",
       "    .dataframe tbody tr th:only-of-type {\n",
       "        vertical-align: middle;\n",
       "    }\n",
       "\n",
       "    .dataframe tbody tr th {\n",
       "        vertical-align: top;\n",
       "    }\n",
       "\n",
       "    .dataframe thead th {\n",
       "        text-align: right;\n",
       "    }\n",
       "</style>\n",
       "<table border=\"1\" class=\"dataframe\">\n",
       "  <thead>\n",
       "    <tr style=\"text-align: right;\">\n",
       "      <th></th>\n",
       "      <th>activity_id</th>\n",
       "      <th>assay_chembl_id</th>\n",
       "      <th>assay_description</th>\n",
       "      <th>assay_type</th>\n",
       "      <th>molecule_chembl_id</th>\n",
       "      <th>relation</th>\n",
       "      <th>standard_units</th>\n",
       "      <th>standard_value</th>\n",
       "      <th>target_chembl_id</th>\n",
       "      <th>target_organism</th>\n",
       "      <th>type</th>\n",
       "      <th>units</th>\n",
       "      <th>value</th>\n",
       "    </tr>\n",
       "  </thead>\n",
       "  <tbody>\n",
       "    <tr>\n",
       "      <th>0</th>\n",
       "      <td>33892</td>\n",
       "      <td>CHEMBL715225</td>\n",
       "      <td>In vitro inhibitory activity against matrix me...</td>\n",
       "      <td>B</td>\n",
       "      <td>CHEMBL80814</td>\n",
       "      <td>=</td>\n",
       "      <td>nM</td>\n",
       "      <td>34.0</td>\n",
       "      <td>CHEMBL321</td>\n",
       "      <td>Homo sapiens</td>\n",
       "      <td>IC50</td>\n",
       "      <td>nM</td>\n",
       "      <td>34.0</td>\n",
       "    </tr>\n",
       "    <tr>\n",
       "      <th>1</th>\n",
       "      <td>35115</td>\n",
       "      <td>CHEMBL715225</td>\n",
       "      <td>In vitro inhibitory activity against matrix me...</td>\n",
       "      <td>B</td>\n",
       "      <td>CHEMBL276119</td>\n",
       "      <td>=</td>\n",
       "      <td>nM</td>\n",
       "      <td>9.0</td>\n",
       "      <td>CHEMBL321</td>\n",
       "      <td>Homo sapiens</td>\n",
       "      <td>IC50</td>\n",
       "      <td>nM</td>\n",
       "      <td>9.0</td>\n",
       "    </tr>\n",
       "    <tr>\n",
       "      <th>2</th>\n",
       "      <td>35120</td>\n",
       "      <td>CHEMBL715225</td>\n",
       "      <td>In vitro inhibitory activity against matrix me...</td>\n",
       "      <td>B</td>\n",
       "      <td>CHEMBL78934</td>\n",
       "      <td>=</td>\n",
       "      <td>nM</td>\n",
       "      <td>20.0</td>\n",
       "      <td>CHEMBL321</td>\n",
       "      <td>Homo sapiens</td>\n",
       "      <td>IC50</td>\n",
       "      <td>nM</td>\n",
       "      <td>20.0</td>\n",
       "    </tr>\n",
       "    <tr>\n",
       "      <th>3</th>\n",
       "      <td>35125</td>\n",
       "      <td>CHEMBL715225</td>\n",
       "      <td>In vitro inhibitory activity against matrix me...</td>\n",
       "      <td>B</td>\n",
       "      <td>CHEMBL78369</td>\n",
       "      <td>=</td>\n",
       "      <td>nM</td>\n",
       "      <td>3.0</td>\n",
       "      <td>CHEMBL321</td>\n",
       "      <td>Homo sapiens</td>\n",
       "      <td>IC50</td>\n",
       "      <td>nM</td>\n",
       "      <td>3.0</td>\n",
       "    </tr>\n",
       "    <tr>\n",
       "      <th>4</th>\n",
       "      <td>35129</td>\n",
       "      <td>CHEMBL715225</td>\n",
       "      <td>In vitro inhibitory activity against matrix me...</td>\n",
       "      <td>B</td>\n",
       "      <td>CHEMBL514138</td>\n",
       "      <td>=</td>\n",
       "      <td>nM</td>\n",
       "      <td>9.0</td>\n",
       "      <td>CHEMBL321</td>\n",
       "      <td>Homo sapiens</td>\n",
       "      <td>IC50</td>\n",
       "      <td>nM</td>\n",
       "      <td>9.0</td>\n",
       "    </tr>\n",
       "  </tbody>\n",
       "</table>\n",
       "</div>"
      ],
      "text/plain": [
       "   activity_id assay_chembl_id  \\\n",
       "0        33892    CHEMBL715225   \n",
       "1        35115    CHEMBL715225   \n",
       "2        35120    CHEMBL715225   \n",
       "3        35125    CHEMBL715225   \n",
       "4        35129    CHEMBL715225   \n",
       "\n",
       "                                   assay_description assay_type  \\\n",
       "0  In vitro inhibitory activity against matrix me...          B   \n",
       "1  In vitro inhibitory activity against matrix me...          B   \n",
       "2  In vitro inhibitory activity against matrix me...          B   \n",
       "3  In vitro inhibitory activity against matrix me...          B   \n",
       "4  In vitro inhibitory activity against matrix me...          B   \n",
       "\n",
       "  molecule_chembl_id relation standard_units standard_value target_chembl_id  \\\n",
       "0        CHEMBL80814        =             nM           34.0        CHEMBL321   \n",
       "1       CHEMBL276119        =             nM            9.0        CHEMBL321   \n",
       "2        CHEMBL78934        =             nM           20.0        CHEMBL321   \n",
       "3        CHEMBL78369        =             nM            3.0        CHEMBL321   \n",
       "4       CHEMBL514138        =             nM            9.0        CHEMBL321   \n",
       "\n",
       "  target_organism  type units value  \n",
       "0    Homo sapiens  IC50    nM  34.0  \n",
       "1    Homo sapiens  IC50    nM   9.0  \n",
       "2    Homo sapiens  IC50    nM  20.0  \n",
       "3    Homo sapiens  IC50    nM   3.0  \n",
       "4    Homo sapiens  IC50    nM   9.0  "
      ]
     },
     "execution_count": 78,
     "metadata": {},
     "output_type": "execute_result"
    }
   ],
   "source": [
    "bioactivities_df = pd.DataFrame.from_dict(bioactivities)\n",
    "print(f\"DataFrame shape: {bioactivities_df.shape}\")\n",
    "bioactivities_df.head()"
   ]
  },
  {
   "cell_type": "markdown",
   "metadata": {},
   "source": [
    "## Cleaning our Data"
   ]
  },
  {
   "cell_type": "code",
   "execution_count": 79,
   "metadata": {},
   "outputs": [
    {
     "data": {
      "text/plain": [
       "array(['nM', 'uM', 'ug ml-1'], dtype=object)"
      ]
     },
     "execution_count": 79,
     "metadata": {},
     "output_type": "execute_result"
    }
   ],
   "source": [
    "bioactivities_df[\"units\"].unique()"
   ]
  },
  {
   "cell_type": "code",
   "execution_count": 80,
   "metadata": {},
   "outputs": [
    {
     "data": {
      "text/html": [
       "<div>\n",
       "<style scoped>\n",
       "    .dataframe tbody tr th:only-of-type {\n",
       "        vertical-align: middle;\n",
       "    }\n",
       "\n",
       "    .dataframe tbody tr th {\n",
       "        vertical-align: top;\n",
       "    }\n",
       "\n",
       "    .dataframe thead th {\n",
       "        text-align: right;\n",
       "    }\n",
       "</style>\n",
       "<table border=\"1\" class=\"dataframe\">\n",
       "  <thead>\n",
       "    <tr style=\"text-align: right;\">\n",
       "      <th></th>\n",
       "      <th>activity_id</th>\n",
       "      <th>assay_chembl_id</th>\n",
       "      <th>assay_description</th>\n",
       "      <th>assay_type</th>\n",
       "      <th>molecule_chembl_id</th>\n",
       "      <th>relation</th>\n",
       "      <th>standard_units</th>\n",
       "      <th>standard_value</th>\n",
       "      <th>target_chembl_id</th>\n",
       "      <th>target_organism</th>\n",
       "      <th>type</th>\n",
       "    </tr>\n",
       "  </thead>\n",
       "  <tbody>\n",
       "    <tr>\n",
       "      <th>0</th>\n",
       "      <td>33892</td>\n",
       "      <td>CHEMBL715225</td>\n",
       "      <td>In vitro inhibitory activity against matrix me...</td>\n",
       "      <td>B</td>\n",
       "      <td>CHEMBL80814</td>\n",
       "      <td>=</td>\n",
       "      <td>nM</td>\n",
       "      <td>34.0</td>\n",
       "      <td>CHEMBL321</td>\n",
       "      <td>Homo sapiens</td>\n",
       "      <td>IC50</td>\n",
       "    </tr>\n",
       "    <tr>\n",
       "      <th>1</th>\n",
       "      <td>35115</td>\n",
       "      <td>CHEMBL715225</td>\n",
       "      <td>In vitro inhibitory activity against matrix me...</td>\n",
       "      <td>B</td>\n",
       "      <td>CHEMBL276119</td>\n",
       "      <td>=</td>\n",
       "      <td>nM</td>\n",
       "      <td>9.0</td>\n",
       "      <td>CHEMBL321</td>\n",
       "      <td>Homo sapiens</td>\n",
       "      <td>IC50</td>\n",
       "    </tr>\n",
       "    <tr>\n",
       "      <th>2</th>\n",
       "      <td>35120</td>\n",
       "      <td>CHEMBL715225</td>\n",
       "      <td>In vitro inhibitory activity against matrix me...</td>\n",
       "      <td>B</td>\n",
       "      <td>CHEMBL78934</td>\n",
       "      <td>=</td>\n",
       "      <td>nM</td>\n",
       "      <td>20.0</td>\n",
       "      <td>CHEMBL321</td>\n",
       "      <td>Homo sapiens</td>\n",
       "      <td>IC50</td>\n",
       "    </tr>\n",
       "    <tr>\n",
       "      <th>3</th>\n",
       "      <td>35125</td>\n",
       "      <td>CHEMBL715225</td>\n",
       "      <td>In vitro inhibitory activity against matrix me...</td>\n",
       "      <td>B</td>\n",
       "      <td>CHEMBL78369</td>\n",
       "      <td>=</td>\n",
       "      <td>nM</td>\n",
       "      <td>3.0</td>\n",
       "      <td>CHEMBL321</td>\n",
       "      <td>Homo sapiens</td>\n",
       "      <td>IC50</td>\n",
       "    </tr>\n",
       "    <tr>\n",
       "      <th>4</th>\n",
       "      <td>35129</td>\n",
       "      <td>CHEMBL715225</td>\n",
       "      <td>In vitro inhibitory activity against matrix me...</td>\n",
       "      <td>B</td>\n",
       "      <td>CHEMBL514138</td>\n",
       "      <td>=</td>\n",
       "      <td>nM</td>\n",
       "      <td>9.0</td>\n",
       "      <td>CHEMBL321</td>\n",
       "      <td>Homo sapiens</td>\n",
       "      <td>IC50</td>\n",
       "    </tr>\n",
       "  </tbody>\n",
       "</table>\n",
       "</div>"
      ],
      "text/plain": [
       "   activity_id assay_chembl_id  \\\n",
       "0        33892    CHEMBL715225   \n",
       "1        35115    CHEMBL715225   \n",
       "2        35120    CHEMBL715225   \n",
       "3        35125    CHEMBL715225   \n",
       "4        35129    CHEMBL715225   \n",
       "\n",
       "                                   assay_description assay_type  \\\n",
       "0  In vitro inhibitory activity against matrix me...          B   \n",
       "1  In vitro inhibitory activity against matrix me...          B   \n",
       "2  In vitro inhibitory activity against matrix me...          B   \n",
       "3  In vitro inhibitory activity against matrix me...          B   \n",
       "4  In vitro inhibitory activity against matrix me...          B   \n",
       "\n",
       "  molecule_chembl_id relation standard_units standard_value target_chembl_id  \\\n",
       "0        CHEMBL80814        =             nM           34.0        CHEMBL321   \n",
       "1       CHEMBL276119        =             nM            9.0        CHEMBL321   \n",
       "2        CHEMBL78934        =             nM           20.0        CHEMBL321   \n",
       "3        CHEMBL78369        =             nM            3.0        CHEMBL321   \n",
       "4       CHEMBL514138        =             nM            9.0        CHEMBL321   \n",
       "\n",
       "  target_organism  type  \n",
       "0    Homo sapiens  IC50  \n",
       "1    Homo sapiens  IC50  \n",
       "2    Homo sapiens  IC50  \n",
       "3    Homo sapiens  IC50  \n",
       "4    Homo sapiens  IC50  "
      ]
     },
     "execution_count": 80,
     "metadata": {},
     "output_type": "execute_result"
    }
   ],
   "source": [
    "bioactivities_df.drop([\"units\", \"value\"], axis=1, inplace=True)\n",
    "bioactivities_df.head()"
   ]
  },
  {
   "cell_type": "code",
   "execution_count": 81,
   "metadata": {},
   "outputs": [
    {
     "data": {
      "text/plain": [
       "activity_id            int64\n",
       "assay_chembl_id       object\n",
       "assay_description     object\n",
       "assay_type            object\n",
       "molecule_chembl_id    object\n",
       "relation              object\n",
       "standard_units        object\n",
       "standard_value        object\n",
       "target_chembl_id      object\n",
       "target_organism       object\n",
       "type                  object\n",
       "dtype: object"
      ]
     },
     "execution_count": 81,
     "metadata": {},
     "output_type": "execute_result"
    }
   ],
   "source": [
    "bioactivities_df.dtypes"
   ]
  },
  {
   "cell_type": "code",
   "execution_count": 82,
   "metadata": {},
   "outputs": [
    {
     "data": {
      "text/plain": [
       "activity_id             int64\n",
       "assay_chembl_id        object\n",
       "assay_description      object\n",
       "assay_type             object\n",
       "molecule_chembl_id     object\n",
       "relation               object\n",
       "standard_units         object\n",
       "standard_value        float64\n",
       "target_chembl_id       object\n",
       "target_organism        object\n",
       "type                   object\n",
       "dtype: object"
      ]
     },
     "execution_count": 82,
     "metadata": {},
     "output_type": "execute_result"
    }
   ],
   "source": [
    "bioactivities_df = bioactivities_df.astype({\"standard_value\": \"float64\"})\n",
    "bioactivities_df.dtypes"
   ]
  },
  {
   "cell_type": "code",
   "execution_count": 83,
   "metadata": {},
   "outputs": [
    {
     "name": "stdout",
     "output_type": "stream",
     "text": [
      "Shape after Dropping NA: \n",
      "(2318, 11)\n",
      "Units in downloaded data: ['nM' 'ug.mL-1']\n",
      "Number of non-nM entries:    5\n",
      "Units after filtering: ['nM']\n",
      "DataFrame shape after cleaning: (2049, 11)\n"
     ]
    }
   ],
   "source": [
    "bioactivities_df.dropna(axis=0, how=\"any\", inplace=True)\n",
    "print(f\"Shape after Dropping NA: \\n{bioactivities_df.shape}\")\n",
    "print(f\"Units in downloaded data: {bioactivities_df['standard_units'].unique()}\")\n",
    "print(\n",
    "    f\"Number of non-nM entries:\\\n",
    "    {bioactivities_df[bioactivities_df['standard_units'] != 'nM'].shape[0]}\"\n",
    ")\n",
    "bioactivities_df = bioactivities_df[bioactivities_df[\"standard_units\"] == \"nM\"]\n",
    "print(f\"Units after filtering: {bioactivities_df['standard_units'].unique()}\")\n",
    "bioactivities_df.drop_duplicates(\"molecule_chembl_id\", keep=\"first\", inplace=True)\n",
    "print(f\"DataFrame shape after cleaning: {bioactivities_df.shape}\")\n",
    "bioactivities_df.reset_index(drop=True, inplace=True)"
   ]
  },
  {
   "cell_type": "code",
   "execution_count": 84,
   "metadata": {},
   "outputs": [
    {
     "data": {
      "text/html": [
       "<div>\n",
       "<style scoped>\n",
       "    .dataframe tbody tr th:only-of-type {\n",
       "        vertical-align: middle;\n",
       "    }\n",
       "\n",
       "    .dataframe tbody tr th {\n",
       "        vertical-align: top;\n",
       "    }\n",
       "\n",
       "    .dataframe thead th {\n",
       "        text-align: right;\n",
       "    }\n",
       "</style>\n",
       "<table border=\"1\" class=\"dataframe\">\n",
       "  <thead>\n",
       "    <tr style=\"text-align: right;\">\n",
       "      <th></th>\n",
       "      <th>activity_id</th>\n",
       "      <th>assay_chembl_id</th>\n",
       "      <th>assay_description</th>\n",
       "      <th>assay_type</th>\n",
       "      <th>molecule_chembl_id</th>\n",
       "      <th>relation</th>\n",
       "      <th>standard_units</th>\n",
       "      <th>standard_value</th>\n",
       "      <th>target_chembl_id</th>\n",
       "      <th>target_organism</th>\n",
       "      <th>type</th>\n",
       "    </tr>\n",
       "  </thead>\n",
       "  <tbody>\n",
       "    <tr>\n",
       "      <th>0</th>\n",
       "      <td>33892</td>\n",
       "      <td>CHEMBL715225</td>\n",
       "      <td>In vitro inhibitory activity against matrix me...</td>\n",
       "      <td>B</td>\n",
       "      <td>CHEMBL80814</td>\n",
       "      <td>=</td>\n",
       "      <td>nM</td>\n",
       "      <td>34.0</td>\n",
       "      <td>CHEMBL321</td>\n",
       "      <td>Homo sapiens</td>\n",
       "      <td>IC50</td>\n",
       "    </tr>\n",
       "    <tr>\n",
       "      <th>1</th>\n",
       "      <td>35115</td>\n",
       "      <td>CHEMBL715225</td>\n",
       "      <td>In vitro inhibitory activity against matrix me...</td>\n",
       "      <td>B</td>\n",
       "      <td>CHEMBL276119</td>\n",
       "      <td>=</td>\n",
       "      <td>nM</td>\n",
       "      <td>9.0</td>\n",
       "      <td>CHEMBL321</td>\n",
       "      <td>Homo sapiens</td>\n",
       "      <td>IC50</td>\n",
       "    </tr>\n",
       "    <tr>\n",
       "      <th>2</th>\n",
       "      <td>35120</td>\n",
       "      <td>CHEMBL715225</td>\n",
       "      <td>In vitro inhibitory activity against matrix me...</td>\n",
       "      <td>B</td>\n",
       "      <td>CHEMBL78934</td>\n",
       "      <td>=</td>\n",
       "      <td>nM</td>\n",
       "      <td>20.0</td>\n",
       "      <td>CHEMBL321</td>\n",
       "      <td>Homo sapiens</td>\n",
       "      <td>IC50</td>\n",
       "    </tr>\n",
       "    <tr>\n",
       "      <th>3</th>\n",
       "      <td>35125</td>\n",
       "      <td>CHEMBL715225</td>\n",
       "      <td>In vitro inhibitory activity against matrix me...</td>\n",
       "      <td>B</td>\n",
       "      <td>CHEMBL78369</td>\n",
       "      <td>=</td>\n",
       "      <td>nM</td>\n",
       "      <td>3.0</td>\n",
       "      <td>CHEMBL321</td>\n",
       "      <td>Homo sapiens</td>\n",
       "      <td>IC50</td>\n",
       "    </tr>\n",
       "    <tr>\n",
       "      <th>4</th>\n",
       "      <td>35129</td>\n",
       "      <td>CHEMBL715225</td>\n",
       "      <td>In vitro inhibitory activity against matrix me...</td>\n",
       "      <td>B</td>\n",
       "      <td>CHEMBL514138</td>\n",
       "      <td>=</td>\n",
       "      <td>nM</td>\n",
       "      <td>9.0</td>\n",
       "      <td>CHEMBL321</td>\n",
       "      <td>Homo sapiens</td>\n",
       "      <td>IC50</td>\n",
       "    </tr>\n",
       "  </tbody>\n",
       "</table>\n",
       "</div>"
      ],
      "text/plain": [
       "   activity_id assay_chembl_id  \\\n",
       "0        33892    CHEMBL715225   \n",
       "1        35115    CHEMBL715225   \n",
       "2        35120    CHEMBL715225   \n",
       "3        35125    CHEMBL715225   \n",
       "4        35129    CHEMBL715225   \n",
       "\n",
       "                                   assay_description assay_type  \\\n",
       "0  In vitro inhibitory activity against matrix me...          B   \n",
       "1  In vitro inhibitory activity against matrix me...          B   \n",
       "2  In vitro inhibitory activity against matrix me...          B   \n",
       "3  In vitro inhibitory activity against matrix me...          B   \n",
       "4  In vitro inhibitory activity against matrix me...          B   \n",
       "\n",
       "  molecule_chembl_id relation standard_units  standard_value target_chembl_id  \\\n",
       "0        CHEMBL80814        =             nM            34.0        CHEMBL321   \n",
       "1       CHEMBL276119        =             nM             9.0        CHEMBL321   \n",
       "2        CHEMBL78934        =             nM            20.0        CHEMBL321   \n",
       "3        CHEMBL78369        =             nM             3.0        CHEMBL321   \n",
       "4       CHEMBL514138        =             nM             9.0        CHEMBL321   \n",
       "\n",
       "  target_organism  type  \n",
       "0    Homo sapiens  IC50  \n",
       "1    Homo sapiens  IC50  \n",
       "2    Homo sapiens  IC50  \n",
       "3    Homo sapiens  IC50  \n",
       "4    Homo sapiens  IC50  "
      ]
     },
     "execution_count": 84,
     "metadata": {},
     "output_type": "execute_result"
    }
   ],
   "source": [
    "bioactivities_df.head()"
   ]
  },
  {
   "cell_type": "code",
   "execution_count": 85,
   "metadata": {},
   "outputs": [
    {
     "data": {
      "text/html": [
       "<div>\n",
       "<style scoped>\n",
       "    .dataframe tbody tr th:only-of-type {\n",
       "        vertical-align: middle;\n",
       "    }\n",
       "\n",
       "    .dataframe tbody tr th {\n",
       "        vertical-align: top;\n",
       "    }\n",
       "\n",
       "    .dataframe thead th {\n",
       "        text-align: right;\n",
       "    }\n",
       "</style>\n",
       "<table border=\"1\" class=\"dataframe\">\n",
       "  <thead>\n",
       "    <tr style=\"text-align: right;\">\n",
       "      <th></th>\n",
       "      <th>activity_id</th>\n",
       "      <th>assay_chembl_id</th>\n",
       "      <th>assay_description</th>\n",
       "      <th>assay_type</th>\n",
       "      <th>molecule_chembl_id</th>\n",
       "      <th>relation</th>\n",
       "      <th>units</th>\n",
       "      <th>IC50</th>\n",
       "      <th>target_chembl_id</th>\n",
       "      <th>target_organism</th>\n",
       "      <th>type</th>\n",
       "    </tr>\n",
       "  </thead>\n",
       "  <tbody>\n",
       "    <tr>\n",
       "      <th>0</th>\n",
       "      <td>33892</td>\n",
       "      <td>CHEMBL715225</td>\n",
       "      <td>In vitro inhibitory activity against matrix me...</td>\n",
       "      <td>B</td>\n",
       "      <td>CHEMBL80814</td>\n",
       "      <td>=</td>\n",
       "      <td>nM</td>\n",
       "      <td>34.0</td>\n",
       "      <td>CHEMBL321</td>\n",
       "      <td>Homo sapiens</td>\n",
       "      <td>IC50</td>\n",
       "    </tr>\n",
       "    <tr>\n",
       "      <th>1</th>\n",
       "      <td>35115</td>\n",
       "      <td>CHEMBL715225</td>\n",
       "      <td>In vitro inhibitory activity against matrix me...</td>\n",
       "      <td>B</td>\n",
       "      <td>CHEMBL276119</td>\n",
       "      <td>=</td>\n",
       "      <td>nM</td>\n",
       "      <td>9.0</td>\n",
       "      <td>CHEMBL321</td>\n",
       "      <td>Homo sapiens</td>\n",
       "      <td>IC50</td>\n",
       "    </tr>\n",
       "    <tr>\n",
       "      <th>2</th>\n",
       "      <td>35120</td>\n",
       "      <td>CHEMBL715225</td>\n",
       "      <td>In vitro inhibitory activity against matrix me...</td>\n",
       "      <td>B</td>\n",
       "      <td>CHEMBL78934</td>\n",
       "      <td>=</td>\n",
       "      <td>nM</td>\n",
       "      <td>20.0</td>\n",
       "      <td>CHEMBL321</td>\n",
       "      <td>Homo sapiens</td>\n",
       "      <td>IC50</td>\n",
       "    </tr>\n",
       "    <tr>\n",
       "      <th>3</th>\n",
       "      <td>35125</td>\n",
       "      <td>CHEMBL715225</td>\n",
       "      <td>In vitro inhibitory activity against matrix me...</td>\n",
       "      <td>B</td>\n",
       "      <td>CHEMBL78369</td>\n",
       "      <td>=</td>\n",
       "      <td>nM</td>\n",
       "      <td>3.0</td>\n",
       "      <td>CHEMBL321</td>\n",
       "      <td>Homo sapiens</td>\n",
       "      <td>IC50</td>\n",
       "    </tr>\n",
       "    <tr>\n",
       "      <th>4</th>\n",
       "      <td>35129</td>\n",
       "      <td>CHEMBL715225</td>\n",
       "      <td>In vitro inhibitory activity against matrix me...</td>\n",
       "      <td>B</td>\n",
       "      <td>CHEMBL514138</td>\n",
       "      <td>=</td>\n",
       "      <td>nM</td>\n",
       "      <td>9.0</td>\n",
       "      <td>CHEMBL321</td>\n",
       "      <td>Homo sapiens</td>\n",
       "      <td>IC50</td>\n",
       "    </tr>\n",
       "  </tbody>\n",
       "</table>\n",
       "</div>"
      ],
      "text/plain": [
       "   activity_id assay_chembl_id  \\\n",
       "0        33892    CHEMBL715225   \n",
       "1        35115    CHEMBL715225   \n",
       "2        35120    CHEMBL715225   \n",
       "3        35125    CHEMBL715225   \n",
       "4        35129    CHEMBL715225   \n",
       "\n",
       "                                   assay_description assay_type  \\\n",
       "0  In vitro inhibitory activity against matrix me...          B   \n",
       "1  In vitro inhibitory activity against matrix me...          B   \n",
       "2  In vitro inhibitory activity against matrix me...          B   \n",
       "3  In vitro inhibitory activity against matrix me...          B   \n",
       "4  In vitro inhibitory activity against matrix me...          B   \n",
       "\n",
       "  molecule_chembl_id relation units  IC50 target_chembl_id target_organism  \\\n",
       "0        CHEMBL80814        =    nM  34.0        CHEMBL321    Homo sapiens   \n",
       "1       CHEMBL276119        =    nM   9.0        CHEMBL321    Homo sapiens   \n",
       "2        CHEMBL78934        =    nM  20.0        CHEMBL321    Homo sapiens   \n",
       "3        CHEMBL78369        =    nM   3.0        CHEMBL321    Homo sapiens   \n",
       "4       CHEMBL514138        =    nM   9.0        CHEMBL321    Homo sapiens   \n",
       "\n",
       "   type  \n",
       "0  IC50  \n",
       "1  IC50  \n",
       "2  IC50  \n",
       "3  IC50  \n",
       "4  IC50  "
      ]
     },
     "execution_count": 85,
     "metadata": {},
     "output_type": "execute_result"
    }
   ],
   "source": [
    "# Rename columns\n",
    "bioactivities_df.rename(\n",
    "    columns={\"standard_value\": \"IC50\", \"standard_units\": \"units\"}, inplace=True\n",
    ")\n",
    "bioactivities_df.head()"
   ]
  },
  {
   "cell_type": "markdown",
   "metadata": {},
   "source": [
    "# Get Compound Data"
   ]
  },
  {
   "cell_type": "code",
   "execution_count": 86,
   "metadata": {},
   "outputs": [],
   "source": [
    "compounds_provider = compounds_api.filter(\n",
    "    molecule_chembl_id__in=list(bioactivities_df[\"molecule_chembl_id\"])\n",
    ").only(\"molecule_chembl_id\", \"molecule_structures\")"
   ]
  },
  {
   "cell_type": "code",
   "execution_count": 87,
   "metadata": {},
   "outputs": [
    {
     "data": {
      "application/vnd.jupyter.widget-view+json": {
       "model_id": "d65110c116674940b652bb8d89932098",
       "version_major": 2,
       "version_minor": 0
      },
      "text/plain": [
       "  0%|          | 0/2049 [00:00<?, ?it/s]"
      ]
     },
     "metadata": {},
     "output_type": "display_data"
    }
   ],
   "source": [
    "compounds = list(tqdm(compounds_provider))"
   ]
  },
  {
   "cell_type": "code",
   "execution_count": 88,
   "metadata": {},
   "outputs": [
    {
     "name": "stdout",
     "output_type": "stream",
     "text": [
      "DataFrame shape: (2049, 2)\n"
     ]
    }
   ],
   "source": [
    "compounds_df = pd.DataFrame.from_records(\n",
    "    compounds,\n",
    ")\n",
    "print(f\"DataFrame shape: {compounds_df.shape}\")"
   ]
  },
  {
   "cell_type": "code",
   "execution_count": 89,
   "metadata": {},
   "outputs": [
    {
     "data": {
      "text/html": [
       "<div>\n",
       "<style scoped>\n",
       "    .dataframe tbody tr th:only-of-type {\n",
       "        vertical-align: middle;\n",
       "    }\n",
       "\n",
       "    .dataframe tbody tr th {\n",
       "        vertical-align: top;\n",
       "    }\n",
       "\n",
       "    .dataframe thead th {\n",
       "        text-align: right;\n",
       "    }\n",
       "</style>\n",
       "<table border=\"1\" class=\"dataframe\">\n",
       "  <thead>\n",
       "    <tr style=\"text-align: right;\">\n",
       "      <th></th>\n",
       "      <th>molecule_chembl_id</th>\n",
       "      <th>molecule_structures</th>\n",
       "    </tr>\n",
       "  </thead>\n",
       "  <tbody>\n",
       "    <tr>\n",
       "      <th>0</th>\n",
       "      <td>CHEMBL2</td>\n",
       "      <td>{'canonical_smiles': 'COc1cc2nc(N3CCN(C(=O)c4c...</td>\n",
       "    </tr>\n",
       "    <tr>\n",
       "      <th>1</th>\n",
       "      <td>CHEMBL268377</td>\n",
       "      <td>{'canonical_smiles': 'COc1ccc(S(=O)(=O)N2CN(C(...</td>\n",
       "    </tr>\n",
       "    <tr>\n",
       "      <th>2</th>\n",
       "      <td>CHEMBL7108</td>\n",
       "      <td>{'canonical_smiles': 'COc1ccc(S(=O)(=O)N2CN(C(...</td>\n",
       "    </tr>\n",
       "    <tr>\n",
       "      <th>3</th>\n",
       "      <td>CHEMBL267939</td>\n",
       "      <td>{'canonical_smiles': 'COc1ccc(S(=O)(=O)N2CCN(C...</td>\n",
       "    </tr>\n",
       "    <tr>\n",
       "      <th>4</th>\n",
       "      <td>CHEMBL415482</td>\n",
       "      <td>{'canonical_smiles': 'COc1ccc(S(=O)(=O)N2CCN(C...</td>\n",
       "    </tr>\n",
       "  </tbody>\n",
       "</table>\n",
       "</div>"
      ],
      "text/plain": [
       "  molecule_chembl_id                                molecule_structures\n",
       "0            CHEMBL2  {'canonical_smiles': 'COc1cc2nc(N3CCN(C(=O)c4c...\n",
       "1       CHEMBL268377  {'canonical_smiles': 'COc1ccc(S(=O)(=O)N2CN(C(...\n",
       "2         CHEMBL7108  {'canonical_smiles': 'COc1ccc(S(=O)(=O)N2CN(C(...\n",
       "3       CHEMBL267939  {'canonical_smiles': 'COc1ccc(S(=O)(=O)N2CCN(C...\n",
       "4       CHEMBL415482  {'canonical_smiles': 'COc1ccc(S(=O)(=O)N2CCN(C..."
      ]
     },
     "execution_count": 89,
     "metadata": {},
     "output_type": "execute_result"
    }
   ],
   "source": [
    "compounds_df.head()"
   ]
  },
  {
   "cell_type": "markdown",
   "metadata": {},
   "source": [
    "## Preprocess Compound Data"
   ]
  },
  {
   "cell_type": "code",
   "execution_count": 90,
   "metadata": {},
   "outputs": [
    {
     "name": "stdout",
     "output_type": "stream",
     "text": [
      "DataFrame shape after dropping na: (2049, 2)\n",
      "DataFrame shape after dropping dupes: (2049, 2)\n"
     ]
    }
   ],
   "source": [
    "compounds_df.dropna(axis=0, how=\"any\", inplace=True)\n",
    "print(f\"DataFrame shape after dropping na: {compounds_df.shape}\")\n",
    "compounds_df.drop_duplicates(\"molecule_chembl_id\", keep=\"first\", inplace=True)\n",
    "print(f\"DataFrame shape after dropping dupes: {compounds_df.shape}\")"
   ]
  },
  {
   "cell_type": "code",
   "execution_count": 91,
   "metadata": {},
   "outputs": [
    {
     "data": {
      "text/plain": [
       "dict_keys(['canonical_smiles', 'molfile', 'standard_inchi', 'standard_inchi_key'])"
      ]
     },
     "execution_count": 91,
     "metadata": {},
     "output_type": "execute_result"
    }
   ],
   "source": [
    "compounds_df.iloc[0].molecule_structures.keys()"
   ]
  },
  {
   "cell_type": "code",
   "execution_count": 92,
   "metadata": {},
   "outputs": [
    {
     "name": "stdout",
     "output_type": "stream",
     "text": [
      "DataFrame shape: (2049, 2)\n"
     ]
    }
   ],
   "source": [
    "canonical_smiles = []\n",
    "\n",
    "for i, compounds in compounds_df.iterrows():\n",
    "    try:\n",
    "        canonical_smiles.append(compounds[\"molecule_structures\"][\"canonical_smiles\"])\n",
    "    except KeyError:\n",
    "        canonical_smiles.append(None)\n",
    "\n",
    "compounds_df[\"smiles\"] = canonical_smiles\n",
    "compounds_df.drop(\"molecule_structures\", axis=1, inplace=True)\n",
    "compounds_df.dropna(axis=0, how=\"any\", inplace=True)\n",
    "print(f\"DataFrame shape: {compounds_df.shape}\")"
   ]
  },
  {
   "cell_type": "markdown",
   "metadata": {},
   "source": [
    "# Bioactivity and Compound Data"
   ]
  },
  {
   "cell_type": "code",
   "execution_count": 93,
   "metadata": {},
   "outputs": [
    {
     "name": "stdout",
     "output_type": "stream",
     "text": [
      "Bioactivities filtered: 2049\n"
     ]
    },
    {
     "data": {
      "text/plain": [
       "Index(['activity_id', 'assay_chembl_id', 'assay_description', 'assay_type',\n",
       "       'molecule_chembl_id', 'relation', 'units', 'IC50', 'target_chembl_id',\n",
       "       'target_organism', 'type'],\n",
       "      dtype='object')"
      ]
     },
     "execution_count": 93,
     "metadata": {},
     "output_type": "execute_result"
    }
   ],
   "source": [
    "print(f\"Bioactivities filtered: {bioactivities_df.shape[0]}\")\n",
    "bioactivities_df.columns"
   ]
  },
  {
   "cell_type": "code",
   "execution_count": 94,
   "metadata": {},
   "outputs": [
    {
     "name": "stdout",
     "output_type": "stream",
     "text": [
      "Compounds filtered: 2049\n"
     ]
    },
    {
     "data": {
      "text/plain": [
       "Index(['molecule_chembl_id', 'smiles'], dtype='object')"
      ]
     },
     "execution_count": 94,
     "metadata": {},
     "output_type": "execute_result"
    }
   ],
   "source": [
    "print(f\"Compounds filtered: {compounds_df.shape[0]}\")\n",
    "compounds_df.columns"
   ]
  },
  {
   "cell_type": "code",
   "execution_count": 95,
   "metadata": {},
   "outputs": [
    {
     "name": "stdout",
     "output_type": "stream",
     "text": [
      "Dataset with 2049 entries.\n"
     ]
    }
   ],
   "source": [
    "output_df = pd.merge(\n",
    "    bioactivities_df[[\"molecule_chembl_id\", \"IC50\", \"units\"]],\n",
    "    compounds_df,\n",
    "    on=\"molecule_chembl_id\",\n",
    ")\n",
    "\n",
    "# Reset row indices\n",
    "output_df.reset_index(drop=True, inplace=True)\n",
    "\n",
    "print(f\"Dataset with {output_df.shape[0]} entries.\")"
   ]
  },
  {
   "cell_type": "code",
   "execution_count": 96,
   "metadata": {},
   "outputs": [
    {
     "data": {
      "text/plain": [
       "molecule_chembl_id     object\n",
       "IC50                  float64\n",
       "units                  object\n",
       "smiles                 object\n",
       "dtype: object"
      ]
     },
     "execution_count": 96,
     "metadata": {},
     "output_type": "execute_result"
    }
   ],
   "source": [
    "output_df.dtypes"
   ]
  },
  {
   "cell_type": "code",
   "execution_count": 97,
   "metadata": {},
   "outputs": [
    {
     "data": {
      "text/html": [
       "<div>\n",
       "<style scoped>\n",
       "    .dataframe tbody tr th:only-of-type {\n",
       "        vertical-align: middle;\n",
       "    }\n",
       "\n",
       "    .dataframe tbody tr th {\n",
       "        vertical-align: top;\n",
       "    }\n",
       "\n",
       "    .dataframe thead th {\n",
       "        text-align: right;\n",
       "    }\n",
       "</style>\n",
       "<table border=\"1\" class=\"dataframe\">\n",
       "  <thead>\n",
       "    <tr style=\"text-align: right;\">\n",
       "      <th></th>\n",
       "      <th>molecule_chembl_id</th>\n",
       "      <th>IC50</th>\n",
       "      <th>units</th>\n",
       "      <th>smiles</th>\n",
       "    </tr>\n",
       "  </thead>\n",
       "  <tbody>\n",
       "    <tr>\n",
       "      <th>0</th>\n",
       "      <td>CHEMBL80814</td>\n",
       "      <td>34.0</td>\n",
       "      <td>nM</td>\n",
       "      <td>COc1ccc(CCN2CCC(C(=O)NO)(S(=O)(=O)c3ccc(OC)cc3...</td>\n",
       "    </tr>\n",
       "    <tr>\n",
       "      <th>1</th>\n",
       "      <td>CHEMBL276119</td>\n",
       "      <td>9.0</td>\n",
       "      <td>nM</td>\n",
       "      <td>COc1ccc(S(=O)(=O)C2(C(=O)NO)CCN(Cc3cccc(OC)c3)...</td>\n",
       "    </tr>\n",
       "    <tr>\n",
       "      <th>2</th>\n",
       "      <td>CHEMBL78934</td>\n",
       "      <td>20.0</td>\n",
       "      <td>nM</td>\n",
       "      <td>CCCCOc1ccc(S(=O)(=O)C2(C(=O)NO)CCN(Cc3ccc(Cl)c...</td>\n",
       "    </tr>\n",
       "    <tr>\n",
       "      <th>3</th>\n",
       "      <td>CHEMBL78369</td>\n",
       "      <td>3.0</td>\n",
       "      <td>nM</td>\n",
       "      <td>O=C(NO)C1(S(=O)(=O)c2ccc(OCc3ccccc3)cc2)CCN(Cc...</td>\n",
       "    </tr>\n",
       "    <tr>\n",
       "      <th>4</th>\n",
       "      <td>CHEMBL514138</td>\n",
       "      <td>9.0</td>\n",
       "      <td>nM</td>\n",
       "      <td>COc1ccc(S(=O)(=O)N(Cc2cccnc2)[C@@H](C(=O)NO)C(...</td>\n",
       "    </tr>\n",
       "    <tr>\n",
       "      <th>5</th>\n",
       "      <td>CHEMBL80453</td>\n",
       "      <td>44.0</td>\n",
       "      <td>nM</td>\n",
       "      <td>COc1ccc(S(=O)(=O)C2(C(=O)NO)CCN(CCCOc3ccccc3)C...</td>\n",
       "    </tr>\n",
       "    <tr>\n",
       "      <th>6</th>\n",
       "      <td>CHEMBL312432</td>\n",
       "      <td>6.0</td>\n",
       "      <td>nM</td>\n",
       "      <td>Cc1ccc(CN2CCC(C(=O)NO)(S(=O)(=O)c3ccc(OCc4ccc(...</td>\n",
       "    </tr>\n",
       "    <tr>\n",
       "      <th>7</th>\n",
       "      <td>CHEMBL306617</td>\n",
       "      <td>5.0</td>\n",
       "      <td>nM</td>\n",
       "      <td>CCCCOc1ccc(S(=O)(=O)C2(C(=O)NO)CCN(CCOc3ccccc3...</td>\n",
       "    </tr>\n",
       "    <tr>\n",
       "      <th>8</th>\n",
       "      <td>CHEMBL79111</td>\n",
       "      <td>43.0</td>\n",
       "      <td>nM</td>\n",
       "      <td>CCCCOc1ccc(S(=O)(=O)C2(C(=O)NO)CCN(CC)CC2)cc1</td>\n",
       "    </tr>\n",
       "    <tr>\n",
       "      <th>9</th>\n",
       "      <td>CHEMBL78798</td>\n",
       "      <td>2.0</td>\n",
       "      <td>nM</td>\n",
       "      <td>CCCCOc1ccc(S(=O)(=O)C2(C(=O)NO)CCN(Cc3ccc(OCCN...</td>\n",
       "    </tr>\n",
       "  </tbody>\n",
       "</table>\n",
       "</div>"
      ],
      "text/plain": [
       "  molecule_chembl_id  IC50 units  \\\n",
       "0        CHEMBL80814  34.0    nM   \n",
       "1       CHEMBL276119   9.0    nM   \n",
       "2        CHEMBL78934  20.0    nM   \n",
       "3        CHEMBL78369   3.0    nM   \n",
       "4       CHEMBL514138   9.0    nM   \n",
       "5        CHEMBL80453  44.0    nM   \n",
       "6       CHEMBL312432   6.0    nM   \n",
       "7       CHEMBL306617   5.0    nM   \n",
       "8        CHEMBL79111  43.0    nM   \n",
       "9        CHEMBL78798   2.0    nM   \n",
       "\n",
       "                                              smiles  \n",
       "0  COc1ccc(CCN2CCC(C(=O)NO)(S(=O)(=O)c3ccc(OC)cc3...  \n",
       "1  COc1ccc(S(=O)(=O)C2(C(=O)NO)CCN(Cc3cccc(OC)c3)...  \n",
       "2  CCCCOc1ccc(S(=O)(=O)C2(C(=O)NO)CCN(Cc3ccc(Cl)c...  \n",
       "3  O=C(NO)C1(S(=O)(=O)c2ccc(OCc3ccccc3)cc2)CCN(Cc...  \n",
       "4  COc1ccc(S(=O)(=O)N(Cc2cccnc2)[C@@H](C(=O)NO)C(...  \n",
       "5  COc1ccc(S(=O)(=O)C2(C(=O)NO)CCN(CCCOc3ccccc3)C...  \n",
       "6  Cc1ccc(CN2CCC(C(=O)NO)(S(=O)(=O)c3ccc(OCc4ccc(...  \n",
       "7  CCCCOc1ccc(S(=O)(=O)C2(C(=O)NO)CCN(CCOc3ccccc3...  \n",
       "8      CCCCOc1ccc(S(=O)(=O)C2(C(=O)NO)CCN(CC)CC2)cc1  \n",
       "9  CCCCOc1ccc(S(=O)(=O)C2(C(=O)NO)CCN(Cc3ccc(OCCN...  "
      ]
     },
     "execution_count": 97,
     "metadata": {},
     "output_type": "execute_result"
    }
   ],
   "source": [
    "output_df.head(10)"
   ]
  },
  {
   "cell_type": "code",
   "execution_count": 98,
   "metadata": {},
   "outputs": [
    {
     "data": {
      "text/html": [
       "<div>\n",
       "<style scoped>\n",
       "    .dataframe tbody tr th:only-of-type {\n",
       "        vertical-align: middle;\n",
       "    }\n",
       "\n",
       "    .dataframe tbody tr th {\n",
       "        vertical-align: top;\n",
       "    }\n",
       "\n",
       "    .dataframe thead th {\n",
       "        text-align: right;\n",
       "    }\n",
       "</style>\n",
       "<table border=\"1\" class=\"dataframe\">\n",
       "  <thead>\n",
       "    <tr style=\"text-align: right;\">\n",
       "      <th></th>\n",
       "      <th>molecule_chembl_id</th>\n",
       "      <th>IC50</th>\n",
       "      <th>units</th>\n",
       "      <th>smiles</th>\n",
       "      <th>pIC50</th>\n",
       "    </tr>\n",
       "  </thead>\n",
       "  <tbody>\n",
       "    <tr>\n",
       "      <th>0</th>\n",
       "      <td>CHEMBL80814</td>\n",
       "      <td>34.0</td>\n",
       "      <td>nM</td>\n",
       "      <td>COc1ccc(CCN2CCC(C(=O)NO)(S(=O)(=O)c3ccc(OC)cc3...</td>\n",
       "      <td>7.468521</td>\n",
       "    </tr>\n",
       "    <tr>\n",
       "      <th>1</th>\n",
       "      <td>CHEMBL276119</td>\n",
       "      <td>9.0</td>\n",
       "      <td>nM</td>\n",
       "      <td>COc1ccc(S(=O)(=O)C2(C(=O)NO)CCN(Cc3cccc(OC)c3)...</td>\n",
       "      <td>8.045757</td>\n",
       "    </tr>\n",
       "    <tr>\n",
       "      <th>2</th>\n",
       "      <td>CHEMBL78934</td>\n",
       "      <td>20.0</td>\n",
       "      <td>nM</td>\n",
       "      <td>CCCCOc1ccc(S(=O)(=O)C2(C(=O)NO)CCN(Cc3ccc(Cl)c...</td>\n",
       "      <td>7.698970</td>\n",
       "    </tr>\n",
       "    <tr>\n",
       "      <th>3</th>\n",
       "      <td>CHEMBL78369</td>\n",
       "      <td>3.0</td>\n",
       "      <td>nM</td>\n",
       "      <td>O=C(NO)C1(S(=O)(=O)c2ccc(OCc3ccccc3)cc2)CCN(Cc...</td>\n",
       "      <td>8.522879</td>\n",
       "    </tr>\n",
       "    <tr>\n",
       "      <th>4</th>\n",
       "      <td>CHEMBL514138</td>\n",
       "      <td>9.0</td>\n",
       "      <td>nM</td>\n",
       "      <td>COc1ccc(S(=O)(=O)N(Cc2cccnc2)[C@@H](C(=O)NO)C(...</td>\n",
       "      <td>8.045757</td>\n",
       "    </tr>\n",
       "  </tbody>\n",
       "</table>\n",
       "</div>"
      ],
      "text/plain": [
       "  molecule_chembl_id  IC50 units  \\\n",
       "0        CHEMBL80814  34.0    nM   \n",
       "1       CHEMBL276119   9.0    nM   \n",
       "2        CHEMBL78934  20.0    nM   \n",
       "3        CHEMBL78369   3.0    nM   \n",
       "4       CHEMBL514138   9.0    nM   \n",
       "\n",
       "                                              smiles     pIC50  \n",
       "0  COc1ccc(CCN2CCC(C(=O)NO)(S(=O)(=O)c3ccc(OC)cc3...  7.468521  \n",
       "1  COc1ccc(S(=O)(=O)C2(C(=O)NO)CCN(Cc3cccc(OC)c3)...  8.045757  \n",
       "2  CCCCOc1ccc(S(=O)(=O)C2(C(=O)NO)CCN(Cc3ccc(Cl)c...  7.698970  \n",
       "3  O=C(NO)C1(S(=O)(=O)c2ccc(OCc3ccccc3)cc2)CCN(Cc...  8.522879  \n",
       "4  COc1ccc(S(=O)(=O)N(Cc2cccnc2)[C@@H](C(=O)NO)C(...  8.045757  "
      ]
     },
     "execution_count": 98,
     "metadata": {},
     "output_type": "execute_result"
    }
   ],
   "source": [
    "def convert_ic50_to_pic50(IC50_value):\n",
    "    \"\"\"\n",
    "    Converts IC50 values to pIC50 values.\n",
    "    Handles invalid IC50 values by returning NaN.\n",
    "    \"\"\"\n",
    "    try:\n",
    "        # Attempt to calculate pIC50 if IC50 is positive\n",
    "        if IC50_value > 0:\n",
    "            pIC50_value = 9 - math.log10(IC50_value)\n",
    "            return pIC50_value\n",
    "        else:\n",
    "            # Return NaN for non-positive IC50 values\n",
    "            return float('nan')\n",
    "    except ValueError:\n",
    "        # Return NaN if any other ValueError occurs\n",
    "        return float('nan')\n",
    "\n",
    "output_df[\"pIC50\"] = output_df.apply(lambda x: convert_ic50_to_pic50(x.IC50), axis=1)\n",
    "output_df.dropna(inplace=True)\n",
    "output_df.head()"
   ]
  },
  {
   "cell_type": "code",
   "execution_count": 99,
   "metadata": {},
   "outputs": [
    {
     "data": {
      "text/plain": [
       "array([[<Axes: title={'center': 'pIC50'}>]], dtype=object)"
      ]
     },
     "execution_count": 99,
     "metadata": {},
     "output_type": "execute_result"
    },
    {
     "data": {
      "image/png": "[encoded data removed]",
      "text/plain": [
       "<Figure size 640x480 with 1 Axes>"
      ]
     },
     "metadata": {},
     "output_type": "display_data"
    }
   ],
   "source": [
    "output_df.hist(column=\"pIC50\")"
   ]
  },
  {
   "cell_type": "code",
   "execution_count": 100,
   "metadata": {},
   "outputs": [
    {
     "data": {
      "text/html": [
       "<div>\n",
       "<style scoped>\n",
       "    .dataframe tbody tr th:only-of-type {\n",
       "        vertical-align: middle;\n",
       "    }\n",
       "\n",
       "    .dataframe tbody tr th {\n",
       "        vertical-align: top;\n",
       "    }\n",
       "\n",
       "    .dataframe thead th {\n",
       "        text-align: right;\n",
       "    }\n",
       "</style>\n",
       "<table border=\"1\" class=\"dataframe\">\n",
       "  <thead>\n",
       "    <tr style=\"text-align: right;\">\n",
       "      <th></th>\n",
       "      <th>smiles</th>\n",
       "      <th>pIC50</th>\n",
       "    </tr>\n",
       "  </thead>\n",
       "  <tbody>\n",
       "    <tr>\n",
       "      <th>0</th>\n",
       "      <td>COc1ccc(CCN2CCC(C(=O)NO)(S(=O)(=O)c3ccc(OC)cc3...</td>\n",
       "      <td>7.468521</td>\n",
       "    </tr>\n",
       "    <tr>\n",
       "      <th>1</th>\n",
       "      <td>COc1ccc(S(=O)(=O)C2(C(=O)NO)CCN(Cc3cccc(OC)c3)...</td>\n",
       "      <td>8.045757</td>\n",
       "    </tr>\n",
       "    <tr>\n",
       "      <th>2</th>\n",
       "      <td>CCCCOc1ccc(S(=O)(=O)C2(C(=O)NO)CCN(Cc3ccc(Cl)c...</td>\n",
       "      <td>7.698970</td>\n",
       "    </tr>\n",
       "    <tr>\n",
       "      <th>3</th>\n",
       "      <td>O=C(NO)C1(S(=O)(=O)c2ccc(OCc3ccccc3)cc2)CCN(Cc...</td>\n",
       "      <td>8.522879</td>\n",
       "    </tr>\n",
       "    <tr>\n",
       "      <th>4</th>\n",
       "      <td>COc1ccc(S(=O)(=O)N(Cc2cccnc2)[C@@H](C(=O)NO)C(...</td>\n",
       "      <td>8.045757</td>\n",
       "    </tr>\n",
       "    <tr>\n",
       "      <th>...</th>\n",
       "      <td>...</td>\n",
       "      <td>...</td>\n",
       "    </tr>\n",
       "    <tr>\n",
       "      <th>2044</th>\n",
       "      <td>CCCCCCN([C@@H](C(=O)O)C(C)C)S(=O)(=O)c1ccc(-c2...</td>\n",
       "      <td>6.482804</td>\n",
       "    </tr>\n",
       "    <tr>\n",
       "      <th>2045</th>\n",
       "      <td>CCCCCCCCN([C@@H](C(=O)O)C(C)C)S(=O)(=O)c1ccc(-...</td>\n",
       "      <td>5.397940</td>\n",
       "    </tr>\n",
       "    <tr>\n",
       "      <th>2046</th>\n",
       "      <td>Cc1ccc(-c2noc(-c3ccc(S(=O)(=O)N(Cc4ccccc4)[C@@...</td>\n",
       "      <td>7.022276</td>\n",
       "    </tr>\n",
       "    <tr>\n",
       "      <th>2047</th>\n",
       "      <td>Cc1ccc(-c2noc(-c3ccc(S(=O)(=O)N(CCCCCCCCCCCCN=...</td>\n",
       "      <td>6.030118</td>\n",
       "    </tr>\n",
       "    <tr>\n",
       "      <th>2048</th>\n",
       "      <td>Cc1ccc(-c2noc(-c3ccc(S(=O)(=O)N(CCOCOCCCOCCN=[...</td>\n",
       "      <td>7.443697</td>\n",
       "    </tr>\n",
       "  </tbody>\n",
       "</table>\n",
       "<p>2048 rows × 2 columns</p>\n",
       "</div>"
      ],
      "text/plain": [
       "                                                 smiles     pIC50\n",
       "0     COc1ccc(CCN2CCC(C(=O)NO)(S(=O)(=O)c3ccc(OC)cc3...  7.468521\n",
       "1     COc1ccc(S(=O)(=O)C2(C(=O)NO)CCN(Cc3cccc(OC)c3)...  8.045757\n",
       "2     CCCCOc1ccc(S(=O)(=O)C2(C(=O)NO)CCN(Cc3ccc(Cl)c...  7.698970\n",
       "3     O=C(NO)C1(S(=O)(=O)c2ccc(OCc3ccccc3)cc2)CCN(Cc...  8.522879\n",
       "4     COc1ccc(S(=O)(=O)N(Cc2cccnc2)[C@@H](C(=O)NO)C(...  8.045757\n",
       "...                                                 ...       ...\n",
       "2044  CCCCCCN([C@@H](C(=O)O)C(C)C)S(=O)(=O)c1ccc(-c2...  6.482804\n",
       "2045  CCCCCCCCN([C@@H](C(=O)O)C(C)C)S(=O)(=O)c1ccc(-...  5.397940\n",
       "2046  Cc1ccc(-c2noc(-c3ccc(S(=O)(=O)N(Cc4ccccc4)[C@@...  7.022276\n",
       "2047  Cc1ccc(-c2noc(-c3ccc(S(=O)(=O)N(CCCCCCCCCCCCN=...  6.030118\n",
       "2048  Cc1ccc(-c2noc(-c3ccc(S(=O)(=O)N(CCOCOCCCOCCN=[...  7.443697\n",
       "\n",
       "[2048 rows x 2 columns]"
      ]
     },
     "execution_count": 100,
     "metadata": {},
     "output_type": "execute_result"
    }
   ],
   "source": [
    "output_df.drop(columns=[\"molecule_chembl_id\", \"IC50\", \"units\"])"
   ]
  },
  {
   "cell_type": "code",
   "execution_count": 101,
   "metadata": {},
   "outputs": [],
   "source": [
    "output_df.to_csv(\"~/datasets/compound_bioactivity_data.csv\", index=False)"
   ]
  }
 ],
 "metadata": {
  "language_info": {
   "name": "python"
  }
 },
 "nbformat": 4,
 "nbformat_minor": 2
}
