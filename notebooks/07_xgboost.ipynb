{
 "cells": [
  {
   "cell_type": "code",
   "execution_count": 1,
   "metadata": {},
   "outputs": [
    {
     "name": "stdout",
     "output_type": "stream",
     "text": [
      "Requirement already satisfied: xgboost in /system/conda/miniconda3/envs/cloudspace/lib/python3.9/site-packages (2.1.3)\n",
      "Requirement already satisfied: shap in /system/conda/miniconda3/envs/cloudspace/lib/python3.9/site-packages (0.46.0)\n",
      "Requirement already satisfied: numpy in /system/conda/miniconda3/envs/cloudspace/lib/python3.9/site-packages (from xgboost) (1.26.4)\n",
      "Requirement already satisfied: nvidia-nccl-cu12 in /system/conda/miniconda3/envs/cloudspace/lib/python3.9/site-packages (from xgboost) (2.21.5)\n",
      "Requirement already satisfied: scipy in /system/conda/miniconda3/envs/cloudspace/lib/python3.9/site-packages (from xgboost) (1.11.4)\n",
      "Requirement already satisfied: scikit-learn in /system/conda/miniconda3/envs/cloudspace/lib/python3.9/site-packages (from shap) (1.4.2)\n",
      "Requirement already satisfied: pandas in /system/conda/miniconda3/envs/cloudspace/lib/python3.9/site-packages (from shap) (2.1.4)\n",
      "Requirement already satisfied: tqdm>=4.27.0 in /system/conda/miniconda3/envs/cloudspace/lib/python3.9/site-packages (from shap) (4.67.1)\n",
      "Requirement already satisfied: packaging>20.9 in /system/conda/miniconda3/envs/cloudspace/lib/python3.9/site-packages (from shap) (24.2)\n",
      "Requirement already satisfied: slicer==0.0.8 in /system/conda/miniconda3/envs/cloudspace/lib/python3.9/site-packages (from shap) (0.0.8)\n",
      "Requirement already satisfied: numba in /system/conda/miniconda3/envs/cloudspace/lib/python3.9/site-packages (from shap) (0.60.0)\n",
      "Requirement already satisfied: cloudpickle in /system/conda/miniconda3/envs/cloudspace/lib/python3.9/site-packages (from shap) (3.1.1)\n",
      "Requirement already satisfied: llvmlite<0.44,>=0.43.0dev0 in /system/conda/miniconda3/envs/cloudspace/lib/python3.9/site-packages (from numba->shap) (0.43.0)\n",
      "Requirement already satisfied: python-dateutil>=2.8.2 in /system/conda/miniconda3/envs/cloudspace/lib/python3.9/site-packages (from pandas->shap) (2.9.0.post0)\n",
      "Requirement already satisfied: pytz>=2020.1 in /system/conda/miniconda3/envs/cloudspace/lib/python3.9/site-packages (from pandas->shap) (2024.1)\n",
      "Requirement already satisfied: tzdata>=2022.1 in /system/conda/miniconda3/envs/cloudspace/lib/python3.9/site-packages (from pandas->shap) (2025.1)\n",
      "Requirement already satisfied: joblib>=1.2.0 in /system/conda/miniconda3/envs/cloudspace/lib/python3.9/site-packages (from scikit-learn->shap) (1.3.2)\n",
      "Requirement already satisfied: threadpoolctl>=2.0.0 in /system/conda/miniconda3/envs/cloudspace/lib/python3.9/site-packages (from scikit-learn->shap) (3.5.0)\n",
      "Requirement already satisfied: six>=1.5 in /system/conda/miniconda3/envs/cloudspace/lib/python3.9/site-packages (from python-dateutil>=2.8.2->pandas->shap) (1.17.0)\n",
      "Packages downloaded successfully\n"
     ]
    }
   ],
   "source": [
    "!pip install xgboost shap\n",
    "print(\"Packages downloaded successfully\")"
   ]
  },
  {
   "cell_type": "code",
   "execution_count": 2,
   "metadata": {},
   "outputs": [],
   "source": [
    "import pandas as pd\n",
    "from sklearn.model_selection import train_test_split"
   ]
  },
  {
   "cell_type": "code",
   "execution_count": 3,
   "metadata": {},
   "outputs": [],
   "source": [
    "morgan_dataset = pd.read_csv(\"~/datasets/morgan_dataset.csv\")\n",
    "ap_dataset = pd.read_csv(\"~/datasets/ap_dataset.csv\")\n",
    "rdk5_dataset = pd.read_csv(\"~/datasets/rdk5_dataset.csv\")"
   ]
  },
  {
   "cell_type": "code",
   "execution_count": 4,
   "metadata": {},
   "outputs": [],
   "source": [
    "# Ensure datasets are aligned (optional if already aligned)\n",
    "morgan_dataset, ap_dataset = morgan_dataset.align(ap_dataset, join='inner', axis=0)\n",
    "morgan_dataset, rdk5_dataset = morgan_dataset.align(rdk5_dataset, join='inner', axis=0)\n",
    "\n",
    "# Split morgan_dataset into training and testing sets (80% train, 20% test)\n",
    "morgan_train, morgan_test = train_test_split(morgan_dataset, test_size=0.2, random_state=42)\n",
    "\n",
    "# Now split ap_dataset and rdk5_dataset based on the indices of the split\n",
    "ap_train = ap_dataset.loc[morgan_train.index]  # Use the same indices from morgan_train\n",
    "ap_test = ap_dataset.loc[morgan_test.index]  # Use the same indices from morgan_test\n",
    "\n",
    "rdk5_train = rdk5_dataset.loc[morgan_train.index]  # Use the same indices from morgan_train\n",
    "rdk5_test = rdk5_dataset.loc[morgan_test.index]  # Use the same indices from morgan_test\n",
    "\n",
    "# Split based on 'activity' as the target\n",
    "X_morgan_train_activity = morgan_train.drop(columns=['activity', 'pIC50'])\n",
    "y_morgan_train_activity = morgan_train['activity']\n",
    "\n",
    "X_morgan_test_activity = morgan_test.drop(columns=['activity', 'pIC50'])\n",
    "y_morgan_test_activity = morgan_test['activity']\n",
    "\n",
    "X_ap_train_activity = ap_train.drop(columns=['activity', 'pIC50'])\n",
    "y_ap_train_activity = ap_train['activity']\n",
    "\n",
    "X_ap_test_activity = ap_test.drop(columns=['activity', 'pIC50'])\n",
    "y_ap_test_activity = ap_test['activity']\n",
    "\n",
    "X_rdk5_train_activity = rdk5_train.drop(columns=['activity', 'pIC50'])\n",
    "y_rdk5_train_activity = rdk5_train['activity']\n",
    "\n",
    "X_rdk5_test_activity = rdk5_test.drop(columns=['activity', 'pIC50'])\n",
    "y_rdk5_test_activity = rdk5_test['activity']"
   ]
  },
  {
   "cell_type": "code",
   "execution_count": 5,
   "metadata": {},
   "outputs": [],
   "source": [
    "import os\n",
    "\n",
    "# Expand `~` to the absolute home directory path\n",
    "os.makedirs(os.path.expanduser(\"~/datasets/xgb\"), exist_ok=True)"
   ]
  },
  {
   "cell_type": "code",
   "execution_count": 6,
   "metadata": {},
   "outputs": [
    {
     "name": "stdout",
     "output_type": "stream",
     "text": [
      "Trial 1/40 - Training XGBoost for morgan fingerprints...\n"
     ]
    },
    {
     "name": "stderr",
     "output_type": "stream",
     "text": [
      "/home/zeus/miniconda3/envs/cloudspace/lib/python3.9/site-packages/xgboost/core.py:158: UserWarning: [23:28:24] WARNING: /workspace/src/learner.cc:740: \n",
      "Parameters: { \"use_label_encoder\" } are not used.\n",
      "\n",
      "  warnings.warn(smsg, UserWarning)\n"
     ]
    },
    {
     "name": "stdout",
     "output_type": "stream",
     "text": [
      "Trial 1 - morgan Accuracy: 0.9293\n",
      "Trial 1 - Running SHAP analysis for morgan fingerprints...\n",
      "Trial 2/40 - Training XGBoost for morgan fingerprints...\n"
     ]
    },
    {
     "name": "stderr",
     "output_type": "stream",
     "text": [
      "/home/zeus/miniconda3/envs/cloudspace/lib/python3.9/site-packages/xgboost/core.py:158: UserWarning: [23:28:38] WARNING: /workspace/src/learner.cc:740: \n",
      "Parameters: { \"use_label_encoder\" } are not used.\n",
      "\n",
      "  warnings.warn(smsg, UserWarning)\n"
     ]
    },
    {
     "name": "stdout",
     "output_type": "stream",
     "text": [
      "Trial 2 - morgan Accuracy: 0.9293\n",
      "Trial 2 - Running SHAP analysis for morgan fingerprints...\n",
      "Trial 3/40 - Training XGBoost for morgan fingerprints...\n"
     ]
    },
    {
     "name": "stderr",
     "output_type": "stream",
     "text": [
      "/home/zeus/miniconda3/envs/cloudspace/lib/python3.9/site-packages/xgboost/core.py:158: UserWarning: [23:28:49] WARNING: /workspace/src/learner.cc:740: \n",
      "Parameters: { \"use_label_encoder\" } are not used.\n",
      "\n",
      "  warnings.warn(smsg, UserWarning)\n"
     ]
    },
    {
     "name": "stdout",
     "output_type": "stream",
     "text": [
      "Trial 3 - morgan Accuracy: 0.9293\n",
      "Trial 3 - Running SHAP analysis for morgan fingerprints...\n",
      "Trial 4/40 - Training XGBoost for morgan fingerprints...\n"
     ]
    },
    {
     "name": "stderr",
     "output_type": "stream",
     "text": [
      "/home/zeus/miniconda3/envs/cloudspace/lib/python3.9/site-packages/xgboost/core.py:158: UserWarning: [23:28:57] WARNING: /workspace/src/learner.cc:740: \n",
      "Parameters: { \"use_label_encoder\" } are not used.\n",
      "\n",
      "  warnings.warn(smsg, UserWarning)\n"
     ]
    },
    {
     "name": "stdout",
     "output_type": "stream",
     "text": [
      "Trial 4 - morgan Accuracy: 0.9293\n",
      "Trial 4 - Running SHAP analysis for morgan fingerprints...\n",
      "Trial 5/40 - Training XGBoost for morgan fingerprints...\n"
     ]
    },
    {
     "name": "stderr",
     "output_type": "stream",
     "text": [
      "/home/zeus/miniconda3/envs/cloudspace/lib/python3.9/site-packages/xgboost/core.py:158: UserWarning: [23:29:00] WARNING: /workspace/src/learner.cc:740: \n",
      "Parameters: { \"use_label_encoder\" } are not used.\n",
      "\n",
      "  warnings.warn(smsg, UserWarning)\n"
     ]
    },
    {
     "name": "stdout",
     "output_type": "stream",
     "text": [
      "Trial 5 - morgan Accuracy: 0.9293\n",
      "Trial 5 - Running SHAP analysis for morgan fingerprints...\n",
      "Trial 6/40 - Training XGBoost for morgan fingerprints...\n"
     ]
    },
    {
     "name": "stderr",
     "output_type": "stream",
     "text": [
      "/home/zeus/miniconda3/envs/cloudspace/lib/python3.9/site-packages/xgboost/core.py:158: UserWarning: [23:29:02] WARNING: /workspace/src/learner.cc:740: \n",
      "Parameters: { \"use_label_encoder\" } are not used.\n",
      "\n",
      "  warnings.warn(smsg, UserWarning)\n"
     ]
    },
    {
     "name": "stdout",
     "output_type": "stream",
     "text": [
      "Trial 6 - morgan Accuracy: 0.9293\n",
      "Trial 6 - Running SHAP analysis for morgan fingerprints...\n",
      "Trial 7/40 - Training XGBoost for morgan fingerprints...\n"
     ]
    },
    {
     "name": "stderr",
     "output_type": "stream",
     "text": [
      "/home/zeus/miniconda3/envs/cloudspace/lib/python3.9/site-packages/xgboost/core.py:158: UserWarning: [23:29:07] WARNING: /workspace/src/learner.cc:740: \n",
      "Parameters: { \"use_label_encoder\" } are not used.\n",
      "\n",
      "  warnings.warn(smsg, UserWarning)\n"
     ]
    },
    {
     "name": "stdout",
     "output_type": "stream",
     "text": [
      "Trial 7 - morgan Accuracy: 0.9293\n",
      "Trial 7 - Running SHAP analysis for morgan fingerprints...\n",
      "Trial 8/40 - Training XGBoost for morgan fingerprints...\n"
     ]
    },
    {
     "name": "stderr",
     "output_type": "stream",
     "text": [
      "/home/zeus/miniconda3/envs/cloudspace/lib/python3.9/site-packages/xgboost/core.py:158: UserWarning: [23:29:09] WARNING: /workspace/src/learner.cc:740: \n",
      "Parameters: { \"use_label_encoder\" } are not used.\n",
      "\n",
      "  warnings.warn(smsg, UserWarning)\n"
     ]
    },
    {
     "name": "stdout",
     "output_type": "stream",
     "text": [
      "Trial 8 - morgan Accuracy: 0.9293\n",
      "Trial 8 - Running SHAP analysis for morgan fingerprints...\n",
      "Trial 9/40 - Training XGBoost for morgan fingerprints...\n"
     ]
    },
    {
     "name": "stderr",
     "output_type": "stream",
     "text": [
      "/home/zeus/miniconda3/envs/cloudspace/lib/python3.9/site-packages/xgboost/core.py:158: UserWarning: [23:29:11] WARNING: /workspace/src/learner.cc:740: \n",
      "Parameters: { \"use_label_encoder\" } are not used.\n",
      "\n",
      "  warnings.warn(smsg, UserWarning)\n"
     ]
    },
    {
     "name": "stdout",
     "output_type": "stream",
     "text": [
      "Trial 9 - morgan Accuracy: 0.9293\n",
      "Trial 9 - Running SHAP analysis for morgan fingerprints...\n",
      "Trial 10/40 - Training XGBoost for morgan fingerprints...\n"
     ]
    },
    {
     "name": "stderr",
     "output_type": "stream",
     "text": [
      "/home/zeus/miniconda3/envs/cloudspace/lib/python3.9/site-packages/xgboost/core.py:158: UserWarning: [23:29:13] WARNING: /workspace/src/learner.cc:740: \n",
      "Parameters: { \"use_label_encoder\" } are not used.\n",
      "\n",
      "  warnings.warn(smsg, UserWarning)\n"
     ]
    },
    {
     "name": "stdout",
     "output_type": "stream",
     "text": [
      "Trial 10 - morgan Accuracy: 0.9293\n",
      "Trial 10 - Running SHAP analysis for morgan fingerprints...\n",
      "Trial 11/40 - Training XGBoost for morgan fingerprints...\n"
     ]
    },
    {
     "name": "stderr",
     "output_type": "stream",
     "text": [
      "/home/zeus/miniconda3/envs/cloudspace/lib/python3.9/site-packages/xgboost/core.py:158: UserWarning: [23:29:16] WARNING: /workspace/src/learner.cc:740: \n",
      "Parameters: { \"use_label_encoder\" } are not used.\n",
      "\n",
      "  warnings.warn(smsg, UserWarning)\n"
     ]
    },
    {
     "name": "stdout",
     "output_type": "stream",
     "text": [
      "Trial 11 - morgan Accuracy: 0.9293\n",
      "Trial 11 - Running SHAP analysis for morgan fingerprints...\n",
      "Trial 12/40 - Training XGBoost for morgan fingerprints...\n"
     ]
    },
    {
     "name": "stderr",
     "output_type": "stream",
     "text": [
      "/home/zeus/miniconda3/envs/cloudspace/lib/python3.9/site-packages/xgboost/core.py:158: UserWarning: [23:29:18] WARNING: /workspace/src/learner.cc:740: \n",
      "Parameters: { \"use_label_encoder\" } are not used.\n",
      "\n",
      "  warnings.warn(smsg, UserWarning)\n"
     ]
    },
    {
     "name": "stdout",
     "output_type": "stream",
     "text": [
      "Trial 12 - morgan Accuracy: 0.9293\n",
      "Trial 12 - Running SHAP analysis for morgan fingerprints...\n",
      "Trial 13/40 - Training XGBoost for morgan fingerprints...\n"
     ]
    },
    {
     "name": "stderr",
     "output_type": "stream",
     "text": [
      "/home/zeus/miniconda3/envs/cloudspace/lib/python3.9/site-packages/xgboost/core.py:158: UserWarning: [23:29:20] WARNING: /workspace/src/learner.cc:740: \n",
      "Parameters: { \"use_label_encoder\" } are not used.\n",
      "\n",
      "  warnings.warn(smsg, UserWarning)\n"
     ]
    },
    {
     "name": "stdout",
     "output_type": "stream",
     "text": [
      "Trial 13 - morgan Accuracy: 0.9293\n",
      "Trial 13 - Running SHAP analysis for morgan fingerprints...\n",
      "Trial 14/40 - Training XGBoost for morgan fingerprints...\n"
     ]
    },
    {
     "name": "stderr",
     "output_type": "stream",
     "text": [
      "/home/zeus/miniconda3/envs/cloudspace/lib/python3.9/site-packages/xgboost/core.py:158: UserWarning: [23:29:23] WARNING: /workspace/src/learner.cc:740: \n",
      "Parameters: { \"use_label_encoder\" } are not used.\n",
      "\n",
      "  warnings.warn(smsg, UserWarning)\n"
     ]
    },
    {
     "name": "stdout",
     "output_type": "stream",
     "text": [
      "Trial 14 - morgan Accuracy: 0.9293\n",
      "Trial 14 - Running SHAP analysis for morgan fingerprints...\n",
      "Trial 15/40 - Training XGBoost for morgan fingerprints...\n"
     ]
    },
    {
     "name": "stderr",
     "output_type": "stream",
     "text": [
      "/home/zeus/miniconda3/envs/cloudspace/lib/python3.9/site-packages/xgboost/core.py:158: UserWarning: [23:29:25] WARNING: /workspace/src/learner.cc:740: \n",
      "Parameters: { \"use_label_encoder\" } are not used.\n",
      "\n",
      "  warnings.warn(smsg, UserWarning)\n"
     ]
    },
    {
     "name": "stdout",
     "output_type": "stream",
     "text": [
      "Trial 15 - morgan Accuracy: 0.9293\n",
      "Trial 15 - Running SHAP analysis for morgan fingerprints...\n",
      "Trial 16/40 - Training XGBoost for morgan fingerprints...\n"
     ]
    },
    {
     "name": "stderr",
     "output_type": "stream",
     "text": [
      "/home/zeus/miniconda3/envs/cloudspace/lib/python3.9/site-packages/xgboost/core.py:158: UserWarning: [23:29:27] WARNING: /workspace/src/learner.cc:740: \n",
      "Parameters: { \"use_label_encoder\" } are not used.\n",
      "\n",
      "  warnings.warn(smsg, UserWarning)\n"
     ]
    },
    {
     "name": "stdout",
     "output_type": "stream",
     "text": [
      "Trial 16 - morgan Accuracy: 0.9293\n",
      "Trial 16 - Running SHAP analysis for morgan fingerprints...\n",
      "Trial 17/40 - Training XGBoost for morgan fingerprints...\n"
     ]
    },
    {
     "name": "stderr",
     "output_type": "stream",
     "text": [
      "/home/zeus/miniconda3/envs/cloudspace/lib/python3.9/site-packages/xgboost/core.py:158: UserWarning: [23:29:30] WARNING: /workspace/src/learner.cc:740: \n",
      "Parameters: { \"use_label_encoder\" } are not used.\n",
      "\n",
      "  warnings.warn(smsg, UserWarning)\n"
     ]
    },
    {
     "name": "stdout",
     "output_type": "stream",
     "text": [
      "Trial 17 - morgan Accuracy: 0.9293\n",
      "Trial 17 - Running SHAP analysis for morgan fingerprints...\n",
      "Trial 18/40 - Training XGBoost for morgan fingerprints...\n"
     ]
    },
    {
     "name": "stderr",
     "output_type": "stream",
     "text": [
      "/home/zeus/miniconda3/envs/cloudspace/lib/python3.9/site-packages/xgboost/core.py:158: UserWarning: [23:29:32] WARNING: /workspace/src/learner.cc:740: \n",
      "Parameters: { \"use_label_encoder\" } are not used.\n",
      "\n",
      "  warnings.warn(smsg, UserWarning)\n"
     ]
    },
    {
     "name": "stdout",
     "output_type": "stream",
     "text": [
      "Trial 18 - morgan Accuracy: 0.9293\n",
      "Trial 18 - Running SHAP analysis for morgan fingerprints...\n",
      "Trial 19/40 - Training XGBoost for morgan fingerprints...\n"
     ]
    },
    {
     "name": "stderr",
     "output_type": "stream",
     "text": [
      "/home/zeus/miniconda3/envs/cloudspace/lib/python3.9/site-packages/xgboost/core.py:158: UserWarning: [23:29:34] WARNING: /workspace/src/learner.cc:740: \n",
      "Parameters: { \"use_label_encoder\" } are not used.\n",
      "\n",
      "  warnings.warn(smsg, UserWarning)\n"
     ]
    },
    {
     "name": "stdout",
     "output_type": "stream",
     "text": [
      "Trial 19 - morgan Accuracy: 0.9293\n",
      "Trial 19 - Running SHAP analysis for morgan fingerprints...\n",
      "Trial 20/40 - Training XGBoost for morgan fingerprints...\n"
     ]
    },
    {
     "name": "stderr",
     "output_type": "stream",
     "text": [
      "/home/zeus/miniconda3/envs/cloudspace/lib/python3.9/site-packages/xgboost/core.py:158: UserWarning: [23:29:37] WARNING: /workspace/src/learner.cc:740: \n",
      "Parameters: { \"use_label_encoder\" } are not used.\n",
      "\n",
      "  warnings.warn(smsg, UserWarning)\n"
     ]
    },
    {
     "name": "stdout",
     "output_type": "stream",
     "text": [
      "Trial 20 - morgan Accuracy: 0.9293\n",
      "Trial 20 - Running SHAP analysis for morgan fingerprints...\n",
      "Trial 21/40 - Training XGBoost for morgan fingerprints...\n"
     ]
    },
    {
     "name": "stderr",
     "output_type": "stream",
     "text": [
      "/home/zeus/miniconda3/envs/cloudspace/lib/python3.9/site-packages/xgboost/core.py:158: UserWarning: [23:29:39] WARNING: /workspace/src/learner.cc:740: \n",
      "Parameters: { \"use_label_encoder\" } are not used.\n",
      "\n",
      "  warnings.warn(smsg, UserWarning)\n"
     ]
    },
    {
     "name": "stdout",
     "output_type": "stream",
     "text": [
      "Trial 21 - morgan Accuracy: 0.9293\n",
      "Trial 21 - Running SHAP analysis for morgan fingerprints...\n",
      "Trial 22/40 - Training XGBoost for morgan fingerprints...\n"
     ]
    },
    {
     "name": "stderr",
     "output_type": "stream",
     "text": [
      "/home/zeus/miniconda3/envs/cloudspace/lib/python3.9/site-packages/xgboost/core.py:158: UserWarning: [23:29:41] WARNING: /workspace/src/learner.cc:740: \n",
      "Parameters: { \"use_label_encoder\" } are not used.\n",
      "\n",
      "  warnings.warn(smsg, UserWarning)\n"
     ]
    },
    {
     "name": "stdout",
     "output_type": "stream",
     "text": [
      "Trial 22 - morgan Accuracy: 0.9293\n",
      "Trial 22 - Running SHAP analysis for morgan fingerprints...\n",
      "Trial 23/40 - Training XGBoost for morgan fingerprints...\n"
     ]
    },
    {
     "name": "stderr",
     "output_type": "stream",
     "text": [
      "/home/zeus/miniconda3/envs/cloudspace/lib/python3.9/site-packages/xgboost/core.py:158: UserWarning: [23:29:43] WARNING: /workspace/src/learner.cc:740: \n",
      "Parameters: { \"use_label_encoder\" } are not used.\n",
      "\n",
      "  warnings.warn(smsg, UserWarning)\n"
     ]
    },
    {
     "name": "stdout",
     "output_type": "stream",
     "text": [
      "Trial 23 - morgan Accuracy: 0.9293\n",
      "Trial 23 - Running SHAP analysis for morgan fingerprints...\n",
      "Trial 24/40 - Training XGBoost for morgan fingerprints...\n"
     ]
    },
    {
     "name": "stderr",
     "output_type": "stream",
     "text": [
      "/home/zeus/miniconda3/envs/cloudspace/lib/python3.9/site-packages/xgboost/core.py:158: UserWarning: [23:29:46] WARNING: /workspace/src/learner.cc:740: \n",
      "Parameters: { \"use_label_encoder\" } are not used.\n",
      "\n",
      "  warnings.warn(smsg, UserWarning)\n"
     ]
    },
    {
     "name": "stdout",
     "output_type": "stream",
     "text": [
      "Trial 24 - morgan Accuracy: 0.9293\n",
      "Trial 24 - Running SHAP analysis for morgan fingerprints...\n",
      "Trial 25/40 - Training XGBoost for morgan fingerprints...\n"
     ]
    },
    {
     "name": "stderr",
     "output_type": "stream",
     "text": [
      "/home/zeus/miniconda3/envs/cloudspace/lib/python3.9/site-packages/xgboost/core.py:158: UserWarning: [23:29:49] WARNING: /workspace/src/learner.cc:740: \n",
      "Parameters: { \"use_label_encoder\" } are not used.\n",
      "\n",
      "  warnings.warn(smsg, UserWarning)\n"
     ]
    },
    {
     "name": "stdout",
     "output_type": "stream",
     "text": [
      "Trial 25 - morgan Accuracy: 0.9293\n",
      "Trial 25 - Running SHAP analysis for morgan fingerprints...\n",
      "Trial 26/40 - Training XGBoost for morgan fingerprints...\n"
     ]
    },
    {
     "name": "stderr",
     "output_type": "stream",
     "text": [
      "/home/zeus/miniconda3/envs/cloudspace/lib/python3.9/site-packages/xgboost/core.py:158: UserWarning: [23:29:52] WARNING: /workspace/src/learner.cc:740: \n",
      "Parameters: { \"use_label_encoder\" } are not used.\n",
      "\n",
      "  warnings.warn(smsg, UserWarning)\n"
     ]
    },
    {
     "name": "stdout",
     "output_type": "stream",
     "text": [
      "Trial 26 - morgan Accuracy: 0.9293\n",
      "Trial 26 - Running SHAP analysis for morgan fingerprints...\n",
      "Trial 27/40 - Training XGBoost for morgan fingerprints...\n"
     ]
    },
    {
     "name": "stderr",
     "output_type": "stream",
     "text": [
      "/home/zeus/miniconda3/envs/cloudspace/lib/python3.9/site-packages/xgboost/core.py:158: UserWarning: [23:29:54] WARNING: /workspace/src/learner.cc:740: \n",
      "Parameters: { \"use_label_encoder\" } are not used.\n",
      "\n",
      "  warnings.warn(smsg, UserWarning)\n"
     ]
    },
    {
     "name": "stdout",
     "output_type": "stream",
     "text": [
      "Trial 27 - morgan Accuracy: 0.9293\n",
      "Trial 27 - Running SHAP analysis for morgan fingerprints...\n",
      "Trial 28/40 - Training XGBoost for morgan fingerprints...\n"
     ]
    },
    {
     "name": "stderr",
     "output_type": "stream",
     "text": [
      "/home/zeus/miniconda3/envs/cloudspace/lib/python3.9/site-packages/xgboost/core.py:158: UserWarning: [23:29:56] WARNING: /workspace/src/learner.cc:740: \n",
      "Parameters: { \"use_label_encoder\" } are not used.\n",
      "\n",
      "  warnings.warn(smsg, UserWarning)\n"
     ]
    },
    {
     "name": "stdout",
     "output_type": "stream",
     "text": [
      "Trial 28 - morgan Accuracy: 0.9293\n",
      "Trial 28 - Running SHAP analysis for morgan fingerprints...\n",
      "Trial 29/40 - Training XGBoost for morgan fingerprints...\n"
     ]
    },
    {
     "name": "stderr",
     "output_type": "stream",
     "text": [
      "/home/zeus/miniconda3/envs/cloudspace/lib/python3.9/site-packages/xgboost/core.py:158: UserWarning: [23:29:58] WARNING: /workspace/src/learner.cc:740: \n",
      "Parameters: { \"use_label_encoder\" } are not used.\n",
      "\n",
      "  warnings.warn(smsg, UserWarning)\n"
     ]
    },
    {
     "name": "stdout",
     "output_type": "stream",
     "text": [
      "Trial 29 - morgan Accuracy: 0.9293\n",
      "Trial 29 - Running SHAP analysis for morgan fingerprints...\n",
      "Trial 30/40 - Training XGBoost for morgan fingerprints...\n"
     ]
    },
    {
     "name": "stderr",
     "output_type": "stream",
     "text": [
      "/home/zeus/miniconda3/envs/cloudspace/lib/python3.9/site-packages/xgboost/core.py:158: UserWarning: [23:30:00] WARNING: /workspace/src/learner.cc:740: \n",
      "Parameters: { \"use_label_encoder\" } are not used.\n",
      "\n",
      "  warnings.warn(smsg, UserWarning)\n"
     ]
    },
    {
     "name": "stdout",
     "output_type": "stream",
     "text": [
      "Trial 30 - morgan Accuracy: 0.9293\n",
      "Trial 30 - Running SHAP analysis for morgan fingerprints...\n",
      "Trial 31/40 - Training XGBoost for morgan fingerprints...\n"
     ]
    },
    {
     "name": "stderr",
     "output_type": "stream",
     "text": [
      "/home/zeus/miniconda3/envs/cloudspace/lib/python3.9/site-packages/xgboost/core.py:158: UserWarning: [23:30:02] WARNING: /workspace/src/learner.cc:740: \n",
      "Parameters: { \"use_label_encoder\" } are not used.\n",
      "\n",
      "  warnings.warn(smsg, UserWarning)\n"
     ]
    },
    {
     "name": "stdout",
     "output_type": "stream",
     "text": [
      "Trial 31 - morgan Accuracy: 0.9293\n",
      "Trial 31 - Running SHAP analysis for morgan fingerprints...\n",
      "Trial 32/40 - Training XGBoost for morgan fingerprints...\n"
     ]
    },
    {
     "name": "stderr",
     "output_type": "stream",
     "text": [
      "/home/zeus/miniconda3/envs/cloudspace/lib/python3.9/site-packages/xgboost/core.py:158: UserWarning: [23:30:05] WARNING: /workspace/src/learner.cc:740: \n",
      "Parameters: { \"use_label_encoder\" } are not used.\n",
      "\n",
      "  warnings.warn(smsg, UserWarning)\n"
     ]
    },
    {
     "name": "stdout",
     "output_type": "stream",
     "text": [
      "Trial 32 - morgan Accuracy: 0.9293\n",
      "Trial 32 - Running SHAP analysis for morgan fingerprints...\n",
      "Trial 33/40 - Training XGBoost for morgan fingerprints...\n"
     ]
    },
    {
     "name": "stderr",
     "output_type": "stream",
     "text": [
      "/home/zeus/miniconda3/envs/cloudspace/lib/python3.9/site-packages/xgboost/core.py:158: UserWarning: [23:30:07] WARNING: /workspace/src/learner.cc:740: \n",
      "Parameters: { \"use_label_encoder\" } are not used.\n",
      "\n",
      "  warnings.warn(smsg, UserWarning)\n"
     ]
    },
    {
     "name": "stdout",
     "output_type": "stream",
     "text": [
      "Trial 33 - morgan Accuracy: 0.9293\n",
      "Trial 33 - Running SHAP analysis for morgan fingerprints...\n",
      "Trial 34/40 - Training XGBoost for morgan fingerprints...\n"
     ]
    },
    {
     "name": "stderr",
     "output_type": "stream",
     "text": [
      "/home/zeus/miniconda3/envs/cloudspace/lib/python3.9/site-packages/xgboost/core.py:158: UserWarning: [23:30:09] WARNING: /workspace/src/learner.cc:740: \n",
      "Parameters: { \"use_label_encoder\" } are not used.\n",
      "\n",
      "  warnings.warn(smsg, UserWarning)\n"
     ]
    },
    {
     "name": "stdout",
     "output_type": "stream",
     "text": [
      "Trial 34 - morgan Accuracy: 0.9293\n",
      "Trial 34 - Running SHAP analysis for morgan fingerprints...\n",
      "Trial 35/40 - Training XGBoost for morgan fingerprints...\n"
     ]
    },
    {
     "name": "stderr",
     "output_type": "stream",
     "text": [
      "/home/zeus/miniconda3/envs/cloudspace/lib/python3.9/site-packages/xgboost/core.py:158: UserWarning: [23:30:12] WARNING: /workspace/src/learner.cc:740: \n",
      "Parameters: { \"use_label_encoder\" } are not used.\n",
      "\n",
      "  warnings.warn(smsg, UserWarning)\n"
     ]
    },
    {
     "name": "stdout",
     "output_type": "stream",
     "text": [
      "Trial 35 - morgan Accuracy: 0.9293\n",
      "Trial 35 - Running SHAP analysis for morgan fingerprints...\n",
      "Trial 36/40 - Training XGBoost for morgan fingerprints...\n"
     ]
    },
    {
     "name": "stderr",
     "output_type": "stream",
     "text": [
      "/home/zeus/miniconda3/envs/cloudspace/lib/python3.9/site-packages/xgboost/core.py:158: UserWarning: [23:30:14] WARNING: /workspace/src/learner.cc:740: \n",
      "Parameters: { \"use_label_encoder\" } are not used.\n",
      "\n",
      "  warnings.warn(smsg, UserWarning)\n"
     ]
    },
    {
     "name": "stdout",
     "output_type": "stream",
     "text": [
      "Trial 36 - morgan Accuracy: 0.9293\n",
      "Trial 36 - Running SHAP analysis for morgan fingerprints...\n",
      "Trial 37/40 - Training XGBoost for morgan fingerprints...\n"
     ]
    },
    {
     "name": "stderr",
     "output_type": "stream",
     "text": [
      "/home/zeus/miniconda3/envs/cloudspace/lib/python3.9/site-packages/xgboost/core.py:158: UserWarning: [23:30:17] WARNING: /workspace/src/learner.cc:740: \n",
      "Parameters: { \"use_label_encoder\" } are not used.\n",
      "\n",
      "  warnings.warn(smsg, UserWarning)\n"
     ]
    },
    {
     "name": "stdout",
     "output_type": "stream",
     "text": [
      "Trial 37 - morgan Accuracy: 0.9293\n",
      "Trial 37 - Running SHAP analysis for morgan fingerprints...\n",
      "Trial 38/40 - Training XGBoost for morgan fingerprints...\n"
     ]
    },
    {
     "name": "stderr",
     "output_type": "stream",
     "text": [
      "/home/zeus/miniconda3/envs/cloudspace/lib/python3.9/site-packages/xgboost/core.py:158: UserWarning: [23:30:19] WARNING: /workspace/src/learner.cc:740: \n",
      "Parameters: { \"use_label_encoder\" } are not used.\n",
      "\n",
      "  warnings.warn(smsg, UserWarning)\n"
     ]
    },
    {
     "name": "stdout",
     "output_type": "stream",
     "text": [
      "Trial 38 - morgan Accuracy: 0.9293\n",
      "Trial 38 - Running SHAP analysis for morgan fingerprints...\n",
      "Trial 39/40 - Training XGBoost for morgan fingerprints...\n"
     ]
    },
    {
     "name": "stderr",
     "output_type": "stream",
     "text": [
      "/home/zeus/miniconda3/envs/cloudspace/lib/python3.9/site-packages/xgboost/core.py:158: UserWarning: [23:30:22] WARNING: /workspace/src/learner.cc:740: \n",
      "Parameters: { \"use_label_encoder\" } are not used.\n",
      "\n",
      "  warnings.warn(smsg, UserWarning)\n"
     ]
    },
    {
     "name": "stdout",
     "output_type": "stream",
     "text": [
      "Trial 39 - morgan Accuracy: 0.9293\n",
      "Trial 39 - Running SHAP analysis for morgan fingerprints...\n",
      "Trial 40/40 - Training XGBoost for morgan fingerprints...\n"
     ]
    },
    {
     "name": "stderr",
     "output_type": "stream",
     "text": [
      "/home/zeus/miniconda3/envs/cloudspace/lib/python3.9/site-packages/xgboost/core.py:158: UserWarning: [23:30:25] WARNING: /workspace/src/learner.cc:740: \n",
      "Parameters: { \"use_label_encoder\" } are not used.\n",
      "\n",
      "  warnings.warn(smsg, UserWarning)\n"
     ]
    },
    {
     "name": "stdout",
     "output_type": "stream",
     "text": [
      "Trial 40 - morgan Accuracy: 0.9293\n",
      "Trial 40 - Running SHAP analysis for morgan fingerprints...\n",
      "Trial 1/40 - Training XGBoost for ap fingerprints...\n"
     ]
    },
    {
     "name": "stderr",
     "output_type": "stream",
     "text": [
      "/home/zeus/miniconda3/envs/cloudspace/lib/python3.9/site-packages/xgboost/core.py:158: UserWarning: [23:30:27] WARNING: /workspace/src/learner.cc:740: \n",
      "Parameters: { \"use_label_encoder\" } are not used.\n",
      "\n",
      "  warnings.warn(smsg, UserWarning)\n"
     ]
    },
    {
     "name": "stdout",
     "output_type": "stream",
     "text": [
      "Trial 1 - ap Accuracy: 0.9317\n",
      "Trial 1 - Running SHAP analysis for ap fingerprints...\n",
      "Trial 2/40 - Training XGBoost for ap fingerprints...\n"
     ]
    },
    {
     "name": "stderr",
     "output_type": "stream",
     "text": [
      "/home/zeus/miniconda3/envs/cloudspace/lib/python3.9/site-packages/xgboost/core.py:158: UserWarning: [23:30:32] WARNING: /workspace/src/learner.cc:740: \n",
      "Parameters: { \"use_label_encoder\" } are not used.\n",
      "\n",
      "  warnings.warn(smsg, UserWarning)\n"
     ]
    },
    {
     "name": "stdout",
     "output_type": "stream",
     "text": [
      "Trial 2 - ap Accuracy: 0.9317\n",
      "Trial 2 - Running SHAP analysis for ap fingerprints...\n",
      "Trial 3/40 - Training XGBoost for ap fingerprints...\n"
     ]
    },
    {
     "name": "stderr",
     "output_type": "stream",
     "text": [
      "/home/zeus/miniconda3/envs/cloudspace/lib/python3.9/site-packages/xgboost/core.py:158: UserWarning: [23:30:37] WARNING: /workspace/src/learner.cc:740: \n",
      "Parameters: { \"use_label_encoder\" } are not used.\n",
      "\n",
      "  warnings.warn(smsg, UserWarning)\n"
     ]
    },
    {
     "name": "stdout",
     "output_type": "stream",
     "text": [
      "Trial 3 - ap Accuracy: 0.9317\n",
      "Trial 3 - Running SHAP analysis for ap fingerprints...\n",
      "Trial 4/40 - Training XGBoost for ap fingerprints...\n"
     ]
    },
    {
     "name": "stderr",
     "output_type": "stream",
     "text": [
      "/home/zeus/miniconda3/envs/cloudspace/lib/python3.9/site-packages/xgboost/core.py:158: UserWarning: [23:30:42] WARNING: /workspace/src/learner.cc:740: \n",
      "Parameters: { \"use_label_encoder\" } are not used.\n",
      "\n",
      "  warnings.warn(smsg, UserWarning)\n"
     ]
    },
    {
     "name": "stdout",
     "output_type": "stream",
     "text": [
      "Trial 4 - ap Accuracy: 0.9317\n",
      "Trial 4 - Running SHAP analysis for ap fingerprints...\n",
      "Trial 5/40 - Training XGBoost for ap fingerprints...\n"
     ]
    },
    {
     "name": "stderr",
     "output_type": "stream",
     "text": [
      "/home/zeus/miniconda3/envs/cloudspace/lib/python3.9/site-packages/xgboost/core.py:158: UserWarning: [23:30:47] WARNING: /workspace/src/learner.cc:740: \n",
      "Parameters: { \"use_label_encoder\" } are not used.\n",
      "\n",
      "  warnings.warn(smsg, UserWarning)\n"
     ]
    },
    {
     "name": "stdout",
     "output_type": "stream",
     "text": [
      "Trial 5 - ap Accuracy: 0.9317\n",
      "Trial 5 - Running SHAP analysis for ap fingerprints...\n",
      "Trial 6/40 - Training XGBoost for ap fingerprints...\n"
     ]
    },
    {
     "name": "stderr",
     "output_type": "stream",
     "text": [
      "/home/zeus/miniconda3/envs/cloudspace/lib/python3.9/site-packages/xgboost/core.py:158: UserWarning: [23:30:51] WARNING: /workspace/src/learner.cc:740: \n",
      "Parameters: { \"use_label_encoder\" } are not used.\n",
      "\n",
      "  warnings.warn(smsg, UserWarning)\n"
     ]
    },
    {
     "name": "stdout",
     "output_type": "stream",
     "text": [
      "Trial 6 - ap Accuracy: 0.9317\n",
      "Trial 6 - Running SHAP analysis for ap fingerprints...\n",
      "Trial 7/40 - Training XGBoost for ap fingerprints...\n"
     ]
    },
    {
     "name": "stderr",
     "output_type": "stream",
     "text": [
      "/home/zeus/miniconda3/envs/cloudspace/lib/python3.9/site-packages/xgboost/core.py:158: UserWarning: [23:30:56] WARNING: /workspace/src/learner.cc:740: \n",
      "Parameters: { \"use_label_encoder\" } are not used.\n",
      "\n",
      "  warnings.warn(smsg, UserWarning)\n"
     ]
    },
    {
     "name": "stdout",
     "output_type": "stream",
     "text": [
      "Trial 7 - ap Accuracy: 0.9317\n",
      "Trial 7 - Running SHAP analysis for ap fingerprints...\n",
      "Trial 8/40 - Training XGBoost for ap fingerprints...\n"
     ]
    },
    {
     "name": "stderr",
     "output_type": "stream",
     "text": [
      "/home/zeus/miniconda3/envs/cloudspace/lib/python3.9/site-packages/xgboost/core.py:158: UserWarning: [23:31:00] WARNING: /workspace/src/learner.cc:740: \n",
      "Parameters: { \"use_label_encoder\" } are not used.\n",
      "\n",
      "  warnings.warn(smsg, UserWarning)\n"
     ]
    },
    {
     "name": "stdout",
     "output_type": "stream",
     "text": [
      "Trial 8 - ap Accuracy: 0.9317\n",
      "Trial 8 - Running SHAP analysis for ap fingerprints...\n",
      "Trial 9/40 - Training XGBoost for ap fingerprints...\n"
     ]
    },
    {
     "name": "stderr",
     "output_type": "stream",
     "text": [
      "/home/zeus/miniconda3/envs/cloudspace/lib/python3.9/site-packages/xgboost/core.py:158: UserWarning: [23:31:04] WARNING: /workspace/src/learner.cc:740: \n",
      "Parameters: { \"use_label_encoder\" } are not used.\n",
      "\n",
      "  warnings.warn(smsg, UserWarning)\n"
     ]
    },
    {
     "name": "stdout",
     "output_type": "stream",
     "text": [
      "Trial 9 - ap Accuracy: 0.9317\n",
      "Trial 9 - Running SHAP analysis for ap fingerprints...\n",
      "Trial 10/40 - Training XGBoost for ap fingerprints...\n"
     ]
    },
    {
     "name": "stderr",
     "output_type": "stream",
     "text": [
      "/home/zeus/miniconda3/envs/cloudspace/lib/python3.9/site-packages/xgboost/core.py:158: UserWarning: [23:31:34] WARNING: /workspace/src/learner.cc:740: \n",
      "Parameters: { \"use_label_encoder\" } are not used.\n",
      "\n",
      "  warnings.warn(smsg, UserWarning)\n"
     ]
    },
    {
     "name": "stdout",
     "output_type": "stream",
     "text": [
      "Trial 10 - ap Accuracy: 0.9317\n",
      "Trial 10 - Running SHAP analysis for ap fingerprints...\n",
      "Trial 11/40 - Training XGBoost for ap fingerprints...\n"
     ]
    },
    {
     "name": "stderr",
     "output_type": "stream",
     "text": [
      "/home/zeus/miniconda3/envs/cloudspace/lib/python3.9/site-packages/xgboost/core.py:158: UserWarning: [23:31:59] WARNING: /workspace/src/learner.cc:740: \n",
      "Parameters: { \"use_label_encoder\" } are not used.\n",
      "\n",
      "  warnings.warn(smsg, UserWarning)\n"
     ]
    },
    {
     "name": "stdout",
     "output_type": "stream",
     "text": [
      "Trial 11 - ap Accuracy: 0.9317\n",
      "Trial 11 - Running SHAP analysis for ap fingerprints...\n",
      "Trial 12/40 - Training XGBoost for ap fingerprints...\n"
     ]
    },
    {
     "name": "stderr",
     "output_type": "stream",
     "text": [
      "/home/zeus/miniconda3/envs/cloudspace/lib/python3.9/site-packages/xgboost/core.py:158: UserWarning: [23:32:32] WARNING: /workspace/src/learner.cc:740: \n",
      "Parameters: { \"use_label_encoder\" } are not used.\n",
      "\n",
      "  warnings.warn(smsg, UserWarning)\n"
     ]
    },
    {
     "name": "stdout",
     "output_type": "stream",
     "text": [
      "Trial 12 - ap Accuracy: 0.9317\n",
      "Trial 12 - Running SHAP analysis for ap fingerprints...\n",
      "Trial 13/40 - Training XGBoost for ap fingerprints...\n"
     ]
    },
    {
     "name": "stderr",
     "output_type": "stream",
     "text": [
      "/home/zeus/miniconda3/envs/cloudspace/lib/python3.9/site-packages/xgboost/core.py:158: UserWarning: [23:32:43] WARNING: /workspace/src/learner.cc:740: \n",
      "Parameters: { \"use_label_encoder\" } are not used.\n",
      "\n",
      "  warnings.warn(smsg, UserWarning)\n"
     ]
    },
    {
     "name": "stdout",
     "output_type": "stream",
     "text": [
      "Trial 13 - ap Accuracy: 0.9317\n",
      "Trial 13 - Running SHAP analysis for ap fingerprints...\n",
      "Trial 14/40 - Training XGBoost for ap fingerprints...\n"
     ]
    },
    {
     "name": "stderr",
     "output_type": "stream",
     "text": [
      "/home/zeus/miniconda3/envs/cloudspace/lib/python3.9/site-packages/xgboost/core.py:158: UserWarning: [23:32:54] WARNING: /workspace/src/learner.cc:740: \n",
      "Parameters: { \"use_label_encoder\" } are not used.\n",
      "\n",
      "  warnings.warn(smsg, UserWarning)\n"
     ]
    },
    {
     "name": "stdout",
     "output_type": "stream",
     "text": [
      "Trial 14 - ap Accuracy: 0.9317\n",
      "Trial 14 - Running SHAP analysis for ap fingerprints...\n",
      "Trial 15/40 - Training XGBoost for ap fingerprints...\n"
     ]
    },
    {
     "name": "stderr",
     "output_type": "stream",
     "text": [
      "/home/zeus/miniconda3/envs/cloudspace/lib/python3.9/site-packages/xgboost/core.py:158: UserWarning: [23:33:04] WARNING: /workspace/src/learner.cc:740: \n",
      "Parameters: { \"use_label_encoder\" } are not used.\n",
      "\n",
      "  warnings.warn(smsg, UserWarning)\n"
     ]
    },
    {
     "name": "stdout",
     "output_type": "stream",
     "text": [
      "Trial 15 - ap Accuracy: 0.9317\n",
      "Trial 15 - Running SHAP analysis for ap fingerprints...\n",
      "Trial 16/40 - Training XGBoost for ap fingerprints...\n"
     ]
    },
    {
     "name": "stderr",
     "output_type": "stream",
     "text": [
      "/home/zeus/miniconda3/envs/cloudspace/lib/python3.9/site-packages/xgboost/core.py:158: UserWarning: [23:33:15] WARNING: /workspace/src/learner.cc:740: \n",
      "Parameters: { \"use_label_encoder\" } are not used.\n",
      "\n",
      "  warnings.warn(smsg, UserWarning)\n"
     ]
    },
    {
     "name": "stdout",
     "output_type": "stream",
     "text": [
      "Trial 16 - ap Accuracy: 0.9317\n",
      "Trial 16 - Running SHAP analysis for ap fingerprints...\n",
      "Trial 17/40 - Training XGBoost for ap fingerprints...\n"
     ]
    },
    {
     "name": "stderr",
     "output_type": "stream",
     "text": [
      "/home/zeus/miniconda3/envs/cloudspace/lib/python3.9/site-packages/xgboost/core.py:158: UserWarning: [23:33:24] WARNING: /workspace/src/learner.cc:740: \n",
      "Parameters: { \"use_label_encoder\" } are not used.\n",
      "\n",
      "  warnings.warn(smsg, UserWarning)\n"
     ]
    },
    {
     "name": "stdout",
     "output_type": "stream",
     "text": [
      "Trial 17 - ap Accuracy: 0.9317\n",
      "Trial 17 - Running SHAP analysis for ap fingerprints...\n",
      "Trial 18/40 - Training XGBoost for ap fingerprints...\n"
     ]
    },
    {
     "name": "stderr",
     "output_type": "stream",
     "text": [
      "/home/zeus/miniconda3/envs/cloudspace/lib/python3.9/site-packages/xgboost/core.py:158: UserWarning: [23:33:35] WARNING: /workspace/src/learner.cc:740: \n",
      "Parameters: { \"use_label_encoder\" } are not used.\n",
      "\n",
      "  warnings.warn(smsg, UserWarning)\n"
     ]
    },
    {
     "name": "stdout",
     "output_type": "stream",
     "text": [
      "Trial 18 - ap Accuracy: 0.9317\n",
      "Trial 18 - Running SHAP analysis for ap fingerprints...\n",
      "Trial 19/40 - Training XGBoost for ap fingerprints...\n"
     ]
    },
    {
     "name": "stderr",
     "output_type": "stream",
     "text": [
      "/home/zeus/miniconda3/envs/cloudspace/lib/python3.9/site-packages/xgboost/core.py:158: UserWarning: [23:33:44] WARNING: /workspace/src/learner.cc:740: \n",
      "Parameters: { \"use_label_encoder\" } are not used.\n",
      "\n",
      "  warnings.warn(smsg, UserWarning)\n"
     ]
    },
    {
     "name": "stdout",
     "output_type": "stream",
     "text": [
      "Trial 19 - ap Accuracy: 0.9317\n",
      "Trial 19 - Running SHAP analysis for ap fingerprints...\n",
      "Trial 20/40 - Training XGBoost for ap fingerprints...\n"
     ]
    },
    {
     "name": "stderr",
     "output_type": "stream",
     "text": [
      "/home/zeus/miniconda3/envs/cloudspace/lib/python3.9/site-packages/xgboost/core.py:158: UserWarning: [23:33:48] WARNING: /workspace/src/learner.cc:740: \n",
      "Parameters: { \"use_label_encoder\" } are not used.\n",
      "\n",
      "  warnings.warn(smsg, UserWarning)\n"
     ]
    },
    {
     "name": "stdout",
     "output_type": "stream",
     "text": [
      "Trial 20 - ap Accuracy: 0.9317\n",
      "Trial 20 - Running SHAP analysis for ap fingerprints...\n",
      "Trial 21/40 - Training XGBoost for ap fingerprints...\n"
     ]
    },
    {
     "name": "stderr",
     "output_type": "stream",
     "text": [
      "/home/zeus/miniconda3/envs/cloudspace/lib/python3.9/site-packages/xgboost/core.py:158: UserWarning: [23:33:54] WARNING: /workspace/src/learner.cc:740: \n",
      "Parameters: { \"use_label_encoder\" } are not used.\n",
      "\n",
      "  warnings.warn(smsg, UserWarning)\n"
     ]
    },
    {
     "name": "stdout",
     "output_type": "stream",
     "text": [
      "Trial 21 - ap Accuracy: 0.9317\n",
      "Trial 21 - Running SHAP analysis for ap fingerprints...\n",
      "Trial 22/40 - Training XGBoost for ap fingerprints...\n"
     ]
    },
    {
     "name": "stderr",
     "output_type": "stream",
     "text": [
      "/home/zeus/miniconda3/envs/cloudspace/lib/python3.9/site-packages/xgboost/core.py:158: UserWarning: [23:33:58] WARNING: /workspace/src/learner.cc:740: \n",
      "Parameters: { \"use_label_encoder\" } are not used.\n",
      "\n",
      "  warnings.warn(smsg, UserWarning)\n"
     ]
    },
    {
     "name": "stdout",
     "output_type": "stream",
     "text": [
      "Trial 22 - ap Accuracy: 0.9317\n",
      "Trial 22 - Running SHAP analysis for ap fingerprints...\n",
      "Trial 23/40 - Training XGBoost for ap fingerprints...\n"
     ]
    },
    {
     "name": "stderr",
     "output_type": "stream",
     "text": [
      "/home/zeus/miniconda3/envs/cloudspace/lib/python3.9/site-packages/xgboost/core.py:158: UserWarning: [23:34:03] WARNING: /workspace/src/learner.cc:740: \n",
      "Parameters: { \"use_label_encoder\" } are not used.\n",
      "\n",
      "  warnings.warn(smsg, UserWarning)\n"
     ]
    },
    {
     "name": "stdout",
     "output_type": "stream",
     "text": [
      "Trial 23 - ap Accuracy: 0.9317\n",
      "Trial 23 - Running SHAP analysis for ap fingerprints...\n",
      "Trial 24/40 - Training XGBoost for ap fingerprints...\n"
     ]
    },
    {
     "name": "stderr",
     "output_type": "stream",
     "text": [
      "/home/zeus/miniconda3/envs/cloudspace/lib/python3.9/site-packages/xgboost/core.py:158: UserWarning: [23:34:06] WARNING: /workspace/src/learner.cc:740: \n",
      "Parameters: { \"use_label_encoder\" } are not used.\n",
      "\n",
      "  warnings.warn(smsg, UserWarning)\n"
     ]
    },
    {
     "name": "stdout",
     "output_type": "stream",
     "text": [
      "Trial 24 - ap Accuracy: 0.9317\n",
      "Trial 24 - Running SHAP analysis for ap fingerprints...\n",
      "Trial 25/40 - Training XGBoost for ap fingerprints...\n"
     ]
    },
    {
     "name": "stderr",
     "output_type": "stream",
     "text": [
      "/home/zeus/miniconda3/envs/cloudspace/lib/python3.9/site-packages/xgboost/core.py:158: UserWarning: [23:34:11] WARNING: /workspace/src/learner.cc:740: \n",
      "Parameters: { \"use_label_encoder\" } are not used.\n",
      "\n",
      "  warnings.warn(smsg, UserWarning)\n"
     ]
    },
    {
     "name": "stdout",
     "output_type": "stream",
     "text": [
      "Trial 25 - ap Accuracy: 0.9317\n",
      "Trial 25 - Running SHAP analysis for ap fingerprints...\n",
      "Trial 26/40 - Training XGBoost for ap fingerprints...\n"
     ]
    },
    {
     "name": "stderr",
     "output_type": "stream",
     "text": [
      "/home/zeus/miniconda3/envs/cloudspace/lib/python3.9/site-packages/xgboost/core.py:158: UserWarning: [23:34:15] WARNING: /workspace/src/learner.cc:740: \n",
      "Parameters: { \"use_label_encoder\" } are not used.\n",
      "\n",
      "  warnings.warn(smsg, UserWarning)\n"
     ]
    },
    {
     "name": "stdout",
     "output_type": "stream",
     "text": [
      "Trial 26 - ap Accuracy: 0.9317\n",
      "Trial 26 - Running SHAP analysis for ap fingerprints...\n",
      "Trial 27/40 - Training XGBoost for ap fingerprints...\n"
     ]
    },
    {
     "name": "stderr",
     "output_type": "stream",
     "text": [
      "/home/zeus/miniconda3/envs/cloudspace/lib/python3.9/site-packages/xgboost/core.py:158: UserWarning: [23:34:19] WARNING: /workspace/src/learner.cc:740: \n",
      "Parameters: { \"use_label_encoder\" } are not used.\n",
      "\n",
      "  warnings.warn(smsg, UserWarning)\n"
     ]
    },
    {
     "name": "stdout",
     "output_type": "stream",
     "text": [
      "Trial 27 - ap Accuracy: 0.9317\n",
      "Trial 27 - Running SHAP analysis for ap fingerprints...\n",
      "Trial 28/40 - Training XGBoost for ap fingerprints...\n"
     ]
    },
    {
     "name": "stderr",
     "output_type": "stream",
     "text": [
      "/home/zeus/miniconda3/envs/cloudspace/lib/python3.9/site-packages/xgboost/core.py:158: UserWarning: [23:34:23] WARNING: /workspace/src/learner.cc:740: \n",
      "Parameters: { \"use_label_encoder\" } are not used.\n",
      "\n",
      "  warnings.warn(smsg, UserWarning)\n"
     ]
    },
    {
     "name": "stdout",
     "output_type": "stream",
     "text": [
      "Trial 28 - ap Accuracy: 0.9317\n",
      "Trial 28 - Running SHAP analysis for ap fingerprints...\n",
      "Trial 29/40 - Training XGBoost for ap fingerprints...\n"
     ]
    },
    {
     "name": "stderr",
     "output_type": "stream",
     "text": [
      "/home/zeus/miniconda3/envs/cloudspace/lib/python3.9/site-packages/xgboost/core.py:158: UserWarning: [23:34:28] WARNING: /workspace/src/learner.cc:740: \n",
      "Parameters: { \"use_label_encoder\" } are not used.\n",
      "\n",
      "  warnings.warn(smsg, UserWarning)\n"
     ]
    },
    {
     "name": "stdout",
     "output_type": "stream",
     "text": [
      "Trial 29 - ap Accuracy: 0.9317\n",
      "Trial 29 - Running SHAP analysis for ap fingerprints...\n",
      "Trial 30/40 - Training XGBoost for ap fingerprints...\n"
     ]
    },
    {
     "name": "stderr",
     "output_type": "stream",
     "text": [
      "/home/zeus/miniconda3/envs/cloudspace/lib/python3.9/site-packages/xgboost/core.py:158: UserWarning: [23:34:33] WARNING: /workspace/src/learner.cc:740: \n",
      "Parameters: { \"use_label_encoder\" } are not used.\n",
      "\n",
      "  warnings.warn(smsg, UserWarning)\n"
     ]
    },
    {
     "name": "stdout",
     "output_type": "stream",
     "text": [
      "Trial 30 - ap Accuracy: 0.9317\n",
      "Trial 30 - Running SHAP analysis for ap fingerprints...\n",
      "Trial 31/40 - Training XGBoost for ap fingerprints...\n"
     ]
    },
    {
     "name": "stderr",
     "output_type": "stream",
     "text": [
      "/home/zeus/miniconda3/envs/cloudspace/lib/python3.9/site-packages/xgboost/core.py:158: UserWarning: [23:34:37] WARNING: /workspace/src/learner.cc:740: \n",
      "Parameters: { \"use_label_encoder\" } are not used.\n",
      "\n",
      "  warnings.warn(smsg, UserWarning)\n"
     ]
    },
    {
     "name": "stdout",
     "output_type": "stream",
     "text": [
      "Trial 31 - ap Accuracy: 0.9317\n",
      "Trial 31 - Running SHAP analysis for ap fingerprints...\n",
      "Trial 32/40 - Training XGBoost for ap fingerprints...\n"
     ]
    },
    {
     "name": "stderr",
     "output_type": "stream",
     "text": [
      "/home/zeus/miniconda3/envs/cloudspace/lib/python3.9/site-packages/xgboost/core.py:158: UserWarning: [23:34:41] WARNING: /workspace/src/learner.cc:740: \n",
      "Parameters: { \"use_label_encoder\" } are not used.\n",
      "\n",
      "  warnings.warn(smsg, UserWarning)\n"
     ]
    },
    {
     "name": "stdout",
     "output_type": "stream",
     "text": [
      "Trial 32 - ap Accuracy: 0.9317\n",
      "Trial 32 - Running SHAP analysis for ap fingerprints...\n",
      "Trial 33/40 - Training XGBoost for ap fingerprints...\n"
     ]
    },
    {
     "name": "stderr",
     "output_type": "stream",
     "text": [
      "/home/zeus/miniconda3/envs/cloudspace/lib/python3.9/site-packages/xgboost/core.py:158: UserWarning: [23:34:45] WARNING: /workspace/src/learner.cc:740: \n",
      "Parameters: { \"use_label_encoder\" } are not used.\n",
      "\n",
      "  warnings.warn(smsg, UserWarning)\n"
     ]
    },
    {
     "name": "stdout",
     "output_type": "stream",
     "text": [
      "Trial 33 - ap Accuracy: 0.9317\n",
      "Trial 33 - Running SHAP analysis for ap fingerprints...\n",
      "Trial 34/40 - Training XGBoost for ap fingerprints...\n"
     ]
    },
    {
     "name": "stderr",
     "output_type": "stream",
     "text": [
      "/home/zeus/miniconda3/envs/cloudspace/lib/python3.9/site-packages/xgboost/core.py:158: UserWarning: [23:34:50] WARNING: /workspace/src/learner.cc:740: \n",
      "Parameters: { \"use_label_encoder\" } are not used.\n",
      "\n",
      "  warnings.warn(smsg, UserWarning)\n"
     ]
    },
    {
     "name": "stdout",
     "output_type": "stream",
     "text": [
      "Trial 34 - ap Accuracy: 0.9317\n",
      "Trial 34 - Running SHAP analysis for ap fingerprints...\n",
      "Trial 35/40 - Training XGBoost for ap fingerprints...\n"
     ]
    },
    {
     "name": "stderr",
     "output_type": "stream",
     "text": [
      "/home/zeus/miniconda3/envs/cloudspace/lib/python3.9/site-packages/xgboost/core.py:158: UserWarning: [23:34:54] WARNING: /workspace/src/learner.cc:740: \n",
      "Parameters: { \"use_label_encoder\" } are not used.\n",
      "\n",
      "  warnings.warn(smsg, UserWarning)\n"
     ]
    },
    {
     "name": "stdout",
     "output_type": "stream",
     "text": [
      "Trial 35 - ap Accuracy: 0.9317\n",
      "Trial 35 - Running SHAP analysis for ap fingerprints...\n",
      "Trial 36/40 - Training XGBoost for ap fingerprints...\n"
     ]
    },
    {
     "name": "stderr",
     "output_type": "stream",
     "text": [
      "/home/zeus/miniconda3/envs/cloudspace/lib/python3.9/site-packages/xgboost/core.py:158: UserWarning: [23:35:00] WARNING: /workspace/src/learner.cc:740: \n",
      "Parameters: { \"use_label_encoder\" } are not used.\n",
      "\n",
      "  warnings.warn(smsg, UserWarning)\n"
     ]
    },
    {
     "name": "stdout",
     "output_type": "stream",
     "text": [
      "Trial 36 - ap Accuracy: 0.9317\n",
      "Trial 36 - Running SHAP analysis for ap fingerprints...\n",
      "Trial 37/40 - Training XGBoost for ap fingerprints...\n"
     ]
    },
    {
     "name": "stderr",
     "output_type": "stream",
     "text": [
      "/home/zeus/miniconda3/envs/cloudspace/lib/python3.9/site-packages/xgboost/core.py:158: UserWarning: [23:35:06] WARNING: /workspace/src/learner.cc:740: \n",
      "Parameters: { \"use_label_encoder\" } are not used.\n",
      "\n",
      "  warnings.warn(smsg, UserWarning)\n"
     ]
    },
    {
     "name": "stdout",
     "output_type": "stream",
     "text": [
      "Trial 37 - ap Accuracy: 0.9317\n",
      "Trial 37 - Running SHAP analysis for ap fingerprints...\n",
      "Trial 38/40 - Training XGBoost for ap fingerprints...\n"
     ]
    },
    {
     "name": "stderr",
     "output_type": "stream",
     "text": [
      "/home/zeus/miniconda3/envs/cloudspace/lib/python3.9/site-packages/xgboost/core.py:158: UserWarning: [23:35:11] WARNING: /workspace/src/learner.cc:740: \n",
      "Parameters: { \"use_label_encoder\" } are not used.\n",
      "\n",
      "  warnings.warn(smsg, UserWarning)\n"
     ]
    },
    {
     "name": "stdout",
     "output_type": "stream",
     "text": [
      "Trial 38 - ap Accuracy: 0.9317\n",
      "Trial 38 - Running SHAP analysis for ap fingerprints...\n",
      "Trial 39/40 - Training XGBoost for ap fingerprints...\n"
     ]
    },
    {
     "name": "stderr",
     "output_type": "stream",
     "text": [
      "/home/zeus/miniconda3/envs/cloudspace/lib/python3.9/site-packages/xgboost/core.py:158: UserWarning: [23:35:15] WARNING: /workspace/src/learner.cc:740: \n",
      "Parameters: { \"use_label_encoder\" } are not used.\n",
      "\n",
      "  warnings.warn(smsg, UserWarning)\n"
     ]
    },
    {
     "name": "stdout",
     "output_type": "stream",
     "text": [
      "Trial 39 - ap Accuracy: 0.9317\n",
      "Trial 39 - Running SHAP analysis for ap fingerprints...\n",
      "Trial 40/40 - Training XGBoost for ap fingerprints...\n"
     ]
    },
    {
     "name": "stderr",
     "output_type": "stream",
     "text": [
      "/home/zeus/miniconda3/envs/cloudspace/lib/python3.9/site-packages/xgboost/core.py:158: UserWarning: [23:35:19] WARNING: /workspace/src/learner.cc:740: \n",
      "Parameters: { \"use_label_encoder\" } are not used.\n",
      "\n",
      "  warnings.warn(smsg, UserWarning)\n"
     ]
    },
    {
     "name": "stdout",
     "output_type": "stream",
     "text": [
      "Trial 40 - ap Accuracy: 0.9317\n",
      "Trial 40 - Running SHAP analysis for ap fingerprints...\n",
      "Trial 1/40 - Training XGBoost for rdk5 fingerprints...\n"
     ]
    },
    {
     "name": "stderr",
     "output_type": "stream",
     "text": [
      "/home/zeus/miniconda3/envs/cloudspace/lib/python3.9/site-packages/xgboost/core.py:158: UserWarning: [23:35:24] WARNING: /workspace/src/learner.cc:740: \n",
      "Parameters: { \"use_label_encoder\" } are not used.\n",
      "\n",
      "  warnings.warn(smsg, UserWarning)\n"
     ]
    },
    {
     "name": "stdout",
     "output_type": "stream",
     "text": [
      "Trial 1 - rdk5 Accuracy: 0.9293\n",
      "Trial 1 - Running SHAP analysis for rdk5 fingerprints...\n",
      "Trial 2/40 - Training XGBoost for rdk5 fingerprints...\n"
     ]
    },
    {
     "name": "stderr",
     "output_type": "stream",
     "text": [
      "/home/zeus/miniconda3/envs/cloudspace/lib/python3.9/site-packages/xgboost/core.py:158: UserWarning: [23:35:27] WARNING: /workspace/src/learner.cc:740: \n",
      "Parameters: { \"use_label_encoder\" } are not used.\n",
      "\n",
      "  warnings.warn(smsg, UserWarning)\n"
     ]
    },
    {
     "name": "stdout",
     "output_type": "stream",
     "text": [
      "Trial 2 - rdk5 Accuracy: 0.9293\n",
      "Trial 2 - Running SHAP analysis for rdk5 fingerprints...\n",
      "Trial 3/40 - Training XGBoost for rdk5 fingerprints...\n"
     ]
    },
    {
     "name": "stderr",
     "output_type": "stream",
     "text": [
      "/home/zeus/miniconda3/envs/cloudspace/lib/python3.9/site-packages/xgboost/core.py:158: UserWarning: [23:35:31] WARNING: /workspace/src/learner.cc:740: \n",
      "Parameters: { \"use_label_encoder\" } are not used.\n",
      "\n",
      "  warnings.warn(smsg, UserWarning)\n"
     ]
    },
    {
     "name": "stdout",
     "output_type": "stream",
     "text": [
      "Trial 3 - rdk5 Accuracy: 0.9293\n",
      "Trial 3 - Running SHAP analysis for rdk5 fingerprints...\n",
      "Trial 4/40 - Training XGBoost for rdk5 fingerprints...\n"
     ]
    },
    {
     "name": "stderr",
     "output_type": "stream",
     "text": [
      "/home/zeus/miniconda3/envs/cloudspace/lib/python3.9/site-packages/xgboost/core.py:158: UserWarning: [23:35:36] WARNING: /workspace/src/learner.cc:740: \n",
      "Parameters: { \"use_label_encoder\" } are not used.\n",
      "\n",
      "  warnings.warn(smsg, UserWarning)\n"
     ]
    },
    {
     "name": "stdout",
     "output_type": "stream",
     "text": [
      "Trial 4 - rdk5 Accuracy: 0.9293\n",
      "Trial 4 - Running SHAP analysis for rdk5 fingerprints...\n",
      "Trial 5/40 - Training XGBoost for rdk5 fingerprints...\n"
     ]
    },
    {
     "name": "stderr",
     "output_type": "stream",
     "text": [
      "/home/zeus/miniconda3/envs/cloudspace/lib/python3.9/site-packages/xgboost/core.py:158: UserWarning: [23:35:41] WARNING: /workspace/src/learner.cc:740: \n",
      "Parameters: { \"use_label_encoder\" } are not used.\n",
      "\n",
      "  warnings.warn(smsg, UserWarning)\n"
     ]
    },
    {
     "name": "stdout",
     "output_type": "stream",
     "text": [
      "Trial 5 - rdk5 Accuracy: 0.9293\n",
      "Trial 5 - Running SHAP analysis for rdk5 fingerprints...\n",
      "Trial 6/40 - Training XGBoost for rdk5 fingerprints...\n"
     ]
    },
    {
     "name": "stderr",
     "output_type": "stream",
     "text": [
      "/home/zeus/miniconda3/envs/cloudspace/lib/python3.9/site-packages/xgboost/core.py:158: UserWarning: [23:35:45] WARNING: /workspace/src/learner.cc:740: \n",
      "Parameters: { \"use_label_encoder\" } are not used.\n",
      "\n",
      "  warnings.warn(smsg, UserWarning)\n"
     ]
    },
    {
     "name": "stdout",
     "output_type": "stream",
     "text": [
      "Trial 6 - rdk5 Accuracy: 0.9293\n",
      "Trial 6 - Running SHAP analysis for rdk5 fingerprints...\n",
      "Trial 7/40 - Training XGBoost for rdk5 fingerprints...\n"
     ]
    },
    {
     "name": "stderr",
     "output_type": "stream",
     "text": [
      "/home/zeus/miniconda3/envs/cloudspace/lib/python3.9/site-packages/xgboost/core.py:158: UserWarning: [23:35:50] WARNING: /workspace/src/learner.cc:740: \n",
      "Parameters: { \"use_label_encoder\" } are not used.\n",
      "\n",
      "  warnings.warn(smsg, UserWarning)\n"
     ]
    },
    {
     "name": "stdout",
     "output_type": "stream",
     "text": [
      "Trial 7 - rdk5 Accuracy: 0.9293\n",
      "Trial 7 - Running SHAP analysis for rdk5 fingerprints...\n",
      "Trial 8/40 - Training XGBoost for rdk5 fingerprints...\n"
     ]
    },
    {
     "name": "stderr",
     "output_type": "stream",
     "text": [
      "/home/zeus/miniconda3/envs/cloudspace/lib/python3.9/site-packages/xgboost/core.py:158: UserWarning: [23:35:55] WARNING: /workspace/src/learner.cc:740: \n",
      "Parameters: { \"use_label_encoder\" } are not used.\n",
      "\n",
      "  warnings.warn(smsg, UserWarning)\n"
     ]
    },
    {
     "name": "stdout",
     "output_type": "stream",
     "text": [
      "Trial 8 - rdk5 Accuracy: 0.9293\n",
      "Trial 8 - Running SHAP analysis for rdk5 fingerprints...\n",
      "Trial 9/40 - Training XGBoost for rdk5 fingerprints...\n"
     ]
    },
    {
     "name": "stderr",
     "output_type": "stream",
     "text": [
      "/home/zeus/miniconda3/envs/cloudspace/lib/python3.9/site-packages/xgboost/core.py:158: UserWarning: [23:36:01] WARNING: /workspace/src/learner.cc:740: \n",
      "Parameters: { \"use_label_encoder\" } are not used.\n",
      "\n",
      "  warnings.warn(smsg, UserWarning)\n"
     ]
    },
    {
     "name": "stdout",
     "output_type": "stream",
     "text": [
      "Trial 9 - rdk5 Accuracy: 0.9293\n",
      "Trial 9 - Running SHAP analysis for rdk5 fingerprints...\n",
      "Trial 10/40 - Training XGBoost for rdk5 fingerprints...\n"
     ]
    },
    {
     "name": "stderr",
     "output_type": "stream",
     "text": [
      "/home/zeus/miniconda3/envs/cloudspace/lib/python3.9/site-packages/xgboost/core.py:158: UserWarning: [23:36:05] WARNING: /workspace/src/learner.cc:740: \n",
      "Parameters: { \"use_label_encoder\" } are not used.\n",
      "\n",
      "  warnings.warn(smsg, UserWarning)\n"
     ]
    },
    {
     "name": "stdout",
     "output_type": "stream",
     "text": [
      "Trial 10 - rdk5 Accuracy: 0.9293\n",
      "Trial 10 - Running SHAP analysis for rdk5 fingerprints...\n",
      "Trial 11/40 - Training XGBoost for rdk5 fingerprints...\n"
     ]
    },
    {
     "name": "stderr",
     "output_type": "stream",
     "text": [
      "/home/zeus/miniconda3/envs/cloudspace/lib/python3.9/site-packages/xgboost/core.py:158: UserWarning: [23:36:08] WARNING: /workspace/src/learner.cc:740: \n",
      "Parameters: { \"use_label_encoder\" } are not used.\n",
      "\n",
      "  warnings.warn(smsg, UserWarning)\n"
     ]
    },
    {
     "name": "stdout",
     "output_type": "stream",
     "text": [
      "Trial 11 - rdk5 Accuracy: 0.9293\n",
      "Trial 11 - Running SHAP analysis for rdk5 fingerprints...\n",
      "Trial 12/40 - Training XGBoost for rdk5 fingerprints...\n"
     ]
    },
    {
     "name": "stderr",
     "output_type": "stream",
     "text": [
      "/home/zeus/miniconda3/envs/cloudspace/lib/python3.9/site-packages/xgboost/core.py:158: UserWarning: [23:36:13] WARNING: /workspace/src/learner.cc:740: \n",
      "Parameters: { \"use_label_encoder\" } are not used.\n",
      "\n",
      "  warnings.warn(smsg, UserWarning)\n"
     ]
    },
    {
     "name": "stdout",
     "output_type": "stream",
     "text": [
      "Trial 12 - rdk5 Accuracy: 0.9293\n",
      "Trial 12 - Running SHAP analysis for rdk5 fingerprints...\n",
      "Trial 13/40 - Training XGBoost for rdk5 fingerprints...\n"
     ]
    },
    {
     "name": "stderr",
     "output_type": "stream",
     "text": [
      "/home/zeus/miniconda3/envs/cloudspace/lib/python3.9/site-packages/xgboost/core.py:158: UserWarning: [23:36:18] WARNING: /workspace/src/learner.cc:740: \n",
      "Parameters: { \"use_label_encoder\" } are not used.\n",
      "\n",
      "  warnings.warn(smsg, UserWarning)\n"
     ]
    },
    {
     "name": "stdout",
     "output_type": "stream",
     "text": [
      "Trial 13 - rdk5 Accuracy: 0.9293\n",
      "Trial 13 - Running SHAP analysis for rdk5 fingerprints...\n",
      "Trial 14/40 - Training XGBoost for rdk5 fingerprints...\n"
     ]
    },
    {
     "name": "stderr",
     "output_type": "stream",
     "text": [
      "/home/zeus/miniconda3/envs/cloudspace/lib/python3.9/site-packages/xgboost/core.py:158: UserWarning: [23:36:23] WARNING: /workspace/src/learner.cc:740: \n",
      "Parameters: { \"use_label_encoder\" } are not used.\n",
      "\n",
      "  warnings.warn(smsg, UserWarning)\n"
     ]
    },
    {
     "name": "stdout",
     "output_type": "stream",
     "text": [
      "Trial 14 - rdk5 Accuracy: 0.9293\n",
      "Trial 14 - Running SHAP analysis for rdk5 fingerprints...\n",
      "Trial 15/40 - Training XGBoost for rdk5 fingerprints...\n"
     ]
    },
    {
     "name": "stderr",
     "output_type": "stream",
     "text": [
      "/home/zeus/miniconda3/envs/cloudspace/lib/python3.9/site-packages/xgboost/core.py:158: UserWarning: [23:36:28] WARNING: /workspace/src/learner.cc:740: \n",
      "Parameters: { \"use_label_encoder\" } are not used.\n",
      "\n",
      "  warnings.warn(smsg, UserWarning)\n"
     ]
    },
    {
     "name": "stdout",
     "output_type": "stream",
     "text": [
      "Trial 15 - rdk5 Accuracy: 0.9293\n",
      "Trial 15 - Running SHAP analysis for rdk5 fingerprints...\n",
      "Trial 16/40 - Training XGBoost for rdk5 fingerprints...\n"
     ]
    },
    {
     "name": "stderr",
     "output_type": "stream",
     "text": [
      "/home/zeus/miniconda3/envs/cloudspace/lib/python3.9/site-packages/xgboost/core.py:158: UserWarning: [23:36:33] WARNING: /workspace/src/learner.cc:740: \n",
      "Parameters: { \"use_label_encoder\" } are not used.\n",
      "\n",
      "  warnings.warn(smsg, UserWarning)\n"
     ]
    },
    {
     "name": "stdout",
     "output_type": "stream",
     "text": [
      "Trial 16 - rdk5 Accuracy: 0.9293\n",
      "Trial 16 - Running SHAP analysis for rdk5 fingerprints...\n",
      "Trial 17/40 - Training XGBoost for rdk5 fingerprints...\n"
     ]
    },
    {
     "name": "stderr",
     "output_type": "stream",
     "text": [
      "/home/zeus/miniconda3/envs/cloudspace/lib/python3.9/site-packages/xgboost/core.py:158: UserWarning: [23:36:37] WARNING: /workspace/src/learner.cc:740: \n",
      "Parameters: { \"use_label_encoder\" } are not used.\n",
      "\n",
      "  warnings.warn(smsg, UserWarning)\n"
     ]
    },
    {
     "name": "stdout",
     "output_type": "stream",
     "text": [
      "Trial 17 - rdk5 Accuracy: 0.9293\n",
      "Trial 17 - Running SHAP analysis for rdk5 fingerprints...\n",
      "Trial 18/40 - Training XGBoost for rdk5 fingerprints...\n"
     ]
    },
    {
     "name": "stderr",
     "output_type": "stream",
     "text": [
      "/home/zeus/miniconda3/envs/cloudspace/lib/python3.9/site-packages/xgboost/core.py:158: UserWarning: [23:36:40] WARNING: /workspace/src/learner.cc:740: \n",
      "Parameters: { \"use_label_encoder\" } are not used.\n",
      "\n",
      "  warnings.warn(smsg, UserWarning)\n"
     ]
    },
    {
     "name": "stdout",
     "output_type": "stream",
     "text": [
      "Trial 18 - rdk5 Accuracy: 0.9293\n",
      "Trial 18 - Running SHAP analysis for rdk5 fingerprints...\n",
      "Trial 19/40 - Training XGBoost for rdk5 fingerprints...\n"
     ]
    },
    {
     "name": "stderr",
     "output_type": "stream",
     "text": [
      "/home/zeus/miniconda3/envs/cloudspace/lib/python3.9/site-packages/xgboost/core.py:158: UserWarning: [23:36:45] WARNING: /workspace/src/learner.cc:740: \n",
      "Parameters: { \"use_label_encoder\" } are not used.\n",
      "\n",
      "  warnings.warn(smsg, UserWarning)\n"
     ]
    },
    {
     "name": "stdout",
     "output_type": "stream",
     "text": [
      "Trial 19 - rdk5 Accuracy: 0.9293\n",
      "Trial 19 - Running SHAP analysis for rdk5 fingerprints...\n",
      "Trial 20/40 - Training XGBoost for rdk5 fingerprints...\n"
     ]
    },
    {
     "name": "stderr",
     "output_type": "stream",
     "text": [
      "/home/zeus/miniconda3/envs/cloudspace/lib/python3.9/site-packages/xgboost/core.py:158: UserWarning: [23:36:49] WARNING: /workspace/src/learner.cc:740: \n",
      "Parameters: { \"use_label_encoder\" } are not used.\n",
      "\n",
      "  warnings.warn(smsg, UserWarning)\n"
     ]
    },
    {
     "name": "stdout",
     "output_type": "stream",
     "text": [
      "Trial 20 - rdk5 Accuracy: 0.9293\n",
      "Trial 20 - Running SHAP analysis for rdk5 fingerprints...\n",
      "Trial 21/40 - Training XGBoost for rdk5 fingerprints...\n"
     ]
    },
    {
     "name": "stderr",
     "output_type": "stream",
     "text": [
      "/home/zeus/miniconda3/envs/cloudspace/lib/python3.9/site-packages/xgboost/core.py:158: UserWarning: [23:36:53] WARNING: /workspace/src/learner.cc:740: \n",
      "Parameters: { \"use_label_encoder\" } are not used.\n",
      "\n",
      "  warnings.warn(smsg, UserWarning)\n"
     ]
    },
    {
     "name": "stdout",
     "output_type": "stream",
     "text": [
      "Trial 21 - rdk5 Accuracy: 0.9293\n",
      "Trial 21 - Running SHAP analysis for rdk5 fingerprints...\n",
      "Trial 22/40 - Training XGBoost for rdk5 fingerprints...\n"
     ]
    },
    {
     "name": "stderr",
     "output_type": "stream",
     "text": [
      "/home/zeus/miniconda3/envs/cloudspace/lib/python3.9/site-packages/xgboost/core.py:158: UserWarning: [23:36:57] WARNING: /workspace/src/learner.cc:740: \n",
      "Parameters: { \"use_label_encoder\" } are not used.\n",
      "\n",
      "  warnings.warn(smsg, UserWarning)\n"
     ]
    },
    {
     "name": "stdout",
     "output_type": "stream",
     "text": [
      "Trial 22 - rdk5 Accuracy: 0.9293\n",
      "Trial 22 - Running SHAP analysis for rdk5 fingerprints...\n",
      "Trial 23/40 - Training XGBoost for rdk5 fingerprints...\n"
     ]
    },
    {
     "name": "stderr",
     "output_type": "stream",
     "text": [
      "/home/zeus/miniconda3/envs/cloudspace/lib/python3.9/site-packages/xgboost/core.py:158: UserWarning: [23:37:01] WARNING: /workspace/src/learner.cc:740: \n",
      "Parameters: { \"use_label_encoder\" } are not used.\n",
      "\n",
      "  warnings.warn(smsg, UserWarning)\n"
     ]
    },
    {
     "name": "stdout",
     "output_type": "stream",
     "text": [
      "Trial 23 - rdk5 Accuracy: 0.9293\n",
      "Trial 23 - Running SHAP analysis for rdk5 fingerprints...\n",
      "Trial 24/40 - Training XGBoost for rdk5 fingerprints...\n"
     ]
    },
    {
     "name": "stderr",
     "output_type": "stream",
     "text": [
      "/home/zeus/miniconda3/envs/cloudspace/lib/python3.9/site-packages/xgboost/core.py:158: UserWarning: [23:37:05] WARNING: /workspace/src/learner.cc:740: \n",
      "Parameters: { \"use_label_encoder\" } are not used.\n",
      "\n",
      "  warnings.warn(smsg, UserWarning)\n"
     ]
    },
    {
     "name": "stdout",
     "output_type": "stream",
     "text": [
      "Trial 24 - rdk5 Accuracy: 0.9293\n",
      "Trial 24 - Running SHAP analysis for rdk5 fingerprints...\n",
      "Trial 25/40 - Training XGBoost for rdk5 fingerprints...\n"
     ]
    },
    {
     "name": "stderr",
     "output_type": "stream",
     "text": [
      "/home/zeus/miniconda3/envs/cloudspace/lib/python3.9/site-packages/xgboost/core.py:158: UserWarning: [23:37:09] WARNING: /workspace/src/learner.cc:740: \n",
      "Parameters: { \"use_label_encoder\" } are not used.\n",
      "\n",
      "  warnings.warn(smsg, UserWarning)\n"
     ]
    },
    {
     "name": "stdout",
     "output_type": "stream",
     "text": [
      "Trial 25 - rdk5 Accuracy: 0.9293\n",
      "Trial 25 - Running SHAP analysis for rdk5 fingerprints...\n",
      "Trial 26/40 - Training XGBoost for rdk5 fingerprints...\n"
     ]
    },
    {
     "name": "stderr",
     "output_type": "stream",
     "text": [
      "/home/zeus/miniconda3/envs/cloudspace/lib/python3.9/site-packages/xgboost/core.py:158: UserWarning: [23:37:14] WARNING: /workspace/src/learner.cc:740: \n",
      "Parameters: { \"use_label_encoder\" } are not used.\n",
      "\n",
      "  warnings.warn(smsg, UserWarning)\n"
     ]
    },
    {
     "name": "stdout",
     "output_type": "stream",
     "text": [
      "Trial 26 - rdk5 Accuracy: 0.9293\n",
      "Trial 26 - Running SHAP analysis for rdk5 fingerprints...\n",
      "Trial 27/40 - Training XGBoost for rdk5 fingerprints...\n"
     ]
    },
    {
     "name": "stderr",
     "output_type": "stream",
     "text": [
      "/home/zeus/miniconda3/envs/cloudspace/lib/python3.9/site-packages/xgboost/core.py:158: UserWarning: [23:37:18] WARNING: /workspace/src/learner.cc:740: \n",
      "Parameters: { \"use_label_encoder\" } are not used.\n",
      "\n",
      "  warnings.warn(smsg, UserWarning)\n"
     ]
    },
    {
     "name": "stdout",
     "output_type": "stream",
     "text": [
      "Trial 27 - rdk5 Accuracy: 0.9293\n",
      "Trial 27 - Running SHAP analysis for rdk5 fingerprints...\n",
      "Trial 28/40 - Training XGBoost for rdk5 fingerprints...\n"
     ]
    },
    {
     "name": "stderr",
     "output_type": "stream",
     "text": [
      "/home/zeus/miniconda3/envs/cloudspace/lib/python3.9/site-packages/xgboost/core.py:158: UserWarning: [23:37:22] WARNING: /workspace/src/learner.cc:740: \n",
      "Parameters: { \"use_label_encoder\" } are not used.\n",
      "\n",
      "  warnings.warn(smsg, UserWarning)\n"
     ]
    },
    {
     "name": "stdout",
     "output_type": "stream",
     "text": [
      "Trial 28 - rdk5 Accuracy: 0.9293\n",
      "Trial 28 - Running SHAP analysis for rdk5 fingerprints...\n",
      "Trial 29/40 - Training XGBoost for rdk5 fingerprints...\n"
     ]
    },
    {
     "name": "stderr",
     "output_type": "stream",
     "text": [
      "/home/zeus/miniconda3/envs/cloudspace/lib/python3.9/site-packages/xgboost/core.py:158: UserWarning: [23:37:27] WARNING: /workspace/src/learner.cc:740: \n",
      "Parameters: { \"use_label_encoder\" } are not used.\n",
      "\n",
      "  warnings.warn(smsg, UserWarning)\n"
     ]
    },
    {
     "name": "stdout",
     "output_type": "stream",
     "text": [
      "Trial 29 - rdk5 Accuracy: 0.9293\n",
      "Trial 29 - Running SHAP analysis for rdk5 fingerprints...\n",
      "Trial 30/40 - Training XGBoost for rdk5 fingerprints...\n"
     ]
    },
    {
     "name": "stderr",
     "output_type": "stream",
     "text": [
      "/home/zeus/miniconda3/envs/cloudspace/lib/python3.9/site-packages/xgboost/core.py:158: UserWarning: [23:37:33] WARNING: /workspace/src/learner.cc:740: \n",
      "Parameters: { \"use_label_encoder\" } are not used.\n",
      "\n",
      "  warnings.warn(smsg, UserWarning)\n"
     ]
    },
    {
     "name": "stdout",
     "output_type": "stream",
     "text": [
      "Trial 30 - rdk5 Accuracy: 0.9293\n",
      "Trial 30 - Running SHAP analysis for rdk5 fingerprints...\n",
      "Trial 31/40 - Training XGBoost for rdk5 fingerprints...\n"
     ]
    },
    {
     "name": "stderr",
     "output_type": "stream",
     "text": [
      "/home/zeus/miniconda3/envs/cloudspace/lib/python3.9/site-packages/xgboost/core.py:158: UserWarning: [23:37:36] WARNING: /workspace/src/learner.cc:740: \n",
      "Parameters: { \"use_label_encoder\" } are not used.\n",
      "\n",
      "  warnings.warn(smsg, UserWarning)\n"
     ]
    },
    {
     "name": "stdout",
     "output_type": "stream",
     "text": [
      "Trial 31 - rdk5 Accuracy: 0.9293\n",
      "Trial 31 - Running SHAP analysis for rdk5 fingerprints...\n",
      "Trial 32/40 - Training XGBoost for rdk5 fingerprints...\n"
     ]
    },
    {
     "name": "stderr",
     "output_type": "stream",
     "text": [
      "/home/zeus/miniconda3/envs/cloudspace/lib/python3.9/site-packages/xgboost/core.py:158: UserWarning: [23:37:41] WARNING: /workspace/src/learner.cc:740: \n",
      "Parameters: { \"use_label_encoder\" } are not used.\n",
      "\n",
      "  warnings.warn(smsg, UserWarning)\n"
     ]
    },
    {
     "name": "stdout",
     "output_type": "stream",
     "text": [
      "Trial 32 - rdk5 Accuracy: 0.9293\n",
      "Trial 32 - Running SHAP analysis for rdk5 fingerprints...\n",
      "Trial 33/40 - Training XGBoost for rdk5 fingerprints...\n"
     ]
    },
    {
     "name": "stderr",
     "output_type": "stream",
     "text": [
      "/home/zeus/miniconda3/envs/cloudspace/lib/python3.9/site-packages/xgboost/core.py:158: UserWarning: [23:37:45] WARNING: /workspace/src/learner.cc:740: \n",
      "Parameters: { \"use_label_encoder\" } are not used.\n",
      "\n",
      "  warnings.warn(smsg, UserWarning)\n"
     ]
    },
    {
     "name": "stdout",
     "output_type": "stream",
     "text": [
      "Trial 33 - rdk5 Accuracy: 0.9293\n",
      "Trial 33 - Running SHAP analysis for rdk5 fingerprints...\n",
      "Trial 34/40 - Training XGBoost for rdk5 fingerprints...\n"
     ]
    },
    {
     "name": "stderr",
     "output_type": "stream",
     "text": [
      "/home/zeus/miniconda3/envs/cloudspace/lib/python3.9/site-packages/xgboost/core.py:158: UserWarning: [23:37:49] WARNING: /workspace/src/learner.cc:740: \n",
      "Parameters: { \"use_label_encoder\" } are not used.\n",
      "\n",
      "  warnings.warn(smsg, UserWarning)\n"
     ]
    },
    {
     "name": "stdout",
     "output_type": "stream",
     "text": [
      "Trial 34 - rdk5 Accuracy: 0.9293\n",
      "Trial 34 - Running SHAP analysis for rdk5 fingerprints...\n",
      "Trial 35/40 - Training XGBoost for rdk5 fingerprints...\n"
     ]
    },
    {
     "name": "stderr",
     "output_type": "stream",
     "text": [
      "/home/zeus/miniconda3/envs/cloudspace/lib/python3.9/site-packages/xgboost/core.py:158: UserWarning: [23:37:53] WARNING: /workspace/src/learner.cc:740: \n",
      "Parameters: { \"use_label_encoder\" } are not used.\n",
      "\n",
      "  warnings.warn(smsg, UserWarning)\n"
     ]
    },
    {
     "name": "stdout",
     "output_type": "stream",
     "text": [
      "Trial 35 - rdk5 Accuracy: 0.9293\n",
      "Trial 35 - Running SHAP analysis for rdk5 fingerprints...\n",
      "Trial 36/40 - Training XGBoost for rdk5 fingerprints...\n"
     ]
    },
    {
     "name": "stderr",
     "output_type": "stream",
     "text": [
      "/home/zeus/miniconda3/envs/cloudspace/lib/python3.9/site-packages/xgboost/core.py:158: UserWarning: [23:37:57] WARNING: /workspace/src/learner.cc:740: \n",
      "Parameters: { \"use_label_encoder\" } are not used.\n",
      "\n",
      "  warnings.warn(smsg, UserWarning)\n"
     ]
    },
    {
     "name": "stdout",
     "output_type": "stream",
     "text": [
      "Trial 36 - rdk5 Accuracy: 0.9293\n",
      "Trial 36 - Running SHAP analysis for rdk5 fingerprints...\n",
      "Trial 37/40 - Training XGBoost for rdk5 fingerprints...\n"
     ]
    },
    {
     "name": "stderr",
     "output_type": "stream",
     "text": [
      "/home/zeus/miniconda3/envs/cloudspace/lib/python3.9/site-packages/xgboost/core.py:158: UserWarning: [23:38:01] WARNING: /workspace/src/learner.cc:740: \n",
      "Parameters: { \"use_label_encoder\" } are not used.\n",
      "\n",
      "  warnings.warn(smsg, UserWarning)\n"
     ]
    },
    {
     "name": "stdout",
     "output_type": "stream",
     "text": [
      "Trial 37 - rdk5 Accuracy: 0.9293\n",
      "Trial 37 - Running SHAP analysis for rdk5 fingerprints...\n",
      "Trial 38/40 - Training XGBoost for rdk5 fingerprints...\n"
     ]
    },
    {
     "name": "stderr",
     "output_type": "stream",
     "text": [
      "/home/zeus/miniconda3/envs/cloudspace/lib/python3.9/site-packages/xgboost/core.py:158: UserWarning: [23:38:05] WARNING: /workspace/src/learner.cc:740: \n",
      "Parameters: { \"use_label_encoder\" } are not used.\n",
      "\n",
      "  warnings.warn(smsg, UserWarning)\n"
     ]
    },
    {
     "name": "stdout",
     "output_type": "stream",
     "text": [
      "Trial 38 - rdk5 Accuracy: 0.9293\n",
      "Trial 38 - Running SHAP analysis for rdk5 fingerprints...\n",
      "Trial 39/40 - Training XGBoost for rdk5 fingerprints...\n"
     ]
    },
    {
     "name": "stderr",
     "output_type": "stream",
     "text": [
      "/home/zeus/miniconda3/envs/cloudspace/lib/python3.9/site-packages/xgboost/core.py:158: UserWarning: [23:38:11] WARNING: /workspace/src/learner.cc:740: \n",
      "Parameters: { \"use_label_encoder\" } are not used.\n",
      "\n",
      "  warnings.warn(smsg, UserWarning)\n"
     ]
    },
    {
     "name": "stdout",
     "output_type": "stream",
     "text": [
      "Trial 39 - rdk5 Accuracy: 0.9293\n",
      "Trial 39 - Running SHAP analysis for rdk5 fingerprints...\n",
      "Trial 40/40 - Training XGBoost for rdk5 fingerprints...\n"
     ]
    },
    {
     "name": "stderr",
     "output_type": "stream",
     "text": [
      "/home/zeus/miniconda3/envs/cloudspace/lib/python3.9/site-packages/xgboost/core.py:158: UserWarning: [23:38:15] WARNING: /workspace/src/learner.cc:740: \n",
      "Parameters: { \"use_label_encoder\" } are not used.\n",
      "\n",
      "  warnings.warn(smsg, UserWarning)\n"
     ]
    },
    {
     "name": "stdout",
     "output_type": "stream",
     "text": [
      "Trial 40 - rdk5 Accuracy: 0.9293\n",
      "Trial 40 - Running SHAP analysis for rdk5 fingerprints...\n",
      "All trials completed. Results and SHAP plots saved to: /teamspace/studios/this_studio/datasets/xgb\n"
     ]
    }
   ],
   "source": [
    "import os\n",
    "import joblib\n",
    "import shap\n",
    "import numpy as np\n",
    "import pandas as pd\n",
    "import matplotlib.pyplot as plt\n",
    "from xgboost import XGBClassifier\n",
    "from sklearn.metrics import accuracy_score\n",
    "\n",
    "# Define datasets and results directory\n",
    "output_dir = os.path.expanduser(\"~/datasets/xgb\")\n",
    "os.makedirs(output_dir, exist_ok=True)\n",
    "\n",
    "# Define dataset mappings\n",
    "datasets = {\n",
    "    \"morgan\": (X_morgan_train_activity, X_morgan_test_activity, y_morgan_train_activity, y_morgan_test_activity),\n",
    "    \"ap\": (X_ap_train_activity, X_ap_test_activity, y_ap_train_activity, y_ap_test_activity),\n",
    "    \"rdk5\": (X_rdk5_train_activity, X_rdk5_test_activity, y_rdk5_train_activity, y_rdk5_test_activity)\n",
    "}\n",
    "\n",
    "# Number of trials\n",
    "num_trials = 40\n",
    "results = []\n",
    "\n",
    "# Run XGBoost training for each fingerprint type\n",
    "for name, (X_train, X_test, y_train, y_test) in datasets.items():\n",
    "    for trial in range(1, num_trials + 1):\n",
    "        print(f\"Trial {trial}/{num_trials} - Training XGBoost for {name} fingerprints...\")\n",
    "        \n",
    "        # Initialize and train model\n",
    "        model = XGBClassifier(use_label_encoder=False, eval_metric=\"logloss\", random_state=trial)\n",
    "        model.fit(X_train, y_train)\n",
    "        \n",
    "        # Evaluate model\n",
    "        y_pred = model.predict(X_test)\n",
    "        accuracy = accuracy_score(y_test, y_pred)\n",
    "        print(f\"Trial {trial} - {name} Accuracy: {accuracy:.4f}\")\n",
    "        \n",
    "        # Save model\n",
    "        model_path = os.path.join(output_dir, f\"xgboost_{name}_trial{trial}.pkl\")\n",
    "        joblib.dump(model, model_path)\n",
    "\n",
    "        # Run SHAP analysis\n",
    "        print(f\"Trial {trial} - Running SHAP analysis for {name} fingerprints...\")\n",
    "        explainer = shap.Explainer(model, X_test)\n",
    "        shap_values = explainer(X_test)\n",
    "\n",
    "        # Save SHAP values\n",
    "        shap_path = os.path.join(output_dir, f\"shap_values_{name}_trial{trial}.pkl\")\n",
    "        joblib.dump(shap_values, shap_path)\n",
    "\n",
    "        # Save SHAP summary plot as image\n",
    "        shap_plot_path = os.path.join(output_dir, f\"shap_summary_{name}_trial{trial}.png\")\n",
    "        plt.figure()\n",
    "        shap.summary_plot(shap_values, X_test, show=False)\n",
    "        plt.savefig(shap_plot_path, bbox_inches=\"tight\")\n",
    "        plt.close()\n",
    "\n",
    "        # Store results\n",
    "        results.append({\n",
    "            \"trial\": trial,\n",
    "            \"dataset\": name,\n",
    "            \"accuracy\": accuracy,\n",
    "            \"model_path\": model_path,\n",
    "            \"shap_path\": shap_path,\n",
    "            \"shap_plot_path\": shap_plot_path\n",
    "        })\n",
    "\n",
    "# Convert results to DataFrame and save\n",
    "results_df = pd.DataFrame(results)\n",
    "results_df.to_csv(os.path.join(output_dir, \"xgboost_results.csv\"), index=False)\n",
    "\n",
    "print(\"All trials completed. Results and SHAP plots saved to:\", output_dir)"
   ]
  }
 ],
 "metadata": {
  "language_info": {
   "name": "python"
  }
 },
 "nbformat": 4,
 "nbformat_minor": 2
}
