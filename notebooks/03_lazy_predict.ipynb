{
 "cells": [
  {
   "cell_type": "code",
   "execution_count": 13,
   "metadata": {},
   "outputs": [
    {
     "name": "stdout",
     "output_type": "stream",
     "text": [
      "Packages downloaded successfully\n"
     ]
    }
   ],
   "source": [
    "!pip install lazypredict --quiet\n",
    "!pip install seaborn --quiet\n",
    "print(\"Packages downloaded successfully\")"
   ]
  },
  {
   "cell_type": "code",
   "execution_count": 14,
   "metadata": {},
   "outputs": [],
   "source": [
    "import pandas as pd\n",
    "from sklearn.model_selection import train_test_split"
   ]
  },
  {
   "cell_type": "code",
   "execution_count": 15,
   "metadata": {},
   "outputs": [],
   "source": [
    "morgan_dataset = pd.read_csv(\"~/datasets/morgan_dataset.csv\")\n",
    "ap_dataset = pd.read_csv(\"~/datasets/ap_dataset.csv\")\n",
    "rdk5_dataset = pd.read_csv(\"~/datasets/rdk5_dataset.csv\")"
   ]
  },
  {
   "cell_type": "code",
   "execution_count": 16,
   "metadata": {},
   "outputs": [
    {
     "data": {
      "text/html": [
       "<div>\n",
       "<style scoped>\n",
       "    .dataframe tbody tr th:only-of-type {\n",
       "        vertical-align: middle;\n",
       "    }\n",
       "\n",
       "    .dataframe tbody tr th {\n",
       "        vertical-align: top;\n",
       "    }\n",
       "\n",
       "    .dataframe thead th {\n",
       "        text-align: right;\n",
       "    }\n",
       "</style>\n",
       "<table border=\"1\" class=\"dataframe\">\n",
       "  <thead>\n",
       "    <tr style=\"text-align: right;\">\n",
       "      <th></th>\n",
       "      <th>pIC50</th>\n",
       "      <th>activity</th>\n",
       "      <th>morgan_fp_0</th>\n",
       "      <th>morgan_fp_1</th>\n",
       "      <th>morgan_fp_2</th>\n",
       "      <th>morgan_fp_3</th>\n",
       "      <th>morgan_fp_4</th>\n",
       "      <th>morgan_fp_5</th>\n",
       "      <th>morgan_fp_6</th>\n",
       "      <th>morgan_fp_7</th>\n",
       "      <th>...</th>\n",
       "      <th>morgan_fp_1014</th>\n",
       "      <th>morgan_fp_1015</th>\n",
       "      <th>morgan_fp_1016</th>\n",
       "      <th>morgan_fp_1017</th>\n",
       "      <th>morgan_fp_1018</th>\n",
       "      <th>morgan_fp_1019</th>\n",
       "      <th>morgan_fp_1020</th>\n",
       "      <th>morgan_fp_1021</th>\n",
       "      <th>morgan_fp_1022</th>\n",
       "      <th>morgan_fp_1023</th>\n",
       "    </tr>\n",
       "  </thead>\n",
       "  <tbody>\n",
       "    <tr>\n",
       "      <th>0</th>\n",
       "      <td>7.47</td>\n",
       "      <td>1</td>\n",
       "      <td>0</td>\n",
       "      <td>0</td>\n",
       "      <td>0</td>\n",
       "      <td>0</td>\n",
       "      <td>0</td>\n",
       "      <td>0</td>\n",
       "      <td>0</td>\n",
       "      <td>0</td>\n",
       "      <td>...</td>\n",
       "      <td>0</td>\n",
       "      <td>0</td>\n",
       "      <td>0</td>\n",
       "      <td>0</td>\n",
       "      <td>0</td>\n",
       "      <td>0</td>\n",
       "      <td>0</td>\n",
       "      <td>0</td>\n",
       "      <td>0</td>\n",
       "      <td>0</td>\n",
       "    </tr>\n",
       "    <tr>\n",
       "      <th>1</th>\n",
       "      <td>8.05</td>\n",
       "      <td>1</td>\n",
       "      <td>0</td>\n",
       "      <td>0</td>\n",
       "      <td>0</td>\n",
       "      <td>0</td>\n",
       "      <td>0</td>\n",
       "      <td>0</td>\n",
       "      <td>0</td>\n",
       "      <td>0</td>\n",
       "      <td>...</td>\n",
       "      <td>0</td>\n",
       "      <td>0</td>\n",
       "      <td>0</td>\n",
       "      <td>0</td>\n",
       "      <td>0</td>\n",
       "      <td>0</td>\n",
       "      <td>0</td>\n",
       "      <td>0</td>\n",
       "      <td>0</td>\n",
       "      <td>0</td>\n",
       "    </tr>\n",
       "    <tr>\n",
       "      <th>2</th>\n",
       "      <td>7.70</td>\n",
       "      <td>1</td>\n",
       "      <td>0</td>\n",
       "      <td>0</td>\n",
       "      <td>0</td>\n",
       "      <td>0</td>\n",
       "      <td>0</td>\n",
       "      <td>0</td>\n",
       "      <td>0</td>\n",
       "      <td>0</td>\n",
       "      <td>...</td>\n",
       "      <td>0</td>\n",
       "      <td>0</td>\n",
       "      <td>0</td>\n",
       "      <td>0</td>\n",
       "      <td>0</td>\n",
       "      <td>0</td>\n",
       "      <td>0</td>\n",
       "      <td>0</td>\n",
       "      <td>0</td>\n",
       "      <td>0</td>\n",
       "    </tr>\n",
       "    <tr>\n",
       "      <th>3</th>\n",
       "      <td>8.52</td>\n",
       "      <td>1</td>\n",
       "      <td>0</td>\n",
       "      <td>0</td>\n",
       "      <td>0</td>\n",
       "      <td>0</td>\n",
       "      <td>0</td>\n",
       "      <td>0</td>\n",
       "      <td>0</td>\n",
       "      <td>0</td>\n",
       "      <td>...</td>\n",
       "      <td>0</td>\n",
       "      <td>0</td>\n",
       "      <td>0</td>\n",
       "      <td>0</td>\n",
       "      <td>1</td>\n",
       "      <td>0</td>\n",
       "      <td>0</td>\n",
       "      <td>0</td>\n",
       "      <td>0</td>\n",
       "      <td>0</td>\n",
       "    </tr>\n",
       "    <tr>\n",
       "      <th>4</th>\n",
       "      <td>8.05</td>\n",
       "      <td>1</td>\n",
       "      <td>0</td>\n",
       "      <td>1</td>\n",
       "      <td>0</td>\n",
       "      <td>0</td>\n",
       "      <td>0</td>\n",
       "      <td>0</td>\n",
       "      <td>0</td>\n",
       "      <td>0</td>\n",
       "      <td>...</td>\n",
       "      <td>0</td>\n",
       "      <td>0</td>\n",
       "      <td>0</td>\n",
       "      <td>0</td>\n",
       "      <td>0</td>\n",
       "      <td>0</td>\n",
       "      <td>0</td>\n",
       "      <td>0</td>\n",
       "      <td>0</td>\n",
       "      <td>0</td>\n",
       "    </tr>\n",
       "    <tr>\n",
       "      <th>...</th>\n",
       "      <td>...</td>\n",
       "      <td>...</td>\n",
       "      <td>...</td>\n",
       "      <td>...</td>\n",
       "      <td>...</td>\n",
       "      <td>...</td>\n",
       "      <td>...</td>\n",
       "      <td>...</td>\n",
       "      <td>...</td>\n",
       "      <td>...</td>\n",
       "      <td>...</td>\n",
       "      <td>...</td>\n",
       "      <td>...</td>\n",
       "      <td>...</td>\n",
       "      <td>...</td>\n",
       "      <td>...</td>\n",
       "      <td>...</td>\n",
       "      <td>...</td>\n",
       "      <td>...</td>\n",
       "      <td>...</td>\n",
       "      <td>...</td>\n",
       "    </tr>\n",
       "    <tr>\n",
       "      <th>2043</th>\n",
       "      <td>6.48</td>\n",
       "      <td>1</td>\n",
       "      <td>0</td>\n",
       "      <td>1</td>\n",
       "      <td>0</td>\n",
       "      <td>0</td>\n",
       "      <td>0</td>\n",
       "      <td>0</td>\n",
       "      <td>0</td>\n",
       "      <td>0</td>\n",
       "      <td>...</td>\n",
       "      <td>0</td>\n",
       "      <td>0</td>\n",
       "      <td>0</td>\n",
       "      <td>0</td>\n",
       "      <td>0</td>\n",
       "      <td>0</td>\n",
       "      <td>0</td>\n",
       "      <td>0</td>\n",
       "      <td>1</td>\n",
       "      <td>0</td>\n",
       "    </tr>\n",
       "    <tr>\n",
       "      <th>2044</th>\n",
       "      <td>5.40</td>\n",
       "      <td>1</td>\n",
       "      <td>0</td>\n",
       "      <td>1</td>\n",
       "      <td>0</td>\n",
       "      <td>0</td>\n",
       "      <td>0</td>\n",
       "      <td>0</td>\n",
       "      <td>0</td>\n",
       "      <td>0</td>\n",
       "      <td>...</td>\n",
       "      <td>0</td>\n",
       "      <td>0</td>\n",
       "      <td>0</td>\n",
       "      <td>0</td>\n",
       "      <td>0</td>\n",
       "      <td>0</td>\n",
       "      <td>0</td>\n",
       "      <td>0</td>\n",
       "      <td>1</td>\n",
       "      <td>0</td>\n",
       "    </tr>\n",
       "    <tr>\n",
       "      <th>2045</th>\n",
       "      <td>7.02</td>\n",
       "      <td>1</td>\n",
       "      <td>0</td>\n",
       "      <td>1</td>\n",
       "      <td>0</td>\n",
       "      <td>0</td>\n",
       "      <td>0</td>\n",
       "      <td>0</td>\n",
       "      <td>0</td>\n",
       "      <td>0</td>\n",
       "      <td>...</td>\n",
       "      <td>0</td>\n",
       "      <td>0</td>\n",
       "      <td>0</td>\n",
       "      <td>0</td>\n",
       "      <td>0</td>\n",
       "      <td>0</td>\n",
       "      <td>0</td>\n",
       "      <td>0</td>\n",
       "      <td>0</td>\n",
       "      <td>0</td>\n",
       "    </tr>\n",
       "    <tr>\n",
       "      <th>2046</th>\n",
       "      <td>6.03</td>\n",
       "      <td>1</td>\n",
       "      <td>0</td>\n",
       "      <td>1</td>\n",
       "      <td>0</td>\n",
       "      <td>0</td>\n",
       "      <td>0</td>\n",
       "      <td>0</td>\n",
       "      <td>0</td>\n",
       "      <td>0</td>\n",
       "      <td>...</td>\n",
       "      <td>0</td>\n",
       "      <td>0</td>\n",
       "      <td>0</td>\n",
       "      <td>0</td>\n",
       "      <td>0</td>\n",
       "      <td>0</td>\n",
       "      <td>0</td>\n",
       "      <td>0</td>\n",
       "      <td>1</td>\n",
       "      <td>0</td>\n",
       "    </tr>\n",
       "    <tr>\n",
       "      <th>2047</th>\n",
       "      <td>7.44</td>\n",
       "      <td>1</td>\n",
       "      <td>0</td>\n",
       "      <td>1</td>\n",
       "      <td>0</td>\n",
       "      <td>0</td>\n",
       "      <td>0</td>\n",
       "      <td>0</td>\n",
       "      <td>0</td>\n",
       "      <td>0</td>\n",
       "      <td>...</td>\n",
       "      <td>0</td>\n",
       "      <td>0</td>\n",
       "      <td>0</td>\n",
       "      <td>0</td>\n",
       "      <td>0</td>\n",
       "      <td>0</td>\n",
       "      <td>0</td>\n",
       "      <td>0</td>\n",
       "      <td>0</td>\n",
       "      <td>0</td>\n",
       "    </tr>\n",
       "  </tbody>\n",
       "</table>\n",
       "<p>2048 rows × 1026 columns</p>\n",
       "</div>"
      ],
      "text/plain": [
       "      pIC50  activity  morgan_fp_0  morgan_fp_1  morgan_fp_2  morgan_fp_3  \\\n",
       "0      7.47         1            0            0            0            0   \n",
       "1      8.05         1            0            0            0            0   \n",
       "2      7.70         1            0            0            0            0   \n",
       "3      8.52         1            0            0            0            0   \n",
       "4      8.05         1            0            1            0            0   \n",
       "...     ...       ...          ...          ...          ...          ...   \n",
       "2043   6.48         1            0            1            0            0   \n",
       "2044   5.40         1            0            1            0            0   \n",
       "2045   7.02         1            0            1            0            0   \n",
       "2046   6.03         1            0            1            0            0   \n",
       "2047   7.44         1            0            1            0            0   \n",
       "\n",
       "      morgan_fp_4  morgan_fp_5  morgan_fp_6  morgan_fp_7  ...  morgan_fp_1014  \\\n",
       "0               0            0            0            0  ...               0   \n",
       "1               0            0            0            0  ...               0   \n",
       "2               0            0            0            0  ...               0   \n",
       "3               0            0            0            0  ...               0   \n",
       "4               0            0            0            0  ...               0   \n",
       "...           ...          ...          ...          ...  ...             ...   \n",
       "2043            0            0            0            0  ...               0   \n",
       "2044            0            0            0            0  ...               0   \n",
       "2045            0            0            0            0  ...               0   \n",
       "2046            0            0            0            0  ...               0   \n",
       "2047            0            0            0            0  ...               0   \n",
       "\n",
       "      morgan_fp_1015  morgan_fp_1016  morgan_fp_1017  morgan_fp_1018  \\\n",
       "0                  0               0               0               0   \n",
       "1                  0               0               0               0   \n",
       "2                  0               0               0               0   \n",
       "3                  0               0               0               1   \n",
       "4                  0               0               0               0   \n",
       "...              ...             ...             ...             ...   \n",
       "2043               0               0               0               0   \n",
       "2044               0               0               0               0   \n",
       "2045               0               0               0               0   \n",
       "2046               0               0               0               0   \n",
       "2047               0               0               0               0   \n",
       "\n",
       "      morgan_fp_1019  morgan_fp_1020  morgan_fp_1021  morgan_fp_1022  \\\n",
       "0                  0               0               0               0   \n",
       "1                  0               0               0               0   \n",
       "2                  0               0               0               0   \n",
       "3                  0               0               0               0   \n",
       "4                  0               0               0               0   \n",
       "...              ...             ...             ...             ...   \n",
       "2043               0               0               0               1   \n",
       "2044               0               0               0               1   \n",
       "2045               0               0               0               0   \n",
       "2046               0               0               0               1   \n",
       "2047               0               0               0               0   \n",
       "\n",
       "      morgan_fp_1023  \n",
       "0                  0  \n",
       "1                  0  \n",
       "2                  0  \n",
       "3                  0  \n",
       "4                  0  \n",
       "...              ...  \n",
       "2043               0  \n",
       "2044               0  \n",
       "2045               0  \n",
       "2046               0  \n",
       "2047               0  \n",
       "\n",
       "[2048 rows x 1026 columns]"
      ]
     },
     "execution_count": 16,
     "metadata": {},
     "output_type": "execute_result"
    }
   ],
   "source": [
    "morgan_dataset"
   ]
  },
  {
   "cell_type": "code",
   "execution_count": 17,
   "metadata": {},
   "outputs": [
    {
     "data": {
      "text/html": [
       "<div>\n",
       "<style scoped>\n",
       "    .dataframe tbody tr th:only-of-type {\n",
       "        vertical-align: middle;\n",
       "    }\n",
       "\n",
       "    .dataframe tbody tr th {\n",
       "        vertical-align: top;\n",
       "    }\n",
       "\n",
       "    .dataframe thead th {\n",
       "        text-align: right;\n",
       "    }\n",
       "</style>\n",
       "<table border=\"1\" class=\"dataframe\">\n",
       "  <thead>\n",
       "    <tr style=\"text-align: right;\">\n",
       "      <th></th>\n",
       "      <th>pIC50</th>\n",
       "      <th>activity</th>\n",
       "      <th>ap_fp_0</th>\n",
       "      <th>ap_fp_1</th>\n",
       "      <th>ap_fp_2</th>\n",
       "      <th>ap_fp_3</th>\n",
       "      <th>ap_fp_4</th>\n",
       "      <th>ap_fp_5</th>\n",
       "      <th>ap_fp_6</th>\n",
       "      <th>ap_fp_7</th>\n",
       "      <th>...</th>\n",
       "      <th>ap_fp_2038</th>\n",
       "      <th>ap_fp_2039</th>\n",
       "      <th>ap_fp_2040</th>\n",
       "      <th>ap_fp_2041</th>\n",
       "      <th>ap_fp_2042</th>\n",
       "      <th>ap_fp_2043</th>\n",
       "      <th>ap_fp_2044</th>\n",
       "      <th>ap_fp_2045</th>\n",
       "      <th>ap_fp_2046</th>\n",
       "      <th>ap_fp_2047</th>\n",
       "    </tr>\n",
       "  </thead>\n",
       "  <tbody>\n",
       "    <tr>\n",
       "      <th>0</th>\n",
       "      <td>7.47</td>\n",
       "      <td>1</td>\n",
       "      <td>1</td>\n",
       "      <td>1</td>\n",
       "      <td>1</td>\n",
       "      <td>1</td>\n",
       "      <td>1</td>\n",
       "      <td>1</td>\n",
       "      <td>1</td>\n",
       "      <td>0</td>\n",
       "      <td>...</td>\n",
       "      <td>0</td>\n",
       "      <td>0</td>\n",
       "      <td>0</td>\n",
       "      <td>0</td>\n",
       "      <td>0</td>\n",
       "      <td>0</td>\n",
       "      <td>0</td>\n",
       "      <td>0</td>\n",
       "      <td>0</td>\n",
       "      <td>0</td>\n",
       "    </tr>\n",
       "    <tr>\n",
       "      <th>1</th>\n",
       "      <td>8.05</td>\n",
       "      <td>1</td>\n",
       "      <td>1</td>\n",
       "      <td>1</td>\n",
       "      <td>1</td>\n",
       "      <td>1</td>\n",
       "      <td>1</td>\n",
       "      <td>1</td>\n",
       "      <td>1</td>\n",
       "      <td>0</td>\n",
       "      <td>...</td>\n",
       "      <td>0</td>\n",
       "      <td>0</td>\n",
       "      <td>0</td>\n",
       "      <td>0</td>\n",
       "      <td>0</td>\n",
       "      <td>0</td>\n",
       "      <td>0</td>\n",
       "      <td>0</td>\n",
       "      <td>0</td>\n",
       "      <td>0</td>\n",
       "    </tr>\n",
       "    <tr>\n",
       "      <th>2</th>\n",
       "      <td>7.70</td>\n",
       "      <td>1</td>\n",
       "      <td>1</td>\n",
       "      <td>1</td>\n",
       "      <td>1</td>\n",
       "      <td>1</td>\n",
       "      <td>1</td>\n",
       "      <td>1</td>\n",
       "      <td>1</td>\n",
       "      <td>1</td>\n",
       "      <td>...</td>\n",
       "      <td>0</td>\n",
       "      <td>0</td>\n",
       "      <td>0</td>\n",
       "      <td>0</td>\n",
       "      <td>0</td>\n",
       "      <td>0</td>\n",
       "      <td>1</td>\n",
       "      <td>0</td>\n",
       "      <td>0</td>\n",
       "      <td>0</td>\n",
       "    </tr>\n",
       "    <tr>\n",
       "      <th>3</th>\n",
       "      <td>8.52</td>\n",
       "      <td>1</td>\n",
       "      <td>1</td>\n",
       "      <td>1</td>\n",
       "      <td>1</td>\n",
       "      <td>1</td>\n",
       "      <td>1</td>\n",
       "      <td>1</td>\n",
       "      <td>1</td>\n",
       "      <td>0</td>\n",
       "      <td>...</td>\n",
       "      <td>0</td>\n",
       "      <td>0</td>\n",
       "      <td>0</td>\n",
       "      <td>0</td>\n",
       "      <td>0</td>\n",
       "      <td>0</td>\n",
       "      <td>0</td>\n",
       "      <td>0</td>\n",
       "      <td>0</td>\n",
       "      <td>0</td>\n",
       "    </tr>\n",
       "    <tr>\n",
       "      <th>4</th>\n",
       "      <td>8.05</td>\n",
       "      <td>1</td>\n",
       "      <td>0</td>\n",
       "      <td>0</td>\n",
       "      <td>0</td>\n",
       "      <td>0</td>\n",
       "      <td>1</td>\n",
       "      <td>1</td>\n",
       "      <td>0</td>\n",
       "      <td>0</td>\n",
       "      <td>...</td>\n",
       "      <td>0</td>\n",
       "      <td>0</td>\n",
       "      <td>0</td>\n",
       "      <td>0</td>\n",
       "      <td>0</td>\n",
       "      <td>0</td>\n",
       "      <td>0</td>\n",
       "      <td>0</td>\n",
       "      <td>0</td>\n",
       "      <td>0</td>\n",
       "    </tr>\n",
       "    <tr>\n",
       "      <th>...</th>\n",
       "      <td>...</td>\n",
       "      <td>...</td>\n",
       "      <td>...</td>\n",
       "      <td>...</td>\n",
       "      <td>...</td>\n",
       "      <td>...</td>\n",
       "      <td>...</td>\n",
       "      <td>...</td>\n",
       "      <td>...</td>\n",
       "      <td>...</td>\n",
       "      <td>...</td>\n",
       "      <td>...</td>\n",
       "      <td>...</td>\n",
       "      <td>...</td>\n",
       "      <td>...</td>\n",
       "      <td>...</td>\n",
       "      <td>...</td>\n",
       "      <td>...</td>\n",
       "      <td>...</td>\n",
       "      <td>...</td>\n",
       "      <td>...</td>\n",
       "    </tr>\n",
       "    <tr>\n",
       "      <th>2043</th>\n",
       "      <td>6.48</td>\n",
       "      <td>1</td>\n",
       "      <td>1</td>\n",
       "      <td>1</td>\n",
       "      <td>1</td>\n",
       "      <td>0</td>\n",
       "      <td>1</td>\n",
       "      <td>1</td>\n",
       "      <td>1</td>\n",
       "      <td>0</td>\n",
       "      <td>...</td>\n",
       "      <td>0</td>\n",
       "      <td>0</td>\n",
       "      <td>0</td>\n",
       "      <td>0</td>\n",
       "      <td>0</td>\n",
       "      <td>0</td>\n",
       "      <td>0</td>\n",
       "      <td>0</td>\n",
       "      <td>0</td>\n",
       "      <td>0</td>\n",
       "    </tr>\n",
       "    <tr>\n",
       "      <th>2044</th>\n",
       "      <td>5.40</td>\n",
       "      <td>1</td>\n",
       "      <td>1</td>\n",
       "      <td>1</td>\n",
       "      <td>1</td>\n",
       "      <td>0</td>\n",
       "      <td>1</td>\n",
       "      <td>1</td>\n",
       "      <td>1</td>\n",
       "      <td>0</td>\n",
       "      <td>...</td>\n",
       "      <td>0</td>\n",
       "      <td>0</td>\n",
       "      <td>0</td>\n",
       "      <td>0</td>\n",
       "      <td>0</td>\n",
       "      <td>0</td>\n",
       "      <td>0</td>\n",
       "      <td>0</td>\n",
       "      <td>0</td>\n",
       "      <td>0</td>\n",
       "    </tr>\n",
       "    <tr>\n",
       "      <th>2045</th>\n",
       "      <td>7.02</td>\n",
       "      <td>1</td>\n",
       "      <td>0</td>\n",
       "      <td>0</td>\n",
       "      <td>0</td>\n",
       "      <td>0</td>\n",
       "      <td>1</td>\n",
       "      <td>1</td>\n",
       "      <td>0</td>\n",
       "      <td>0</td>\n",
       "      <td>...</td>\n",
       "      <td>0</td>\n",
       "      <td>0</td>\n",
       "      <td>0</td>\n",
       "      <td>0</td>\n",
       "      <td>0</td>\n",
       "      <td>0</td>\n",
       "      <td>0</td>\n",
       "      <td>0</td>\n",
       "      <td>0</td>\n",
       "      <td>0</td>\n",
       "    </tr>\n",
       "    <tr>\n",
       "      <th>2046</th>\n",
       "      <td>6.03</td>\n",
       "      <td>1</td>\n",
       "      <td>1</td>\n",
       "      <td>1</td>\n",
       "      <td>1</td>\n",
       "      <td>0</td>\n",
       "      <td>1</td>\n",
       "      <td>1</td>\n",
       "      <td>1</td>\n",
       "      <td>0</td>\n",
       "      <td>...</td>\n",
       "      <td>0</td>\n",
       "      <td>0</td>\n",
       "      <td>0</td>\n",
       "      <td>0</td>\n",
       "      <td>0</td>\n",
       "      <td>0</td>\n",
       "      <td>1</td>\n",
       "      <td>0</td>\n",
       "      <td>0</td>\n",
       "      <td>0</td>\n",
       "    </tr>\n",
       "    <tr>\n",
       "      <th>2047</th>\n",
       "      <td>7.44</td>\n",
       "      <td>1</td>\n",
       "      <td>1</td>\n",
       "      <td>1</td>\n",
       "      <td>0</td>\n",
       "      <td>0</td>\n",
       "      <td>1</td>\n",
       "      <td>1</td>\n",
       "      <td>1</td>\n",
       "      <td>0</td>\n",
       "      <td>...</td>\n",
       "      <td>0</td>\n",
       "      <td>0</td>\n",
       "      <td>0</td>\n",
       "      <td>0</td>\n",
       "      <td>0</td>\n",
       "      <td>0</td>\n",
       "      <td>0</td>\n",
       "      <td>0</td>\n",
       "      <td>0</td>\n",
       "      <td>0</td>\n",
       "    </tr>\n",
       "  </tbody>\n",
       "</table>\n",
       "<p>2048 rows × 2050 columns</p>\n",
       "</div>"
      ],
      "text/plain": [
       "      pIC50  activity  ap_fp_0  ap_fp_1  ap_fp_2  ap_fp_3  ap_fp_4  ap_fp_5  \\\n",
       "0      7.47         1        1        1        1        1        1        1   \n",
       "1      8.05         1        1        1        1        1        1        1   \n",
       "2      7.70         1        1        1        1        1        1        1   \n",
       "3      8.52         1        1        1        1        1        1        1   \n",
       "4      8.05         1        0        0        0        0        1        1   \n",
       "...     ...       ...      ...      ...      ...      ...      ...      ...   \n",
       "2043   6.48         1        1        1        1        0        1        1   \n",
       "2044   5.40         1        1        1        1        0        1        1   \n",
       "2045   7.02         1        0        0        0        0        1        1   \n",
       "2046   6.03         1        1        1        1        0        1        1   \n",
       "2047   7.44         1        1        1        0        0        1        1   \n",
       "\n",
       "      ap_fp_6  ap_fp_7  ...  ap_fp_2038  ap_fp_2039  ap_fp_2040  ap_fp_2041  \\\n",
       "0           1        0  ...           0           0           0           0   \n",
       "1           1        0  ...           0           0           0           0   \n",
       "2           1        1  ...           0           0           0           0   \n",
       "3           1        0  ...           0           0           0           0   \n",
       "4           0        0  ...           0           0           0           0   \n",
       "...       ...      ...  ...         ...         ...         ...         ...   \n",
       "2043        1        0  ...           0           0           0           0   \n",
       "2044        1        0  ...           0           0           0           0   \n",
       "2045        0        0  ...           0           0           0           0   \n",
       "2046        1        0  ...           0           0           0           0   \n",
       "2047        1        0  ...           0           0           0           0   \n",
       "\n",
       "      ap_fp_2042  ap_fp_2043  ap_fp_2044  ap_fp_2045  ap_fp_2046  ap_fp_2047  \n",
       "0              0           0           0           0           0           0  \n",
       "1              0           0           0           0           0           0  \n",
       "2              0           0           1           0           0           0  \n",
       "3              0           0           0           0           0           0  \n",
       "4              0           0           0           0           0           0  \n",
       "...          ...         ...         ...         ...         ...         ...  \n",
       "2043           0           0           0           0           0           0  \n",
       "2044           0           0           0           0           0           0  \n",
       "2045           0           0           0           0           0           0  \n",
       "2046           0           0           1           0           0           0  \n",
       "2047           0           0           0           0           0           0  \n",
       "\n",
       "[2048 rows x 2050 columns]"
      ]
     },
     "execution_count": 17,
     "metadata": {},
     "output_type": "execute_result"
    }
   ],
   "source": [
    "ap_dataset"
   ]
  },
  {
   "cell_type": "code",
   "execution_count": 18,
   "metadata": {},
   "outputs": [
    {
     "data": {
      "text/html": [
       "<div>\n",
       "<style scoped>\n",
       "    .dataframe tbody tr th:only-of-type {\n",
       "        vertical-align: middle;\n",
       "    }\n",
       "\n",
       "    .dataframe tbody tr th {\n",
       "        vertical-align: top;\n",
       "    }\n",
       "\n",
       "    .dataframe thead th {\n",
       "        text-align: right;\n",
       "    }\n",
       "</style>\n",
       "<table border=\"1\" class=\"dataframe\">\n",
       "  <thead>\n",
       "    <tr style=\"text-align: right;\">\n",
       "      <th></th>\n",
       "      <th>pIC50</th>\n",
       "      <th>activity</th>\n",
       "      <th>rdk5_fp_0</th>\n",
       "      <th>rdk5_fp_1</th>\n",
       "      <th>rdk5_fp_2</th>\n",
       "      <th>rdk5_fp_3</th>\n",
       "      <th>rdk5_fp_4</th>\n",
       "      <th>rdk5_fp_5</th>\n",
       "      <th>rdk5_fp_6</th>\n",
       "      <th>rdk5_fp_7</th>\n",
       "      <th>...</th>\n",
       "      <th>rdk5_fp_2038</th>\n",
       "      <th>rdk5_fp_2039</th>\n",
       "      <th>rdk5_fp_2040</th>\n",
       "      <th>rdk5_fp_2041</th>\n",
       "      <th>rdk5_fp_2042</th>\n",
       "      <th>rdk5_fp_2043</th>\n",
       "      <th>rdk5_fp_2044</th>\n",
       "      <th>rdk5_fp_2045</th>\n",
       "      <th>rdk5_fp_2046</th>\n",
       "      <th>rdk5_fp_2047</th>\n",
       "    </tr>\n",
       "  </thead>\n",
       "  <tbody>\n",
       "    <tr>\n",
       "      <th>0</th>\n",
       "      <td>7.47</td>\n",
       "      <td>1</td>\n",
       "      <td>0.00</td>\n",
       "      <td>1.00</td>\n",
       "      <td>0.00</td>\n",
       "      <td>0.00</td>\n",
       "      <td>0.00</td>\n",
       "      <td>0.00</td>\n",
       "      <td>0.00</td>\n",
       "      <td>1.00</td>\n",
       "      <td>...</td>\n",
       "      <td>0.00</td>\n",
       "      <td>1.00</td>\n",
       "      <td>0.00</td>\n",
       "      <td>0.00</td>\n",
       "      <td>0.00</td>\n",
       "      <td>1.00</td>\n",
       "      <td>0.00</td>\n",
       "      <td>0.00</td>\n",
       "      <td>1.00</td>\n",
       "      <td>1.00</td>\n",
       "    </tr>\n",
       "    <tr>\n",
       "      <th>1</th>\n",
       "      <td>8.05</td>\n",
       "      <td>1</td>\n",
       "      <td>0.00</td>\n",
       "      <td>1.00</td>\n",
       "      <td>0.00</td>\n",
       "      <td>0.00</td>\n",
       "      <td>0.00</td>\n",
       "      <td>0.00</td>\n",
       "      <td>0.00</td>\n",
       "      <td>1.00</td>\n",
       "      <td>...</td>\n",
       "      <td>0.00</td>\n",
       "      <td>1.00</td>\n",
       "      <td>0.00</td>\n",
       "      <td>0.00</td>\n",
       "      <td>0.00</td>\n",
       "      <td>1.00</td>\n",
       "      <td>0.00</td>\n",
       "      <td>0.00</td>\n",
       "      <td>1.00</td>\n",
       "      <td>1.00</td>\n",
       "    </tr>\n",
       "    <tr>\n",
       "      <th>2</th>\n",
       "      <td>7.70</td>\n",
       "      <td>1</td>\n",
       "      <td>0.00</td>\n",
       "      <td>1.00</td>\n",
       "      <td>1.00</td>\n",
       "      <td>0.00</td>\n",
       "      <td>0.00</td>\n",
       "      <td>0.00</td>\n",
       "      <td>0.00</td>\n",
       "      <td>1.00</td>\n",
       "      <td>...</td>\n",
       "      <td>0.00</td>\n",
       "      <td>1.00</td>\n",
       "      <td>0.00</td>\n",
       "      <td>0.00</td>\n",
       "      <td>0.00</td>\n",
       "      <td>1.00</td>\n",
       "      <td>0.00</td>\n",
       "      <td>0.00</td>\n",
       "      <td>1.00</td>\n",
       "      <td>1.00</td>\n",
       "    </tr>\n",
       "    <tr>\n",
       "      <th>3</th>\n",
       "      <td>8.52</td>\n",
       "      <td>1</td>\n",
       "      <td>0.00</td>\n",
       "      <td>1.00</td>\n",
       "      <td>0.00</td>\n",
       "      <td>0.00</td>\n",
       "      <td>0.00</td>\n",
       "      <td>0.00</td>\n",
       "      <td>0.00</td>\n",
       "      <td>1.00</td>\n",
       "      <td>...</td>\n",
       "      <td>1.00</td>\n",
       "      <td>1.00</td>\n",
       "      <td>0.00</td>\n",
       "      <td>0.00</td>\n",
       "      <td>0.00</td>\n",
       "      <td>1.00</td>\n",
       "      <td>0.00</td>\n",
       "      <td>0.00</td>\n",
       "      <td>1.00</td>\n",
       "      <td>1.00</td>\n",
       "    </tr>\n",
       "    <tr>\n",
       "      <th>4</th>\n",
       "      <td>8.05</td>\n",
       "      <td>1</td>\n",
       "      <td>1.00</td>\n",
       "      <td>0.00</td>\n",
       "      <td>1.00</td>\n",
       "      <td>1.00</td>\n",
       "      <td>0.00</td>\n",
       "      <td>1.00</td>\n",
       "      <td>0.00</td>\n",
       "      <td>0.00</td>\n",
       "      <td>...</td>\n",
       "      <td>1.00</td>\n",
       "      <td>0.00</td>\n",
       "      <td>0.00</td>\n",
       "      <td>1.00</td>\n",
       "      <td>0.00</td>\n",
       "      <td>1.00</td>\n",
       "      <td>0.00</td>\n",
       "      <td>0.00</td>\n",
       "      <td>0.00</td>\n",
       "      <td>1.00</td>\n",
       "    </tr>\n",
       "    <tr>\n",
       "      <th>...</th>\n",
       "      <td>...</td>\n",
       "      <td>...</td>\n",
       "      <td>...</td>\n",
       "      <td>...</td>\n",
       "      <td>...</td>\n",
       "      <td>...</td>\n",
       "      <td>...</td>\n",
       "      <td>...</td>\n",
       "      <td>...</td>\n",
       "      <td>...</td>\n",
       "      <td>...</td>\n",
       "      <td>...</td>\n",
       "      <td>...</td>\n",
       "      <td>...</td>\n",
       "      <td>...</td>\n",
       "      <td>...</td>\n",
       "      <td>...</td>\n",
       "      <td>...</td>\n",
       "      <td>...</td>\n",
       "      <td>...</td>\n",
       "      <td>...</td>\n",
       "    </tr>\n",
       "    <tr>\n",
       "      <th>2043</th>\n",
       "      <td>6.48</td>\n",
       "      <td>1</td>\n",
       "      <td>1.00</td>\n",
       "      <td>1.00</td>\n",
       "      <td>1.00</td>\n",
       "      <td>1.00</td>\n",
       "      <td>0.00</td>\n",
       "      <td>1.00</td>\n",
       "      <td>0.00</td>\n",
       "      <td>1.00</td>\n",
       "      <td>...</td>\n",
       "      <td>1.00</td>\n",
       "      <td>1.00</td>\n",
       "      <td>0.00</td>\n",
       "      <td>0.00</td>\n",
       "      <td>0.00</td>\n",
       "      <td>1.00</td>\n",
       "      <td>1.00</td>\n",
       "      <td>0.00</td>\n",
       "      <td>0.00</td>\n",
       "      <td>1.00</td>\n",
       "    </tr>\n",
       "    <tr>\n",
       "      <th>2044</th>\n",
       "      <td>5.40</td>\n",
       "      <td>1</td>\n",
       "      <td>1.00</td>\n",
       "      <td>1.00</td>\n",
       "      <td>1.00</td>\n",
       "      <td>1.00</td>\n",
       "      <td>0.00</td>\n",
       "      <td>1.00</td>\n",
       "      <td>0.00</td>\n",
       "      <td>1.00</td>\n",
       "      <td>...</td>\n",
       "      <td>1.00</td>\n",
       "      <td>1.00</td>\n",
       "      <td>0.00</td>\n",
       "      <td>0.00</td>\n",
       "      <td>0.00</td>\n",
       "      <td>1.00</td>\n",
       "      <td>1.00</td>\n",
       "      <td>0.00</td>\n",
       "      <td>0.00</td>\n",
       "      <td>1.00</td>\n",
       "    </tr>\n",
       "    <tr>\n",
       "      <th>2045</th>\n",
       "      <td>7.02</td>\n",
       "      <td>1</td>\n",
       "      <td>1.00</td>\n",
       "      <td>1.00</td>\n",
       "      <td>1.00</td>\n",
       "      <td>1.00</td>\n",
       "      <td>0.00</td>\n",
       "      <td>1.00</td>\n",
       "      <td>0.00</td>\n",
       "      <td>1.00</td>\n",
       "      <td>...</td>\n",
       "      <td>1.00</td>\n",
       "      <td>1.00</td>\n",
       "      <td>0.00</td>\n",
       "      <td>0.00</td>\n",
       "      <td>0.00</td>\n",
       "      <td>1.00</td>\n",
       "      <td>1.00</td>\n",
       "      <td>0.00</td>\n",
       "      <td>0.00</td>\n",
       "      <td>1.00</td>\n",
       "    </tr>\n",
       "    <tr>\n",
       "      <th>2046</th>\n",
       "      <td>6.03</td>\n",
       "      <td>1</td>\n",
       "      <td>1.00</td>\n",
       "      <td>1.00</td>\n",
       "      <td>1.00</td>\n",
       "      <td>1.00</td>\n",
       "      <td>0.00</td>\n",
       "      <td>1.00</td>\n",
       "      <td>0.00</td>\n",
       "      <td>1.00</td>\n",
       "      <td>...</td>\n",
       "      <td>1.00</td>\n",
       "      <td>1.00</td>\n",
       "      <td>0.00</td>\n",
       "      <td>0.00</td>\n",
       "      <td>1.00</td>\n",
       "      <td>1.00</td>\n",
       "      <td>1.00</td>\n",
       "      <td>0.00</td>\n",
       "      <td>0.00</td>\n",
       "      <td>1.00</td>\n",
       "    </tr>\n",
       "    <tr>\n",
       "      <th>2047</th>\n",
       "      <td>7.44</td>\n",
       "      <td>1</td>\n",
       "      <td>1.00</td>\n",
       "      <td>1.00</td>\n",
       "      <td>1.00</td>\n",
       "      <td>1.00</td>\n",
       "      <td>0.00</td>\n",
       "      <td>1.00</td>\n",
       "      <td>0.00</td>\n",
       "      <td>1.00</td>\n",
       "      <td>...</td>\n",
       "      <td>1.00</td>\n",
       "      <td>1.00</td>\n",
       "      <td>0.00</td>\n",
       "      <td>0.00</td>\n",
       "      <td>0.00</td>\n",
       "      <td>1.00</td>\n",
       "      <td>1.00</td>\n",
       "      <td>0.00</td>\n",
       "      <td>0.00</td>\n",
       "      <td>1.00</td>\n",
       "    </tr>\n",
       "  </tbody>\n",
       "</table>\n",
       "<p>2048 rows × 2050 columns</p>\n",
       "</div>"
      ],
      "text/plain": [
       "      pIC50  activity  rdk5_fp_0  rdk5_fp_1  rdk5_fp_2  rdk5_fp_3  rdk5_fp_4  \\\n",
       "0      7.47         1       0.00       1.00       0.00       0.00       0.00   \n",
       "1      8.05         1       0.00       1.00       0.00       0.00       0.00   \n",
       "2      7.70         1       0.00       1.00       1.00       0.00       0.00   \n",
       "3      8.52         1       0.00       1.00       0.00       0.00       0.00   \n",
       "4      8.05         1       1.00       0.00       1.00       1.00       0.00   \n",
       "...     ...       ...        ...        ...        ...        ...        ...   \n",
       "2043   6.48         1       1.00       1.00       1.00       1.00       0.00   \n",
       "2044   5.40         1       1.00       1.00       1.00       1.00       0.00   \n",
       "2045   7.02         1       1.00       1.00       1.00       1.00       0.00   \n",
       "2046   6.03         1       1.00       1.00       1.00       1.00       0.00   \n",
       "2047   7.44         1       1.00       1.00       1.00       1.00       0.00   \n",
       "\n",
       "      rdk5_fp_5  rdk5_fp_6  rdk5_fp_7  ...  rdk5_fp_2038  rdk5_fp_2039  \\\n",
       "0          0.00       0.00       1.00  ...          0.00          1.00   \n",
       "1          0.00       0.00       1.00  ...          0.00          1.00   \n",
       "2          0.00       0.00       1.00  ...          0.00          1.00   \n",
       "3          0.00       0.00       1.00  ...          1.00          1.00   \n",
       "4          1.00       0.00       0.00  ...          1.00          0.00   \n",
       "...         ...        ...        ...  ...           ...           ...   \n",
       "2043       1.00       0.00       1.00  ...          1.00          1.00   \n",
       "2044       1.00       0.00       1.00  ...          1.00          1.00   \n",
       "2045       1.00       0.00       1.00  ...          1.00          1.00   \n",
       "2046       1.00       0.00       1.00  ...          1.00          1.00   \n",
       "2047       1.00       0.00       1.00  ...          1.00          1.00   \n",
       "\n",
       "      rdk5_fp_2040  rdk5_fp_2041  rdk5_fp_2042  rdk5_fp_2043  rdk5_fp_2044  \\\n",
       "0             0.00          0.00          0.00          1.00          0.00   \n",
       "1             0.00          0.00          0.00          1.00          0.00   \n",
       "2             0.00          0.00          0.00          1.00          0.00   \n",
       "3             0.00          0.00          0.00          1.00          0.00   \n",
       "4             0.00          1.00          0.00          1.00          0.00   \n",
       "...            ...           ...           ...           ...           ...   \n",
       "2043          0.00          0.00          0.00          1.00          1.00   \n",
       "2044          0.00          0.00          0.00          1.00          1.00   \n",
       "2045          0.00          0.00          0.00          1.00          1.00   \n",
       "2046          0.00          0.00          1.00          1.00          1.00   \n",
       "2047          0.00          0.00          0.00          1.00          1.00   \n",
       "\n",
       "      rdk5_fp_2045  rdk5_fp_2046  rdk5_fp_2047  \n",
       "0             0.00          1.00          1.00  \n",
       "1             0.00          1.00          1.00  \n",
       "2             0.00          1.00          1.00  \n",
       "3             0.00          1.00          1.00  \n",
       "4             0.00          0.00          1.00  \n",
       "...            ...           ...           ...  \n",
       "2043          0.00          0.00          1.00  \n",
       "2044          0.00          0.00          1.00  \n",
       "2045          0.00          0.00          1.00  \n",
       "2046          0.00          0.00          1.00  \n",
       "2047          0.00          0.00          1.00  \n",
       "\n",
       "[2048 rows x 2050 columns]"
      ]
     },
     "execution_count": 18,
     "metadata": {},
     "output_type": "execute_result"
    }
   ],
   "source": [
    "rdk5_dataset"
   ]
  },
  {
   "cell_type": "code",
   "execution_count": 19,
   "metadata": {},
   "outputs": [],
   "source": [
    "# Ensure datasets are aligned (optional if already aligned)\n",
    "morgan_dataset, ap_dataset = morgan_dataset.align(ap_dataset, join='inner', axis=0)\n",
    "morgan_dataset, rdk5_dataset = morgan_dataset.align(rdk5_dataset, join='inner', axis=0)\n",
    "\n",
    "# Split morgan_dataset into training and testing sets (80% train, 20% test)\n",
    "morgan_train, morgan_test = train_test_split(morgan_dataset, test_size=0.2, random_state=42)\n",
    "\n",
    "# Now split ap_dataset and rdk5_dataset based on the indices of the split\n",
    "ap_train = ap_dataset.loc[morgan_train.index]  # Use the same indices from morgan_train\n",
    "ap_test = ap_dataset.loc[morgan_test.index]  # Use the same indices from morgan_test\n",
    "\n",
    "rdk5_train = rdk5_dataset.loc[morgan_train.index]  # Use the same indices from morgan_train\n",
    "rdk5_test = rdk5_dataset.loc[morgan_test.index]  # Use the same indices from morgan_test"
   ]
  },
  {
   "cell_type": "code",
   "execution_count": 20,
   "metadata": {},
   "outputs": [],
   "source": [
    "# Split based on 'activity' as the target\n",
    "X_morgan_train_activity = morgan_train.drop(columns=['activity', 'pIC50'])\n",
    "y_morgan_train_activity = morgan_train['activity']\n",
    "\n",
    "X_morgan_test_activity = morgan_test.drop(columns=['activity', 'pIC50'])\n",
    "y_morgan_test_activity = morgan_test['activity']\n",
    "\n",
    "X_ap_train_activity = ap_train.drop(columns=['activity', 'pIC50'])\n",
    "y_ap_train_activity = ap_train['activity']\n",
    "\n",
    "X_ap_test_activity = ap_test.drop(columns=['activity', 'pIC50'])\n",
    "y_ap_test_activity = ap_test['activity']\n",
    "\n",
    "X_rdk5_train_activity = rdk5_train.drop(columns=['activity', 'pIC50'])\n",
    "y_rdk5_train_activity = rdk5_train['activity']\n",
    "\n",
    "X_rdk5_test_activity = rdk5_test.drop(columns=['activity', 'pIC50'])\n",
    "y_rdk5_test_activity = rdk5_test['activity']\n",
    "\n",
    "\n",
    "# Split based on 'pIC50' as the target\n",
    "# X_morgan_train_pic50 = morgan_train.drop(columns=['activity', 'pIC50'])\n",
    "# y_morgan_train_pic50 = morgan_train['pIC50']\n",
    "\n",
    "# X_morgan_test_pic50 = morgan_test.drop(columns=['activity', 'pIC50'])\n",
    "# y_morgan_test_pic50 = morgan_test['pIC50']\n",
    "\n",
    "# X_ap_train_pic50 = ap_train.drop(columns=['activity', 'pIC50'])\n",
    "# y_ap_train_pic50 = ap_train['pIC50']\n",
    "\n",
    "# X_ap_test_pic50 = ap_test.drop(columns=['activity', 'pIC50'])\n",
    "# y_ap_test_pic50 = ap_test['pIC50']\n",
    "\n",
    "# X_rdk5_train_pic50 = rdk5_train.drop(columns=['activity', 'pIC50'])\n",
    "# y_rdk5_train_pic50 = rdk5_train['pIC50']\n",
    "\n",
    "# X_rdk5_test_pic50 = rdk5_test.drop(columns=['activity', 'pIC50'])\n",
    "# y_rdk5_test_pic50 = rdk5_test['pIC50']"
   ]
  },
  {
   "cell_type": "code",
   "execution_count": 21,
   "metadata": {},
   "outputs": [],
   "source": [
    "import os\n",
    "import pandas as pd\n",
    "from lazypredict.Supervised import LazyClassifier\n",
    "from typing import Tuple\n",
    "\n",
    "def run_lazy_classifier(\n",
    "    name: str,\n",
    "    X_train: pd.DataFrame,\n",
    "    X_test: pd.DataFrame,\n",
    "    y_train: pd.Series,\n",
    "    y_test: pd.Series,\n",
    "    num_trials: int,\n",
    "    save_dir: str\n",
    ") -> None:\n",
    "    \"\"\"\n",
    "    Runs LazyClassifier for a specified number of trials and saves results as CSV files.\n",
    "\n",
    "    Args:\n",
    "        X_train (pd.DataFrame): Training feature set.\n",
    "        X_test (pd.DataFrame): Testing feature set.\n",
    "        y_train (pd.Series): Training labels.\n",
    "        y_test (pd.Series): Testing labels.\n",
    "        num_trials (int): Number of times to train LazyClassifier.\n",
    "        save_dir (str): Directory to save model results.\n",
    "\n",
    "    Raises:\n",
    "        ValueError: If num_trials is less than 1.\n",
    "        FileNotFoundError: If save_dir does not exist.\n",
    "    \"\"\"\n",
    "    if num_trials < 1:\n",
    "        raise ValueError(\"num_trials must be at least 1.\")\n",
    "\n",
    "    if not os.path.exists(save_dir):\n",
    "        os.makedirs(save_dir)  # Create directory if it doesn't exist\n",
    "\n",
    "    for trial in range(1, num_trials + 1):\n",
    "        print(f\"Running LazyClassifier Trial {trial}...\")\n",
    "        clf = LazyClassifier(verbose=0, ignore_warnings=True, custom_metric=None)\n",
    "        models, predictions = clf.fit(X_train, X_test, y_train, y_test)\n",
    "        \n",
    "        # Save results as CSV\n",
    "        model_csv_path = os.path.join(save_dir, f\"{name}_results_trial_{trial}.csv\")\n",
    "        models.to_csv(model_csv_path)\n",
    "\n",
    "        print(f\"Trial {trial} completed. Results saved to {model_csv_path}.\")\n"
   ]
  },
  {
   "cell_type": "code",
   "execution_count": 26,
   "metadata": {},
   "outputs": [],
   "source": [
    "os.makedirs(os.path.expanduser(\"~/datasets/lazypredict\"), exist_ok=True)\n",
    "os.makedirs(os.path.expanduser(\"~/datasets/lazypredict/morgan\"), exist_ok=True)\n",
    "os.makedirs(os.path.expanduser(\"~/datasets/lazypredict/ap\"), exist_ok=True)\n",
    "os.makedirs(os.path.expanduser(\"~/datasets/lazypredict/rdk5\"), exist_ok=True)"
   ]
  },
  {
   "cell_type": "code",
   "execution_count": 27,
   "metadata": {},
   "outputs": [
    {
     "name": "stdout",
     "output_type": "stream",
     "text": [
      "Running LazyClassifier Trial 1...\n"
     ]
    },
    {
     "name": "stderr",
     "output_type": "stream",
     "text": [
      "  0%|          | 0/29 [00:00<?, ?it/s]"
     ]
    },
    {
     "name": "stderr",
     "output_type": "stream",
     "text": [
      "100%|██████████| 29/29 [00:36<00:00,  1.25s/it]\n"
     ]
    },
    {
     "name": "stdout",
     "output_type": "stream",
     "text": [
      "[LightGBM] [Info] Number of positive: 1390, number of negative: 248\n",
      "[LightGBM] [Info] Auto-choosing row-wise multi-threading, the overhead of testing was 0.005328 seconds.\n",
      "You can set `force_row_wise=true` to remove the overhead.\n",
      "And if memory is not enough, you can set `force_col_wise=true`.\n",
      "[LightGBM] [Info] Total Bins 1896\n",
      "[LightGBM] [Info] Number of data points in the train set: 1638, number of used features: 632\n",
      "[LightGBM] [Info] [binary:BoostFromScore]: pavg=0.848596 -> initscore=1.723630\n",
      "[LightGBM] [Info] Start training from score 1.723630\n",
      "Trial 1 completed. Results saved to ~/datasets/lazypredict/morgan/morgan_results_trial_1.csv.\n",
      "Running LazyClassifier Trial 2...\n"
     ]
    },
    {
     "name": "stderr",
     "output_type": "stream",
     "text": [
      "100%|██████████| 29/29 [00:23<00:00,  1.24it/s]\n"
     ]
    },
    {
     "name": "stdout",
     "output_type": "stream",
     "text": [
      "[LightGBM] [Info] Number of positive: 1390, number of negative: 248\n",
      "[LightGBM] [Info] Auto-choosing row-wise multi-threading, the overhead of testing was 0.004908 seconds.\n",
      "You can set `force_row_wise=true` to remove the overhead.\n",
      "And if memory is not enough, you can set `force_col_wise=true`.\n",
      "[LightGBM] [Info] Total Bins 1896\n",
      "[LightGBM] [Info] Number of data points in the train set: 1638, number of used features: 632\n",
      "[LightGBM] [Info] [binary:BoostFromScore]: pavg=0.848596 -> initscore=1.723630\n",
      "[LightGBM] [Info] Start training from score 1.723630\n",
      "Trial 2 completed. Results saved to ~/datasets/lazypredict/morgan/morgan_results_trial_2.csv.\n",
      "Running LazyClassifier Trial 3...\n"
     ]
    },
    {
     "name": "stderr",
     "output_type": "stream",
     "text": [
      "100%|██████████| 29/29 [00:21<00:00,  1.35it/s]\n"
     ]
    },
    {
     "name": "stdout",
     "output_type": "stream",
     "text": [
      "[LightGBM] [Info] Number of positive: 1390, number of negative: 248\n",
      "[LightGBM] [Info] Auto-choosing row-wise multi-threading, the overhead of testing was 0.003682 seconds.\n",
      "You can set `force_row_wise=true` to remove the overhead.\n",
      "And if memory is not enough, you can set `force_col_wise=true`.\n",
      "[LightGBM] [Info] Total Bins 1896\n",
      "[LightGBM] [Info] Number of data points in the train set: 1638, number of used features: 632\n",
      "[LightGBM] [Info] [binary:BoostFromScore]: pavg=0.848596 -> initscore=1.723630\n",
      "[LightGBM] [Info] Start training from score 1.723630\n",
      "Trial 3 completed. Results saved to ~/datasets/lazypredict/morgan/morgan_results_trial_3.csv.\n",
      "Running LazyClassifier Trial 4...\n"
     ]
    },
    {
     "name": "stderr",
     "output_type": "stream",
     "text": [
      "100%|██████████| 29/29 [00:21<00:00,  1.34it/s]\n"
     ]
    },
    {
     "name": "stdout",
     "output_type": "stream",
     "text": [
      "[LightGBM] [Info] Number of positive: 1390, number of negative: 248\n",
      "[LightGBM] [Info] Auto-choosing row-wise multi-threading, the overhead of testing was 0.003771 seconds.\n",
      "You can set `force_row_wise=true` to remove the overhead.\n",
      "And if memory is not enough, you can set `force_col_wise=true`.\n",
      "[LightGBM] [Info] Total Bins 1896\n",
      "[LightGBM] [Info] Number of data points in the train set: 1638, number of used features: 632\n",
      "[LightGBM] [Info] [binary:BoostFromScore]: pavg=0.848596 -> initscore=1.723630\n",
      "[LightGBM] [Info] Start training from score 1.723630\n",
      "Trial 4 completed. Results saved to ~/datasets/lazypredict/morgan/morgan_results_trial_4.csv.\n",
      "Running LazyClassifier Trial 5...\n"
     ]
    },
    {
     "name": "stderr",
     "output_type": "stream",
     "text": [
      "100%|██████████| 29/29 [00:21<00:00,  1.34it/s]\n"
     ]
    },
    {
     "name": "stdout",
     "output_type": "stream",
     "text": [
      "[LightGBM] [Info] Number of positive: 1390, number of negative: 248\n",
      "[LightGBM] [Info] Auto-choosing row-wise multi-threading, the overhead of testing was 0.004278 seconds.\n",
      "You can set `force_row_wise=true` to remove the overhead.\n",
      "And if memory is not enough, you can set `force_col_wise=true`.\n",
      "[LightGBM] [Info] Total Bins 1896\n",
      "[LightGBM] [Info] Number of data points in the train set: 1638, number of used features: 632\n",
      "[LightGBM] [Info] [binary:BoostFromScore]: pavg=0.848596 -> initscore=1.723630\n",
      "[LightGBM] [Info] Start training from score 1.723630\n",
      "Trial 5 completed. Results saved to ~/datasets/lazypredict/morgan/morgan_results_trial_5.csv.\n",
      "Running LazyClassifier Trial 6...\n"
     ]
    },
    {
     "name": "stderr",
     "output_type": "stream",
     "text": [
      "100%|██████████| 29/29 [00:20<00:00,  1.39it/s]\n"
     ]
    },
    {
     "name": "stdout",
     "output_type": "stream",
     "text": [
      "[LightGBM] [Info] Number of positive: 1390, number of negative: 248\n",
      "[LightGBM] [Info] Auto-choosing row-wise multi-threading, the overhead of testing was 0.004170 seconds.\n",
      "You can set `force_row_wise=true` to remove the overhead.\n",
      "And if memory is not enough, you can set `force_col_wise=true`.\n",
      "[LightGBM] [Info] Total Bins 1896\n",
      "[LightGBM] [Info] Number of data points in the train set: 1638, number of used features: 632\n",
      "[LightGBM] [Info] [binary:BoostFromScore]: pavg=0.848596 -> initscore=1.723630\n",
      "[LightGBM] [Info] Start training from score 1.723630\n",
      "Trial 6 completed. Results saved to ~/datasets/lazypredict/morgan/morgan_results_trial_6.csv.\n",
      "Running LazyClassifier Trial 7...\n"
     ]
    },
    {
     "name": "stderr",
     "output_type": "stream",
     "text": [
      "100%|██████████| 29/29 [00:21<00:00,  1.36it/s]\n"
     ]
    },
    {
     "name": "stdout",
     "output_type": "stream",
     "text": [
      "[LightGBM] [Info] Number of positive: 1390, number of negative: 248\n",
      "[LightGBM] [Info] Auto-choosing row-wise multi-threading, the overhead of testing was 0.003618 seconds.\n",
      "You can set `force_row_wise=true` to remove the overhead.\n",
      "And if memory is not enough, you can set `force_col_wise=true`.\n",
      "[LightGBM] [Info] Total Bins 1896\n",
      "[LightGBM] [Info] Number of data points in the train set: 1638, number of used features: 632\n",
      "[LightGBM] [Info] [binary:BoostFromScore]: pavg=0.848596 -> initscore=1.723630\n",
      "[LightGBM] [Info] Start training from score 1.723630\n",
      "Trial 7 completed. Results saved to ~/datasets/lazypredict/morgan/morgan_results_trial_7.csv.\n",
      "Running LazyClassifier Trial 8...\n"
     ]
    },
    {
     "name": "stderr",
     "output_type": "stream",
     "text": [
      "100%|██████████| 29/29 [00:22<00:00,  1.31it/s]\n"
     ]
    },
    {
     "name": "stdout",
     "output_type": "stream",
     "text": [
      "[LightGBM] [Info] Number of positive: 1390, number of negative: 248\n",
      "[LightGBM] [Info] Auto-choosing col-wise multi-threading, the overhead of testing was 0.004438 seconds.\n",
      "You can set `force_col_wise=true` to remove the overhead.\n",
      "[LightGBM] [Info] Total Bins 1896\n",
      "[LightGBM] [Info] Number of data points in the train set: 1638, number of used features: 632\n",
      "[LightGBM] [Info] [binary:BoostFromScore]: pavg=0.848596 -> initscore=1.723630\n",
      "[LightGBM] [Info] Start training from score 1.723630\n",
      "Trial 8 completed. Results saved to ~/datasets/lazypredict/morgan/morgan_results_trial_8.csv.\n",
      "Running LazyClassifier Trial 9...\n"
     ]
    },
    {
     "name": "stderr",
     "output_type": "stream",
     "text": [
      "100%|██████████| 29/29 [00:21<00:00,  1.35it/s]\n"
     ]
    },
    {
     "name": "stdout",
     "output_type": "stream",
     "text": [
      "[LightGBM] [Info] Number of positive: 1390, number of negative: 248\n",
      "[LightGBM] [Info] Auto-choosing row-wise multi-threading, the overhead of testing was 0.003662 seconds.\n",
      "You can set `force_row_wise=true` to remove the overhead.\n",
      "And if memory is not enough, you can set `force_col_wise=true`.\n",
      "[LightGBM] [Info] Total Bins 1896\n",
      "[LightGBM] [Info] Number of data points in the train set: 1638, number of used features: 632\n",
      "[LightGBM] [Info] [binary:BoostFromScore]: pavg=0.848596 -> initscore=1.723630\n",
      "[LightGBM] [Info] Start training from score 1.723630\n",
      "Trial 9 completed. Results saved to ~/datasets/lazypredict/morgan/morgan_results_trial_9.csv.\n",
      "Running LazyClassifier Trial 10...\n"
     ]
    },
    {
     "name": "stderr",
     "output_type": "stream",
     "text": [
      "100%|██████████| 29/29 [00:21<00:00,  1.34it/s]\n"
     ]
    },
    {
     "name": "stdout",
     "output_type": "stream",
     "text": [
      "[LightGBM] [Info] Number of positive: 1390, number of negative: 248\n",
      "[LightGBM] [Info] Auto-choosing row-wise multi-threading, the overhead of testing was 0.003607 seconds.\n",
      "You can set `force_row_wise=true` to remove the overhead.\n",
      "And if memory is not enough, you can set `force_col_wise=true`.\n",
      "[LightGBM] [Info] Total Bins 1896\n",
      "[LightGBM] [Info] Number of data points in the train set: 1638, number of used features: 632\n",
      "[LightGBM] [Info] [binary:BoostFromScore]: pavg=0.848596 -> initscore=1.723630\n",
      "[LightGBM] [Info] Start training from score 1.723630\n",
      "Trial 10 completed. Results saved to ~/datasets/lazypredict/morgan/morgan_results_trial_10.csv.\n",
      "Running LazyClassifier Trial 11...\n"
     ]
    },
    {
     "name": "stderr",
     "output_type": "stream",
     "text": [
      "100%|██████████| 29/29 [00:23<00:00,  1.23it/s]\n"
     ]
    },
    {
     "name": "stdout",
     "output_type": "stream",
     "text": [
      "[LightGBM] [Info] Number of positive: 1390, number of negative: 248\n",
      "[LightGBM] [Info] Auto-choosing row-wise multi-threading, the overhead of testing was 0.004609 seconds.\n",
      "You can set `force_row_wise=true` to remove the overhead.\n",
      "And if memory is not enough, you can set `force_col_wise=true`.\n",
      "[LightGBM] [Info] Total Bins 1896\n",
      "[LightGBM] [Info] Number of data points in the train set: 1638, number of used features: 632\n",
      "[LightGBM] [Info] [binary:BoostFromScore]: pavg=0.848596 -> initscore=1.723630\n",
      "[LightGBM] [Info] Start training from score 1.723630\n",
      "Trial 11 completed. Results saved to ~/datasets/lazypredict/morgan/morgan_results_trial_11.csv.\n",
      "Running LazyClassifier Trial 12...\n"
     ]
    },
    {
     "name": "stderr",
     "output_type": "stream",
     "text": [
      "100%|██████████| 29/29 [00:21<00:00,  1.34it/s]\n"
     ]
    },
    {
     "name": "stdout",
     "output_type": "stream",
     "text": [
      "[LightGBM] [Info] Number of positive: 1390, number of negative: 248\n",
      "[LightGBM] [Info] Auto-choosing row-wise multi-threading, the overhead of testing was 0.003588 seconds.\n",
      "You can set `force_row_wise=true` to remove the overhead.\n",
      "And if memory is not enough, you can set `force_col_wise=true`.\n",
      "[LightGBM] [Info] Total Bins 1896\n",
      "[LightGBM] [Info] Number of data points in the train set: 1638, number of used features: 632\n",
      "[LightGBM] [Info] [binary:BoostFromScore]: pavg=0.848596 -> initscore=1.723630\n",
      "[LightGBM] [Info] Start training from score 1.723630\n",
      "Trial 12 completed. Results saved to ~/datasets/lazypredict/morgan/morgan_results_trial_12.csv.\n",
      "Running LazyClassifier Trial 13...\n"
     ]
    },
    {
     "name": "stderr",
     "output_type": "stream",
     "text": [
      "100%|██████████| 29/29 [00:21<00:00,  1.34it/s]\n"
     ]
    },
    {
     "name": "stdout",
     "output_type": "stream",
     "text": [
      "[LightGBM] [Info] Number of positive: 1390, number of negative: 248\n",
      "[LightGBM] [Info] Auto-choosing row-wise multi-threading, the overhead of testing was 0.003674 seconds.\n",
      "You can set `force_row_wise=true` to remove the overhead.\n",
      "And if memory is not enough, you can set `force_col_wise=true`.\n",
      "[LightGBM] [Info] Total Bins 1896\n",
      "[LightGBM] [Info] Number of data points in the train set: 1638, number of used features: 632\n",
      "[LightGBM] [Info] [binary:BoostFromScore]: pavg=0.848596 -> initscore=1.723630\n",
      "[LightGBM] [Info] Start training from score 1.723630\n",
      "Trial 13 completed. Results saved to ~/datasets/lazypredict/morgan/morgan_results_trial_13.csv.\n",
      "Running LazyClassifier Trial 14...\n"
     ]
    },
    {
     "name": "stderr",
     "output_type": "stream",
     "text": [
      "100%|██████████| 29/29 [00:20<00:00,  1.41it/s]\n"
     ]
    },
    {
     "name": "stdout",
     "output_type": "stream",
     "text": [
      "[LightGBM] [Info] Number of positive: 1390, number of negative: 248\n",
      "[LightGBM] [Info] Auto-choosing row-wise multi-threading, the overhead of testing was 0.003701 seconds.\n",
      "You can set `force_row_wise=true` to remove the overhead.\n",
      "And if memory is not enough, you can set `force_col_wise=true`.\n",
      "[LightGBM] [Info] Total Bins 1896\n",
      "[LightGBM] [Info] Number of data points in the train set: 1638, number of used features: 632\n",
      "[LightGBM] [Info] [binary:BoostFromScore]: pavg=0.848596 -> initscore=1.723630\n",
      "[LightGBM] [Info] Start training from score 1.723630\n",
      "Trial 14 completed. Results saved to ~/datasets/lazypredict/morgan/morgan_results_trial_14.csv.\n",
      "Running LazyClassifier Trial 15...\n"
     ]
    },
    {
     "name": "stderr",
     "output_type": "stream",
     "text": [
      "100%|██████████| 29/29 [00:20<00:00,  1.43it/s]\n"
     ]
    },
    {
     "name": "stdout",
     "output_type": "stream",
     "text": [
      "[LightGBM] [Info] Number of positive: 1390, number of negative: 248\n",
      "[LightGBM] [Info] Auto-choosing row-wise multi-threading, the overhead of testing was 0.003735 seconds.\n",
      "You can set `force_row_wise=true` to remove the overhead.\n",
      "And if memory is not enough, you can set `force_col_wise=true`.\n",
      "[LightGBM] [Info] Total Bins 1896\n",
      "[LightGBM] [Info] Number of data points in the train set: 1638, number of used features: 632\n",
      "[LightGBM] [Info] [binary:BoostFromScore]: pavg=0.848596 -> initscore=1.723630\n",
      "[LightGBM] [Info] Start training from score 1.723630\n",
      "Trial 15 completed. Results saved to ~/datasets/lazypredict/morgan/morgan_results_trial_15.csv.\n",
      "Running LazyClassifier Trial 16...\n"
     ]
    },
    {
     "name": "stderr",
     "output_type": "stream",
     "text": [
      "100%|██████████| 29/29 [00:19<00:00,  1.46it/s]\n"
     ]
    },
    {
     "name": "stdout",
     "output_type": "stream",
     "text": [
      "[LightGBM] [Info] Number of positive: 1390, number of negative: 248\n",
      "[LightGBM] [Info] Auto-choosing row-wise multi-threading, the overhead of testing was 0.003674 seconds.\n",
      "You can set `force_row_wise=true` to remove the overhead.\n",
      "And if memory is not enough, you can set `force_col_wise=true`.\n",
      "[LightGBM] [Info] Total Bins 1896\n",
      "[LightGBM] [Info] Number of data points in the train set: 1638, number of used features: 632\n",
      "[LightGBM] [Info] [binary:BoostFromScore]: pavg=0.848596 -> initscore=1.723630\n",
      "[LightGBM] [Info] Start training from score 1.723630\n",
      "Trial 16 completed. Results saved to ~/datasets/lazypredict/morgan/morgan_results_trial_16.csv.\n",
      "Running LazyClassifier Trial 17...\n"
     ]
    },
    {
     "name": "stderr",
     "output_type": "stream",
     "text": [
      "100%|██████████| 29/29 [00:20<00:00,  1.44it/s]\n"
     ]
    },
    {
     "name": "stdout",
     "output_type": "stream",
     "text": [
      "[LightGBM] [Info] Number of positive: 1390, number of negative: 248\n",
      "[LightGBM] [Info] Auto-choosing row-wise multi-threading, the overhead of testing was 0.003629 seconds.\n",
      "You can set `force_row_wise=true` to remove the overhead.\n",
      "And if memory is not enough, you can set `force_col_wise=true`.\n",
      "[LightGBM] [Info] Total Bins 1896\n",
      "[LightGBM] [Info] Number of data points in the train set: 1638, number of used features: 632\n",
      "[LightGBM] [Info] [binary:BoostFromScore]: pavg=0.848596 -> initscore=1.723630\n",
      "[LightGBM] [Info] Start training from score 1.723630\n",
      "Trial 17 completed. Results saved to ~/datasets/lazypredict/morgan/morgan_results_trial_17.csv.\n",
      "Running LazyClassifier Trial 18...\n"
     ]
    },
    {
     "name": "stderr",
     "output_type": "stream",
     "text": [
      "100%|██████████| 29/29 [00:20<00:00,  1.44it/s]\n"
     ]
    },
    {
     "name": "stdout",
     "output_type": "stream",
     "text": [
      "[LightGBM] [Info] Number of positive: 1390, number of negative: 248\n",
      "[LightGBM] [Info] Auto-choosing row-wise multi-threading, the overhead of testing was 0.003838 seconds.\n",
      "You can set `force_row_wise=true` to remove the overhead.\n",
      "And if memory is not enough, you can set `force_col_wise=true`.\n",
      "[LightGBM] [Info] Total Bins 1896\n",
      "[LightGBM] [Info] Number of data points in the train set: 1638, number of used features: 632\n",
      "[LightGBM] [Info] [binary:BoostFromScore]: pavg=0.848596 -> initscore=1.723630\n",
      "[LightGBM] [Info] Start training from score 1.723630\n",
      "Trial 18 completed. Results saved to ~/datasets/lazypredict/morgan/morgan_results_trial_18.csv.\n",
      "Running LazyClassifier Trial 19...\n"
     ]
    },
    {
     "name": "stderr",
     "output_type": "stream",
     "text": [
      "100%|██████████| 29/29 [00:21<00:00,  1.35it/s]\n"
     ]
    },
    {
     "name": "stdout",
     "output_type": "stream",
     "text": [
      "[LightGBM] [Info] Number of positive: 1390, number of negative: 248\n",
      "[LightGBM] [Info] Auto-choosing row-wise multi-threading, the overhead of testing was 0.003637 seconds.\n",
      "You can set `force_row_wise=true` to remove the overhead.\n",
      "And if memory is not enough, you can set `force_col_wise=true`.\n",
      "[LightGBM] [Info] Total Bins 1896\n",
      "[LightGBM] [Info] Number of data points in the train set: 1638, number of used features: 632\n",
      "[LightGBM] [Info] [binary:BoostFromScore]: pavg=0.848596 -> initscore=1.723630\n",
      "[LightGBM] [Info] Start training from score 1.723630\n",
      "Trial 19 completed. Results saved to ~/datasets/lazypredict/morgan/morgan_results_trial_19.csv.\n",
      "Running LazyClassifier Trial 20...\n"
     ]
    },
    {
     "name": "stderr",
     "output_type": "stream",
     "text": [
      "100%|██████████| 29/29 [00:21<00:00,  1.36it/s]\n"
     ]
    },
    {
     "name": "stdout",
     "output_type": "stream",
     "text": [
      "[LightGBM] [Info] Number of positive: 1390, number of negative: 248\n",
      "[LightGBM] [Info] Auto-choosing row-wise multi-threading, the overhead of testing was 0.003864 seconds.\n",
      "You can set `force_row_wise=true` to remove the overhead.\n",
      "And if memory is not enough, you can set `force_col_wise=true`.\n",
      "[LightGBM] [Info] Total Bins 1896\n",
      "[LightGBM] [Info] Number of data points in the train set: 1638, number of used features: 632\n",
      "[LightGBM] [Info] [binary:BoostFromScore]: pavg=0.848596 -> initscore=1.723630\n",
      "[LightGBM] [Info] Start training from score 1.723630\n",
      "Trial 20 completed. Results saved to ~/datasets/lazypredict/morgan/morgan_results_trial_20.csv.\n",
      "Running LazyClassifier Trial 21...\n"
     ]
    },
    {
     "name": "stderr",
     "output_type": "stream",
     "text": [
      "100%|██████████| 29/29 [00:19<00:00,  1.48it/s]\n"
     ]
    },
    {
     "name": "stdout",
     "output_type": "stream",
     "text": [
      "[LightGBM] [Info] Number of positive: 1390, number of negative: 248\n",
      "[LightGBM] [Info] Auto-choosing row-wise multi-threading, the overhead of testing was 0.003798 seconds.\n",
      "You can set `force_row_wise=true` to remove the overhead.\n",
      "And if memory is not enough, you can set `force_col_wise=true`.\n",
      "[LightGBM] [Info] Total Bins 1896\n",
      "[LightGBM] [Info] Number of data points in the train set: 1638, number of used features: 632\n",
      "[LightGBM] [Info] [binary:BoostFromScore]: pavg=0.848596 -> initscore=1.723630\n",
      "[LightGBM] [Info] Start training from score 1.723630\n",
      "Trial 21 completed. Results saved to ~/datasets/lazypredict/morgan/morgan_results_trial_21.csv.\n",
      "Running LazyClassifier Trial 22...\n"
     ]
    },
    {
     "name": "stderr",
     "output_type": "stream",
     "text": [
      "100%|██████████| 29/29 [00:19<00:00,  1.46it/s]\n"
     ]
    },
    {
     "name": "stdout",
     "output_type": "stream",
     "text": [
      "[LightGBM] [Info] Number of positive: 1390, number of negative: 248\n",
      "[LightGBM] [Info] Auto-choosing row-wise multi-threading, the overhead of testing was 0.003683 seconds.\n",
      "You can set `force_row_wise=true` to remove the overhead.\n",
      "And if memory is not enough, you can set `force_col_wise=true`.\n",
      "[LightGBM] [Info] Total Bins 1896\n",
      "[LightGBM] [Info] Number of data points in the train set: 1638, number of used features: 632\n",
      "[LightGBM] [Info] [binary:BoostFromScore]: pavg=0.848596 -> initscore=1.723630\n",
      "[LightGBM] [Info] Start training from score 1.723630\n",
      "Trial 22 completed. Results saved to ~/datasets/lazypredict/morgan/morgan_results_trial_22.csv.\n",
      "Running LazyClassifier Trial 23...\n"
     ]
    },
    {
     "name": "stderr",
     "output_type": "stream",
     "text": [
      "100%|██████████| 29/29 [00:19<00:00,  1.45it/s]\n"
     ]
    },
    {
     "name": "stdout",
     "output_type": "stream",
     "text": [
      "[LightGBM] [Info] Number of positive: 1390, number of negative: 248\n",
      "[LightGBM] [Info] Auto-choosing row-wise multi-threading, the overhead of testing was 0.003665 seconds.\n",
      "You can set `force_row_wise=true` to remove the overhead.\n",
      "And if memory is not enough, you can set `force_col_wise=true`.\n",
      "[LightGBM] [Info] Total Bins 1896\n",
      "[LightGBM] [Info] Number of data points in the train set: 1638, number of used features: 632\n",
      "[LightGBM] [Info] [binary:BoostFromScore]: pavg=0.848596 -> initscore=1.723630\n",
      "[LightGBM] [Info] Start training from score 1.723630\n",
      "Trial 23 completed. Results saved to ~/datasets/lazypredict/morgan/morgan_results_trial_23.csv.\n",
      "Running LazyClassifier Trial 24...\n"
     ]
    },
    {
     "name": "stderr",
     "output_type": "stream",
     "text": [
      "100%|██████████| 29/29 [00:19<00:00,  1.46it/s]\n"
     ]
    },
    {
     "name": "stdout",
     "output_type": "stream",
     "text": [
      "[LightGBM] [Info] Number of positive: 1390, number of negative: 248\n",
      "[LightGBM] [Info] Auto-choosing row-wise multi-threading, the overhead of testing was 0.003744 seconds.\n",
      "You can set `force_row_wise=true` to remove the overhead.\n",
      "And if memory is not enough, you can set `force_col_wise=true`.\n",
      "[LightGBM] [Info] Total Bins 1896\n",
      "[LightGBM] [Info] Number of data points in the train set: 1638, number of used features: 632\n",
      "[LightGBM] [Info] [binary:BoostFromScore]: pavg=0.848596 -> initscore=1.723630\n",
      "[LightGBM] [Info] Start training from score 1.723630\n",
      "Trial 24 completed. Results saved to ~/datasets/lazypredict/morgan/morgan_results_trial_24.csv.\n",
      "Running LazyClassifier Trial 25...\n"
     ]
    },
    {
     "name": "stderr",
     "output_type": "stream",
     "text": [
      "100%|██████████| 29/29 [00:19<00:00,  1.46it/s]\n"
     ]
    },
    {
     "name": "stdout",
     "output_type": "stream",
     "text": [
      "[LightGBM] [Info] Number of positive: 1390, number of negative: 248\n",
      "[LightGBM] [Info] Auto-choosing row-wise multi-threading, the overhead of testing was 0.004181 seconds.\n",
      "You can set `force_row_wise=true` to remove the overhead.\n",
      "And if memory is not enough, you can set `force_col_wise=true`.\n",
      "[LightGBM] [Info] Total Bins 1896\n",
      "[LightGBM] [Info] Number of data points in the train set: 1638, number of used features: 632\n",
      "[LightGBM] [Info] [binary:BoostFromScore]: pavg=0.848596 -> initscore=1.723630\n",
      "[LightGBM] [Info] Start training from score 1.723630\n",
      "Trial 25 completed. Results saved to ~/datasets/lazypredict/morgan/morgan_results_trial_25.csv.\n",
      "Running LazyClassifier Trial 26...\n"
     ]
    },
    {
     "name": "stderr",
     "output_type": "stream",
     "text": [
      "100%|██████████| 29/29 [00:20<00:00,  1.44it/s]\n"
     ]
    },
    {
     "name": "stdout",
     "output_type": "stream",
     "text": [
      "[LightGBM] [Info] Number of positive: 1390, number of negative: 248\n",
      "[LightGBM] [Info] Auto-choosing row-wise multi-threading, the overhead of testing was 0.003726 seconds.\n",
      "You can set `force_row_wise=true` to remove the overhead.\n",
      "And if memory is not enough, you can set `force_col_wise=true`.\n",
      "[LightGBM] [Info] Total Bins 1896\n",
      "[LightGBM] [Info] Number of data points in the train set: 1638, number of used features: 632\n",
      "[LightGBM] [Info] [binary:BoostFromScore]: pavg=0.848596 -> initscore=1.723630\n",
      "[LightGBM] [Info] Start training from score 1.723630\n",
      "Trial 26 completed. Results saved to ~/datasets/lazypredict/morgan/morgan_results_trial_26.csv.\n",
      "Running LazyClassifier Trial 27...\n"
     ]
    },
    {
     "name": "stderr",
     "output_type": "stream",
     "text": [
      "100%|██████████| 29/29 [00:20<00:00,  1.43it/s]\n"
     ]
    },
    {
     "name": "stdout",
     "output_type": "stream",
     "text": [
      "[LightGBM] [Info] Number of positive: 1390, number of negative: 248\n",
      "[LightGBM] [Info] Auto-choosing row-wise multi-threading, the overhead of testing was 0.003719 seconds.\n",
      "You can set `force_row_wise=true` to remove the overhead.\n",
      "And if memory is not enough, you can set `force_col_wise=true`.\n",
      "[LightGBM] [Info] Total Bins 1896\n",
      "[LightGBM] [Info] Number of data points in the train set: 1638, number of used features: 632\n",
      "[LightGBM] [Info] [binary:BoostFromScore]: pavg=0.848596 -> initscore=1.723630\n",
      "[LightGBM] [Info] Start training from score 1.723630\n",
      "Trial 27 completed. Results saved to ~/datasets/lazypredict/morgan/morgan_results_trial_27.csv.\n",
      "Running LazyClassifier Trial 28...\n"
     ]
    },
    {
     "name": "stderr",
     "output_type": "stream",
     "text": [
      "100%|██████████| 29/29 [00:19<00:00,  1.46it/s]\n"
     ]
    },
    {
     "name": "stdout",
     "output_type": "stream",
     "text": [
      "[LightGBM] [Info] Number of positive: 1390, number of negative: 248\n",
      "[LightGBM] [Info] Auto-choosing row-wise multi-threading, the overhead of testing was 0.003716 seconds.\n",
      "You can set `force_row_wise=true` to remove the overhead.\n",
      "And if memory is not enough, you can set `force_col_wise=true`.\n",
      "[LightGBM] [Info] Total Bins 1896\n",
      "[LightGBM] [Info] Number of data points in the train set: 1638, number of used features: 632\n",
      "[LightGBM] [Info] [binary:BoostFromScore]: pavg=0.848596 -> initscore=1.723630\n",
      "[LightGBM] [Info] Start training from score 1.723630\n",
      "Trial 28 completed. Results saved to ~/datasets/lazypredict/morgan/morgan_results_trial_28.csv.\n",
      "Running LazyClassifier Trial 29...\n"
     ]
    },
    {
     "name": "stderr",
     "output_type": "stream",
     "text": [
      "100%|██████████| 29/29 [00:19<00:00,  1.45it/s]\n"
     ]
    },
    {
     "name": "stdout",
     "output_type": "stream",
     "text": [
      "[LightGBM] [Info] Number of positive: 1390, number of negative: 248\n",
      "[LightGBM] [Info] Auto-choosing row-wise multi-threading, the overhead of testing was 0.003612 seconds.\n",
      "You can set `force_row_wise=true` to remove the overhead.\n",
      "And if memory is not enough, you can set `force_col_wise=true`.\n",
      "[LightGBM] [Info] Total Bins 1896\n",
      "[LightGBM] [Info] Number of data points in the train set: 1638, number of used features: 632\n",
      "[LightGBM] [Info] [binary:BoostFromScore]: pavg=0.848596 -> initscore=1.723630\n",
      "[LightGBM] [Info] Start training from score 1.723630\n",
      "Trial 29 completed. Results saved to ~/datasets/lazypredict/morgan/morgan_results_trial_29.csv.\n",
      "Running LazyClassifier Trial 30...\n"
     ]
    },
    {
     "name": "stderr",
     "output_type": "stream",
     "text": [
      "100%|██████████| 29/29 [00:19<00:00,  1.45it/s]\n"
     ]
    },
    {
     "name": "stdout",
     "output_type": "stream",
     "text": [
      "[LightGBM] [Info] Number of positive: 1390, number of negative: 248\n",
      "[LightGBM] [Info] Auto-choosing row-wise multi-threading, the overhead of testing was 0.003724 seconds.\n",
      "You can set `force_row_wise=true` to remove the overhead.\n",
      "And if memory is not enough, you can set `force_col_wise=true`.\n",
      "[LightGBM] [Info] Total Bins 1896\n",
      "[LightGBM] [Info] Number of data points in the train set: 1638, number of used features: 632\n",
      "[LightGBM] [Info] [binary:BoostFromScore]: pavg=0.848596 -> initscore=1.723630\n",
      "[LightGBM] [Info] Start training from score 1.723630\n",
      "Trial 30 completed. Results saved to ~/datasets/lazypredict/morgan/morgan_results_trial_30.csv.\n",
      "Running LazyClassifier Trial 31...\n"
     ]
    },
    {
     "name": "stderr",
     "output_type": "stream",
     "text": [
      "100%|██████████| 29/29 [00:19<00:00,  1.47it/s]\n"
     ]
    },
    {
     "name": "stdout",
     "output_type": "stream",
     "text": [
      "[LightGBM] [Info] Number of positive: 1390, number of negative: 248\n",
      "[LightGBM] [Info] Auto-choosing row-wise multi-threading, the overhead of testing was 0.003733 seconds.\n",
      "You can set `force_row_wise=true` to remove the overhead.\n",
      "And if memory is not enough, you can set `force_col_wise=true`.\n",
      "[LightGBM] [Info] Total Bins 1896\n",
      "[LightGBM] [Info] Number of data points in the train set: 1638, number of used features: 632\n",
      "[LightGBM] [Info] [binary:BoostFromScore]: pavg=0.848596 -> initscore=1.723630\n",
      "[LightGBM] [Info] Start training from score 1.723630\n",
      "Trial 31 completed. Results saved to ~/datasets/lazypredict/morgan/morgan_results_trial_31.csv.\n",
      "Running LazyClassifier Trial 32...\n"
     ]
    },
    {
     "name": "stderr",
     "output_type": "stream",
     "text": [
      "100%|██████████| 29/29 [00:19<00:00,  1.47it/s]\n"
     ]
    },
    {
     "name": "stdout",
     "output_type": "stream",
     "text": [
      "[LightGBM] [Info] Number of positive: 1390, number of negative: 248\n",
      "[LightGBM] [Info] Auto-choosing row-wise multi-threading, the overhead of testing was 0.003771 seconds.\n",
      "You can set `force_row_wise=true` to remove the overhead.\n",
      "And if memory is not enough, you can set `force_col_wise=true`.\n",
      "[LightGBM] [Info] Total Bins 1896\n",
      "[LightGBM] [Info] Number of data points in the train set: 1638, number of used features: 632\n",
      "[LightGBM] [Info] [binary:BoostFromScore]: pavg=0.848596 -> initscore=1.723630\n",
      "[LightGBM] [Info] Start training from score 1.723630\n",
      "Trial 32 completed. Results saved to ~/datasets/lazypredict/morgan/morgan_results_trial_32.csv.\n",
      "Running LazyClassifier Trial 33...\n"
     ]
    },
    {
     "name": "stderr",
     "output_type": "stream",
     "text": [
      "100%|██████████| 29/29 [00:20<00:00,  1.45it/s]\n"
     ]
    },
    {
     "name": "stdout",
     "output_type": "stream",
     "text": [
      "[LightGBM] [Info] Number of positive: 1390, number of negative: 248\n",
      "[LightGBM] [Info] Auto-choosing row-wise multi-threading, the overhead of testing was 0.003743 seconds.\n",
      "You can set `force_row_wise=true` to remove the overhead.\n",
      "And if memory is not enough, you can set `force_col_wise=true`.\n",
      "[LightGBM] [Info] Total Bins 1896\n",
      "[LightGBM] [Info] Number of data points in the train set: 1638, number of used features: 632\n",
      "[LightGBM] [Info] [binary:BoostFromScore]: pavg=0.848596 -> initscore=1.723630\n",
      "[LightGBM] [Info] Start training from score 1.723630\n",
      "Trial 33 completed. Results saved to ~/datasets/lazypredict/morgan/morgan_results_trial_33.csv.\n",
      "Running LazyClassifier Trial 34...\n"
     ]
    },
    {
     "name": "stderr",
     "output_type": "stream",
     "text": [
      "100%|██████████| 29/29 [00:19<00:00,  1.48it/s]\n"
     ]
    },
    {
     "name": "stdout",
     "output_type": "stream",
     "text": [
      "[LightGBM] [Info] Number of positive: 1390, number of negative: 248\n",
      "[LightGBM] [Info] Auto-choosing row-wise multi-threading, the overhead of testing was 0.003683 seconds.\n",
      "You can set `force_row_wise=true` to remove the overhead.\n",
      "And if memory is not enough, you can set `force_col_wise=true`.\n",
      "[LightGBM] [Info] Total Bins 1896\n",
      "[LightGBM] [Info] Number of data points in the train set: 1638, number of used features: 632\n",
      "[LightGBM] [Info] [binary:BoostFromScore]: pavg=0.848596 -> initscore=1.723630\n",
      "[LightGBM] [Info] Start training from score 1.723630\n",
      "Trial 34 completed. Results saved to ~/datasets/lazypredict/morgan/morgan_results_trial_34.csv.\n",
      "Running LazyClassifier Trial 35...\n"
     ]
    },
    {
     "name": "stderr",
     "output_type": "stream",
     "text": [
      "100%|██████████| 29/29 [00:20<00:00,  1.43it/s]\n"
     ]
    },
    {
     "name": "stdout",
     "output_type": "stream",
     "text": [
      "[LightGBM] [Info] Number of positive: 1390, number of negative: 248\n",
      "[LightGBM] [Info] Auto-choosing row-wise multi-threading, the overhead of testing was 0.003811 seconds.\n",
      "You can set `force_row_wise=true` to remove the overhead.\n",
      "And if memory is not enough, you can set `force_col_wise=true`.\n",
      "[LightGBM] [Info] Total Bins 1896\n",
      "[LightGBM] [Info] Number of data points in the train set: 1638, number of used features: 632\n",
      "[LightGBM] [Info] [binary:BoostFromScore]: pavg=0.848596 -> initscore=1.723630\n",
      "[LightGBM] [Info] Start training from score 1.723630\n",
      "Trial 35 completed. Results saved to ~/datasets/lazypredict/morgan/morgan_results_trial_35.csv.\n",
      "Running LazyClassifier Trial 36...\n"
     ]
    },
    {
     "name": "stderr",
     "output_type": "stream",
     "text": [
      "100%|██████████| 29/29 [00:20<00:00,  1.43it/s]\n"
     ]
    },
    {
     "name": "stdout",
     "output_type": "stream",
     "text": [
      "[LightGBM] [Info] Number of positive: 1390, number of negative: 248\n",
      "[LightGBM] [Info] Auto-choosing row-wise multi-threading, the overhead of testing was 0.003720 seconds.\n",
      "You can set `force_row_wise=true` to remove the overhead.\n",
      "And if memory is not enough, you can set `force_col_wise=true`.\n",
      "[LightGBM] [Info] Total Bins 1896\n",
      "[LightGBM] [Info] Number of data points in the train set: 1638, number of used features: 632\n",
      "[LightGBM] [Info] [binary:BoostFromScore]: pavg=0.848596 -> initscore=1.723630\n",
      "[LightGBM] [Info] Start training from score 1.723630\n",
      "Trial 36 completed. Results saved to ~/datasets/lazypredict/morgan/morgan_results_trial_36.csv.\n",
      "Running LazyClassifier Trial 37...\n"
     ]
    },
    {
     "name": "stderr",
     "output_type": "stream",
     "text": [
      "100%|██████████| 29/29 [00:20<00:00,  1.40it/s]\n"
     ]
    },
    {
     "name": "stdout",
     "output_type": "stream",
     "text": [
      "[LightGBM] [Info] Number of positive: 1390, number of negative: 248\n",
      "[LightGBM] [Info] Auto-choosing row-wise multi-threading, the overhead of testing was 0.003706 seconds.\n",
      "You can set `force_row_wise=true` to remove the overhead.\n",
      "And if memory is not enough, you can set `force_col_wise=true`.\n",
      "[LightGBM] [Info] Total Bins 1896\n",
      "[LightGBM] [Info] Number of data points in the train set: 1638, number of used features: 632\n",
      "[LightGBM] [Info] [binary:BoostFromScore]: pavg=0.848596 -> initscore=1.723630\n",
      "[LightGBM] [Info] Start training from score 1.723630\n",
      "Trial 37 completed. Results saved to ~/datasets/lazypredict/morgan/morgan_results_trial_37.csv.\n",
      "Running LazyClassifier Trial 38...\n"
     ]
    },
    {
     "name": "stderr",
     "output_type": "stream",
     "text": [
      "100%|██████████| 29/29 [00:19<00:00,  1.46it/s]\n"
     ]
    },
    {
     "name": "stdout",
     "output_type": "stream",
     "text": [
      "[LightGBM] [Info] Number of positive: 1390, number of negative: 248\n",
      "[LightGBM] [Info] Auto-choosing row-wise multi-threading, the overhead of testing was 0.003697 seconds.\n",
      "You can set `force_row_wise=true` to remove the overhead.\n",
      "And if memory is not enough, you can set `force_col_wise=true`.\n",
      "[LightGBM] [Info] Total Bins 1896\n",
      "[LightGBM] [Info] Number of data points in the train set: 1638, number of used features: 632\n",
      "[LightGBM] [Info] [binary:BoostFromScore]: pavg=0.848596 -> initscore=1.723630\n",
      "[LightGBM] [Info] Start training from score 1.723630\n",
      "Trial 38 completed. Results saved to ~/datasets/lazypredict/morgan/morgan_results_trial_38.csv.\n",
      "Running LazyClassifier Trial 39...\n"
     ]
    },
    {
     "name": "stderr",
     "output_type": "stream",
     "text": [
      "100%|██████████| 29/29 [00:20<00:00,  1.45it/s]\n"
     ]
    },
    {
     "name": "stdout",
     "output_type": "stream",
     "text": [
      "[LightGBM] [Info] Number of positive: 1390, number of negative: 248\n",
      "[LightGBM] [Info] Auto-choosing row-wise multi-threading, the overhead of testing was 0.003646 seconds.\n",
      "You can set `force_row_wise=true` to remove the overhead.\n",
      "And if memory is not enough, you can set `force_col_wise=true`.\n",
      "[LightGBM] [Info] Total Bins 1896\n",
      "[LightGBM] [Info] Number of data points in the train set: 1638, number of used features: 632\n",
      "[LightGBM] [Info] [binary:BoostFromScore]: pavg=0.848596 -> initscore=1.723630\n",
      "[LightGBM] [Info] Start training from score 1.723630\n",
      "Trial 39 completed. Results saved to ~/datasets/lazypredict/morgan/morgan_results_trial_39.csv.\n",
      "Running LazyClassifier Trial 40...\n"
     ]
    },
    {
     "name": "stderr",
     "output_type": "stream",
     "text": [
      "100%|██████████| 29/29 [00:19<00:00,  1.45it/s]"
     ]
    },
    {
     "name": "stdout",
     "output_type": "stream",
     "text": [
      "[LightGBM] [Info] Number of positive: 1390, number of negative: 248\n",
      "[LightGBM] [Info] Auto-choosing row-wise multi-threading, the overhead of testing was 0.003676 seconds.\n",
      "You can set `force_row_wise=true` to remove the overhead.\n",
      "And if memory is not enough, you can set `force_col_wise=true`.\n",
      "[LightGBM] [Info] Total Bins 1896\n",
      "[LightGBM] [Info] Number of data points in the train set: 1638, number of used features: 632\n",
      "[LightGBM] [Info] [binary:BoostFromScore]: pavg=0.848596 -> initscore=1.723630\n",
      "[LightGBM] [Info] Start training from score 1.723630\n",
      "Trial 40 completed. Results saved to ~/datasets/lazypredict/morgan/morgan_results_trial_40.csv.\n"
     ]
    },
    {
     "name": "stderr",
     "output_type": "stream",
     "text": [
      "\n"
     ]
    }
   ],
   "source": [
    "run_lazy_classifier(\n",
    "    \"morgan\",\n",
    "    X_morgan_train_activity,\n",
    "    X_morgan_test_activity,\n",
    "    y_morgan_train_activity,\n",
    "    y_morgan_test_activity,\n",
    "    num_trials=40,\n",
    "    save_dir=\"~/datasets/lazypredict/morgan\"\n",
    ")"
   ]
  },
  {
   "cell_type": "code",
   "execution_count": 28,
   "metadata": {},
   "outputs": [
    {
     "name": "stdout",
     "output_type": "stream",
     "text": [
      "Running LazyClassifier Trial 1...\n"
     ]
    },
    {
     "name": "stderr",
     "output_type": "stream",
     "text": [
      " 97%|█████████▋| 28/29 [00:24<00:00,  2.08it/s]"
     ]
    },
    {
     "name": "stdout",
     "output_type": "stream",
     "text": [
      "[LightGBM] [Info] Number of positive: 1390, number of negative: 248\n",
      "[LightGBM] [Info] Auto-choosing row-wise multi-threading, the overhead of testing was 0.009034 seconds.\n",
      "You can set `force_row_wise=true` to remove the overhead.\n",
      "And if memory is not enough, you can set `force_col_wise=true`.\n",
      "[LightGBM] [Info] Total Bins 4530\n",
      "[LightGBM] [Info] Number of data points in the train set: 1638, number of used features: 1510\n",
      "[LightGBM] [Info] [binary:BoostFromScore]: pavg=0.848596 -> initscore=1.723630\n",
      "[LightGBM] [Info] Start training from score 1.723630\n"
     ]
    },
    {
     "name": "stderr",
     "output_type": "stream",
     "text": [
      "100%|██████████| 29/29 [00:24<00:00,  1.17it/s]\n"
     ]
    },
    {
     "name": "stdout",
     "output_type": "stream",
     "text": [
      "Trial 1 completed. Results saved to ~/datasets/lazypredict/ap/ap_results_trial_1.csv.\n",
      "Running LazyClassifier Trial 2...\n"
     ]
    },
    {
     "name": "stderr",
     "output_type": "stream",
     "text": [
      " 97%|█████████▋| 28/29 [00:24<00:00,  2.04it/s]"
     ]
    },
    {
     "name": "stdout",
     "output_type": "stream",
     "text": [
      "[LightGBM] [Info] Number of positive: 1390, number of negative: 248\n",
      "[LightGBM] [Info] Auto-choosing row-wise multi-threading, the overhead of testing was 0.009545 seconds.\n",
      "You can set `force_row_wise=true` to remove the overhead.\n",
      "And if memory is not enough, you can set `force_col_wise=true`.\n",
      "[LightGBM] [Info] Total Bins 4530\n",
      "[LightGBM] [Info] Number of data points in the train set: 1638, number of used features: 1510\n",
      "[LightGBM] [Info] [binary:BoostFromScore]: pavg=0.848596 -> initscore=1.723630\n",
      "[LightGBM] [Info] Start training from score 1.723630\n"
     ]
    },
    {
     "name": "stderr",
     "output_type": "stream",
     "text": [
      "100%|██████████| 29/29 [00:24<00:00,  1.16it/s]\n"
     ]
    },
    {
     "name": "stdout",
     "output_type": "stream",
     "text": [
      "Trial 2 completed. Results saved to ~/datasets/lazypredict/ap/ap_results_trial_2.csv.\n",
      "Running LazyClassifier Trial 3...\n"
     ]
    },
    {
     "name": "stderr",
     "output_type": "stream",
     "text": [
      " 97%|█████████▋| 28/29 [00:24<00:00,  2.03it/s]"
     ]
    },
    {
     "name": "stdout",
     "output_type": "stream",
     "text": [
      "[LightGBM] [Info] Number of positive: 1390, number of negative: 248\n",
      "[LightGBM] [Info] Auto-choosing row-wise multi-threading, the overhead of testing was 0.009304 seconds.\n",
      "You can set `force_row_wise=true` to remove the overhead.\n",
      "And if memory is not enough, you can set `force_col_wise=true`.\n",
      "[LightGBM] [Info] Total Bins 4530\n",
      "[LightGBM] [Info] Number of data points in the train set: 1638, number of used features: 1510\n",
      "[LightGBM] [Info] [binary:BoostFromScore]: pavg=0.848596 -> initscore=1.723630\n",
      "[LightGBM] [Info] Start training from score 1.723630\n"
     ]
    },
    {
     "name": "stderr",
     "output_type": "stream",
     "text": [
      "100%|██████████| 29/29 [00:25<00:00,  1.15it/s]\n"
     ]
    },
    {
     "name": "stdout",
     "output_type": "stream",
     "text": [
      "Trial 3 completed. Results saved to ~/datasets/lazypredict/ap/ap_results_trial_3.csv.\n",
      "Running LazyClassifier Trial 4...\n"
     ]
    },
    {
     "name": "stderr",
     "output_type": "stream",
     "text": [
      " 97%|█████████▋| 28/29 [00:26<00:00,  1.50it/s]"
     ]
    },
    {
     "name": "stdout",
     "output_type": "stream",
     "text": [
      "[LightGBM] [Info] Number of positive: 1390, number of negative: 248\n",
      "[LightGBM] [Info] Auto-choosing row-wise multi-threading, the overhead of testing was 0.011921 seconds.\n",
      "You can set `force_row_wise=true` to remove the overhead.\n",
      "And if memory is not enough, you can set `force_col_wise=true`.\n",
      "[LightGBM] [Info] Total Bins 4530\n",
      "[LightGBM] [Info] Number of data points in the train set: 1638, number of used features: 1510\n",
      "[LightGBM] [Info] [binary:BoostFromScore]: pavg=0.848596 -> initscore=1.723630\n",
      "[LightGBM] [Info] Start training from score 1.723630\n"
     ]
    },
    {
     "name": "stderr",
     "output_type": "stream",
     "text": [
      "100%|██████████| 29/29 [00:26<00:00,  1.08it/s]\n"
     ]
    },
    {
     "name": "stdout",
     "output_type": "stream",
     "text": [
      "Trial 4 completed. Results saved to ~/datasets/lazypredict/ap/ap_results_trial_4.csv.\n",
      "Running LazyClassifier Trial 5...\n"
     ]
    },
    {
     "name": "stderr",
     "output_type": "stream",
     "text": [
      " 97%|█████████▋| 28/29 [00:28<00:00,  1.25it/s]"
     ]
    },
    {
     "name": "stdout",
     "output_type": "stream",
     "text": [
      "[LightGBM] [Info] Number of positive: 1390, number of negative: 248\n",
      "[LightGBM] [Info] Auto-choosing row-wise multi-threading, the overhead of testing was 0.011370 seconds.\n",
      "You can set `force_row_wise=true` to remove the overhead.\n",
      "And if memory is not enough, you can set `force_col_wise=true`.\n",
      "[LightGBM] [Info] Total Bins 4530\n",
      "[LightGBM] [Info] Number of data points in the train set: 1638, number of used features: 1510\n",
      "[LightGBM] [Info] [binary:BoostFromScore]: pavg=0.848596 -> initscore=1.723630\n",
      "[LightGBM] [Info] Start training from score 1.723630\n"
     ]
    },
    {
     "name": "stderr",
     "output_type": "stream",
     "text": [
      "100%|██████████| 29/29 [00:29<00:00,  1.02s/it]\n"
     ]
    },
    {
     "name": "stdout",
     "output_type": "stream",
     "text": [
      "Trial 5 completed. Results saved to ~/datasets/lazypredict/ap/ap_results_trial_5.csv.\n",
      "Running LazyClassifier Trial 6...\n"
     ]
    },
    {
     "name": "stderr",
     "output_type": "stream",
     "text": [
      " 97%|█████████▋| 28/29 [00:25<00:00,  1.73it/s]"
     ]
    },
    {
     "name": "stdout",
     "output_type": "stream",
     "text": [
      "[LightGBM] [Info] Number of positive: 1390, number of negative: 248\n",
      "[LightGBM] [Info] Auto-choosing row-wise multi-threading, the overhead of testing was 0.011549 seconds.\n",
      "You can set `force_row_wise=true` to remove the overhead.\n",
      "And if memory is not enough, you can set `force_col_wise=true`.\n",
      "[LightGBM] [Info] Total Bins 4530\n",
      "[LightGBM] [Info] Number of data points in the train set: 1638, number of used features: 1510\n",
      "[LightGBM] [Info] [binary:BoostFromScore]: pavg=0.848596 -> initscore=1.723630\n",
      "[LightGBM] [Info] Start training from score 1.723630\n"
     ]
    },
    {
     "name": "stderr",
     "output_type": "stream",
     "text": [
      "100%|██████████| 29/29 [00:26<00:00,  1.11it/s]\n"
     ]
    },
    {
     "name": "stdout",
     "output_type": "stream",
     "text": [
      "Trial 6 completed. Results saved to ~/datasets/lazypredict/ap/ap_results_trial_6.csv.\n",
      "Running LazyClassifier Trial 7...\n"
     ]
    },
    {
     "name": "stderr",
     "output_type": "stream",
     "text": [
      " 97%|█████████▋| 28/29 [00:25<00:00,  1.84it/s]"
     ]
    },
    {
     "name": "stdout",
     "output_type": "stream",
     "text": [
      "[LightGBM] [Info] Number of positive: 1390, number of negative: 248\n",
      "[LightGBM] [Info] Auto-choosing row-wise multi-threading, the overhead of testing was 0.011596 seconds.\n",
      "You can set `force_row_wise=true` to remove the overhead.\n",
      "And if memory is not enough, you can set `force_col_wise=true`.\n",
      "[LightGBM] [Info] Total Bins 4530\n",
      "[LightGBM] [Info] Number of data points in the train set: 1638, number of used features: 1510\n",
      "[LightGBM] [Info] [binary:BoostFromScore]: pavg=0.848596 -> initscore=1.723630\n",
      "[LightGBM] [Info] Start training from score 1.723630\n"
     ]
    },
    {
     "name": "stderr",
     "output_type": "stream",
     "text": [
      "100%|██████████| 29/29 [00:25<00:00,  1.12it/s]\n"
     ]
    },
    {
     "name": "stdout",
     "output_type": "stream",
     "text": [
      "Trial 7 completed. Results saved to ~/datasets/lazypredict/ap/ap_results_trial_7.csv.\n",
      "Running LazyClassifier Trial 8...\n"
     ]
    },
    {
     "name": "stderr",
     "output_type": "stream",
     "text": [
      " 97%|█████████▋| 28/29 [00:24<00:00,  2.04it/s]"
     ]
    },
    {
     "name": "stdout",
     "output_type": "stream",
     "text": [
      "[LightGBM] [Info] Number of positive: 1390, number of negative: 248\n",
      "[LightGBM] [Info] Auto-choosing row-wise multi-threading, the overhead of testing was 0.008859 seconds.\n",
      "You can set `force_row_wise=true` to remove the overhead.\n",
      "And if memory is not enough, you can set `force_col_wise=true`.\n",
      "[LightGBM] [Info] Total Bins 4530\n",
      "[LightGBM] [Info] Number of data points in the train set: 1638, number of used features: 1510\n",
      "[LightGBM] [Info] [binary:BoostFromScore]: pavg=0.848596 -> initscore=1.723630\n",
      "[LightGBM] [Info] Start training from score 1.723630\n"
     ]
    },
    {
     "name": "stderr",
     "output_type": "stream",
     "text": [
      "100%|██████████| 29/29 [00:25<00:00,  1.15it/s]\n"
     ]
    },
    {
     "name": "stdout",
     "output_type": "stream",
     "text": [
      "Trial 8 completed. Results saved to ~/datasets/lazypredict/ap/ap_results_trial_8.csv.\n",
      "Running LazyClassifier Trial 9...\n"
     ]
    },
    {
     "name": "stderr",
     "output_type": "stream",
     "text": [
      " 97%|█████████▋| 28/29 [00:24<00:00,  2.10it/s]"
     ]
    },
    {
     "name": "stdout",
     "output_type": "stream",
     "text": [
      "[LightGBM] [Info] Number of positive: 1390, number of negative: 248\n",
      "[LightGBM] [Info] Auto-choosing row-wise multi-threading, the overhead of testing was 0.009398 seconds.\n",
      "You can set `force_row_wise=true` to remove the overhead.\n",
      "And if memory is not enough, you can set `force_col_wise=true`.\n",
      "[LightGBM] [Info] Total Bins 4530\n",
      "[LightGBM] [Info] Number of data points in the train set: 1638, number of used features: 1510\n",
      "[LightGBM] [Info] [binary:BoostFromScore]: pavg=0.848596 -> initscore=1.723630\n",
      "[LightGBM] [Info] Start training from score 1.723630\n"
     ]
    },
    {
     "name": "stderr",
     "output_type": "stream",
     "text": [
      "100%|██████████| 29/29 [00:24<00:00,  1.18it/s]\n"
     ]
    },
    {
     "name": "stdout",
     "output_type": "stream",
     "text": [
      "Trial 9 completed. Results saved to ~/datasets/lazypredict/ap/ap_results_trial_9.csv.\n",
      "Running LazyClassifier Trial 10...\n"
     ]
    },
    {
     "name": "stderr",
     "output_type": "stream",
     "text": [
      " 97%|█████████▋| 28/29 [00:23<00:00,  2.15it/s]"
     ]
    },
    {
     "name": "stdout",
     "output_type": "stream",
     "text": [
      "[LightGBM] [Info] Number of positive: 1390, number of negative: 248\n",
      "[LightGBM] [Info] Auto-choosing row-wise multi-threading, the overhead of testing was 0.009005 seconds.\n",
      "You can set `force_row_wise=true` to remove the overhead.\n",
      "And if memory is not enough, you can set `force_col_wise=true`.\n",
      "[LightGBM] [Info] Total Bins 4530\n",
      "[LightGBM] [Info] Number of data points in the train set: 1638, number of used features: 1510\n",
      "[LightGBM] [Info] [binary:BoostFromScore]: pavg=0.848596 -> initscore=1.723630\n",
      "[LightGBM] [Info] Start training from score 1.723630\n"
     ]
    },
    {
     "name": "stderr",
     "output_type": "stream",
     "text": [
      "100%|██████████| 29/29 [00:23<00:00,  1.22it/s]\n"
     ]
    },
    {
     "name": "stdout",
     "output_type": "stream",
     "text": [
      "Trial 10 completed. Results saved to ~/datasets/lazypredict/ap/ap_results_trial_10.csv.\n",
      "Running LazyClassifier Trial 11...\n"
     ]
    },
    {
     "name": "stderr",
     "output_type": "stream",
     "text": [
      " 97%|█████████▋| 28/29 [00:27<00:00,  1.92it/s]"
     ]
    },
    {
     "name": "stdout",
     "output_type": "stream",
     "text": [
      "[LightGBM] [Info] Number of positive: 1390, number of negative: 248\n",
      "[LightGBM] [Info] Auto-choosing row-wise multi-threading, the overhead of testing was 0.009102 seconds.\n",
      "You can set `force_row_wise=true` to remove the overhead.\n",
      "And if memory is not enough, you can set `force_col_wise=true`.\n",
      "[LightGBM] [Info] Total Bins 4530\n",
      "[LightGBM] [Info] Number of data points in the train set: 1638, number of used features: 1510\n",
      "[LightGBM] [Info] [binary:BoostFromScore]: pavg=0.848596 -> initscore=1.723630\n",
      "[LightGBM] [Info] Start training from score 1.723630\n"
     ]
    },
    {
     "name": "stderr",
     "output_type": "stream",
     "text": [
      "100%|██████████| 29/29 [00:27<00:00,  1.05it/s]\n"
     ]
    },
    {
     "name": "stdout",
     "output_type": "stream",
     "text": [
      "Trial 11 completed. Results saved to ~/datasets/lazypredict/ap/ap_results_trial_11.csv.\n",
      "Running LazyClassifier Trial 12...\n"
     ]
    },
    {
     "name": "stderr",
     "output_type": "stream",
     "text": [
      " 97%|█████████▋| 28/29 [00:26<00:00,  1.65it/s]"
     ]
    },
    {
     "name": "stdout",
     "output_type": "stream",
     "text": [
      "[LightGBM] [Info] Number of positive: 1390, number of negative: 248\n",
      "[LightGBM] [Info] Auto-choosing row-wise multi-threading, the overhead of testing was 0.011678 seconds.\n",
      "You can set `force_row_wise=true` to remove the overhead.\n",
      "And if memory is not enough, you can set `force_col_wise=true`.\n",
      "[LightGBM] [Info] Total Bins 4530\n",
      "[LightGBM] [Info] Number of data points in the train set: 1638, number of used features: 1510\n",
      "[LightGBM] [Info] [binary:BoostFromScore]: pavg=0.848596 -> initscore=1.723630\n",
      "[LightGBM] [Info] Start training from score 1.723630\n"
     ]
    },
    {
     "name": "stderr",
     "output_type": "stream",
     "text": [
      "100%|██████████| 29/29 [00:27<00:00,  1.06it/s]\n"
     ]
    },
    {
     "name": "stdout",
     "output_type": "stream",
     "text": [
      "Trial 12 completed. Results saved to ~/datasets/lazypredict/ap/ap_results_trial_12.csv.\n",
      "Running LazyClassifier Trial 13...\n"
     ]
    },
    {
     "name": "stderr",
     "output_type": "stream",
     "text": [
      " 97%|█████████▋| 28/29 [00:26<00:00,  1.60it/s]"
     ]
    },
    {
     "name": "stdout",
     "output_type": "stream",
     "text": [
      "[LightGBM] [Info] Number of positive: 1390, number of negative: 248\n",
      "[LightGBM] [Info] Auto-choosing row-wise multi-threading, the overhead of testing was 0.010863 seconds.\n",
      "You can set `force_row_wise=true` to remove the overhead.\n",
      "And if memory is not enough, you can set `force_col_wise=true`.\n",
      "[LightGBM] [Info] Total Bins 4530\n",
      "[LightGBM] [Info] Number of data points in the train set: 1638, number of used features: 1510\n",
      "[LightGBM] [Info] [binary:BoostFromScore]: pavg=0.848596 -> initscore=1.723630\n",
      "[LightGBM] [Info] Start training from score 1.723630\n"
     ]
    },
    {
     "name": "stderr",
     "output_type": "stream",
     "text": [
      "100%|██████████| 29/29 [00:27<00:00,  1.05it/s]\n"
     ]
    },
    {
     "name": "stdout",
     "output_type": "stream",
     "text": [
      "Trial 13 completed. Results saved to ~/datasets/lazypredict/ap/ap_results_trial_13.csv.\n",
      "Running LazyClassifier Trial 14...\n"
     ]
    },
    {
     "name": "stderr",
     "output_type": "stream",
     "text": [
      " 97%|█████████▋| 28/29 [00:26<00:00,  1.64it/s]"
     ]
    },
    {
     "name": "stdout",
     "output_type": "stream",
     "text": [
      "[LightGBM] [Info] Number of positive: 1390, number of negative: 248\n",
      "[LightGBM] [Info] Auto-choosing row-wise multi-threading, the overhead of testing was 0.011627 seconds.\n",
      "You can set `force_row_wise=true` to remove the overhead.\n",
      "And if memory is not enough, you can set `force_col_wise=true`.\n",
      "[LightGBM] [Info] Total Bins 4530\n",
      "[LightGBM] [Info] Number of data points in the train set: 1638, number of used features: 1510\n",
      "[LightGBM] [Info] [binary:BoostFromScore]: pavg=0.848596 -> initscore=1.723630\n",
      "[LightGBM] [Info] Start training from score 1.723630\n"
     ]
    },
    {
     "name": "stderr",
     "output_type": "stream",
     "text": [
      "100%|██████████| 29/29 [00:27<00:00,  1.05it/s]\n"
     ]
    },
    {
     "name": "stdout",
     "output_type": "stream",
     "text": [
      "Trial 14 completed. Results saved to ~/datasets/lazypredict/ap/ap_results_trial_14.csv.\n",
      "Running LazyClassifier Trial 15...\n"
     ]
    },
    {
     "name": "stderr",
     "output_type": "stream",
     "text": [
      " 97%|█████████▋| 28/29 [00:28<00:00,  1.21it/s]"
     ]
    },
    {
     "name": "stdout",
     "output_type": "stream",
     "text": [
      "[LightGBM] [Info] Number of positive: 1390, number of negative: 248\n",
      "[LightGBM] [Info] Auto-choosing row-wise multi-threading, the overhead of testing was 0.009345 seconds.\n",
      "You can set `force_row_wise=true` to remove the overhead.\n",
      "And if memory is not enough, you can set `force_col_wise=true`.\n",
      "[LightGBM] [Info] Total Bins 4530\n",
      "[LightGBM] [Info] Number of data points in the train set: 1638, number of used features: 1510\n",
      "[LightGBM] [Info] [binary:BoostFromScore]: pavg=0.848596 -> initscore=1.723630\n",
      "[LightGBM] [Info] Start training from score 1.723630\n"
     ]
    },
    {
     "name": "stderr",
     "output_type": "stream",
     "text": [
      "100%|██████████| 29/29 [00:28<00:00,  1.01it/s]\n"
     ]
    },
    {
     "name": "stdout",
     "output_type": "stream",
     "text": [
      "Trial 15 completed. Results saved to ~/datasets/lazypredict/ap/ap_results_trial_15.csv.\n",
      "Running LazyClassifier Trial 16...\n"
     ]
    },
    {
     "name": "stderr",
     "output_type": "stream",
     "text": [
      " 97%|█████████▋| 28/29 [00:23<00:00,  2.10it/s]"
     ]
    },
    {
     "name": "stdout",
     "output_type": "stream",
     "text": [
      "[LightGBM] [Info] Number of positive: 1390, number of negative: 248\n",
      "[LightGBM] [Info] Auto-choosing row-wise multi-threading, the overhead of testing was 0.009141 seconds.\n",
      "You can set `force_row_wise=true` to remove the overhead.\n",
      "And if memory is not enough, you can set `force_col_wise=true`.\n",
      "[LightGBM] [Info] Total Bins 4530\n",
      "[LightGBM] [Info] Number of data points in the train set: 1638, number of used features: 1510\n",
      "[LightGBM] [Info] [binary:BoostFromScore]: pavg=0.848596 -> initscore=1.723630\n",
      "[LightGBM] [Info] Start training from score 1.723630\n"
     ]
    },
    {
     "name": "stderr",
     "output_type": "stream",
     "text": [
      "100%|██████████| 29/29 [00:24<00:00,  1.21it/s]\n"
     ]
    },
    {
     "name": "stdout",
     "output_type": "stream",
     "text": [
      "Trial 16 completed. Results saved to ~/datasets/lazypredict/ap/ap_results_trial_16.csv.\n",
      "Running LazyClassifier Trial 17...\n"
     ]
    },
    {
     "name": "stderr",
     "output_type": "stream",
     "text": [
      " 97%|█████████▋| 28/29 [00:28<00:00,  1.49it/s]"
     ]
    },
    {
     "name": "stdout",
     "output_type": "stream",
     "text": [
      "[LightGBM] [Info] Number of positive: 1390, number of negative: 248\n",
      "[LightGBM] [Info] Auto-choosing row-wise multi-threading, the overhead of testing was 0.011927 seconds.\n",
      "You can set `force_row_wise=true` to remove the overhead.\n",
      "And if memory is not enough, you can set `force_col_wise=true`.\n",
      "[LightGBM] [Info] Total Bins 4530\n",
      "[LightGBM] [Info] Number of data points in the train set: 1638, number of used features: 1510\n",
      "[LightGBM] [Info] [binary:BoostFromScore]: pavg=0.848596 -> initscore=1.723630\n",
      "[LightGBM] [Info] Start training from score 1.723630\n"
     ]
    },
    {
     "name": "stderr",
     "output_type": "stream",
     "text": [
      "100%|██████████| 29/29 [00:28<00:00,  1.01it/s]\n"
     ]
    },
    {
     "name": "stdout",
     "output_type": "stream",
     "text": [
      "Trial 17 completed. Results saved to ~/datasets/lazypredict/ap/ap_results_trial_17.csv.\n",
      "Running LazyClassifier Trial 18...\n"
     ]
    },
    {
     "name": "stderr",
     "output_type": "stream",
     "text": [
      " 97%|█████████▋| 28/29 [00:26<00:00,  1.29it/s]"
     ]
    },
    {
     "name": "stdout",
     "output_type": "stream",
     "text": [
      "[LightGBM] [Info] Number of positive: 1390, number of negative: 248\n",
      "[LightGBM] [Info] Auto-choosing row-wise multi-threading, the overhead of testing was 0.012345 seconds.\n",
      "You can set `force_row_wise=true` to remove the overhead.\n",
      "And if memory is not enough, you can set `force_col_wise=true`.\n",
      "[LightGBM] [Info] Total Bins 4530\n",
      "[LightGBM] [Info] Number of data points in the train set: 1638, number of used features: 1510\n",
      "[LightGBM] [Info] [binary:BoostFromScore]: pavg=0.848596 -> initscore=1.723630\n",
      "[LightGBM] [Info] Start training from score 1.723630\n"
     ]
    },
    {
     "name": "stderr",
     "output_type": "stream",
     "text": [
      "100%|██████████| 29/29 [00:27<00:00,  1.05it/s]\n"
     ]
    },
    {
     "name": "stdout",
     "output_type": "stream",
     "text": [
      "Trial 18 completed. Results saved to ~/datasets/lazypredict/ap/ap_results_trial_18.csv.\n",
      "Running LazyClassifier Trial 19...\n"
     ]
    },
    {
     "name": "stderr",
     "output_type": "stream",
     "text": [
      " 97%|█████████▋| 28/29 [00:28<00:00,  1.74it/s]"
     ]
    },
    {
     "name": "stdout",
     "output_type": "stream",
     "text": [
      "[LightGBM] [Info] Number of positive: 1390, number of negative: 248\n",
      "[LightGBM] [Info] Auto-choosing row-wise multi-threading, the overhead of testing was 0.012032 seconds.\n",
      "You can set `force_row_wise=true` to remove the overhead.\n",
      "And if memory is not enough, you can set `force_col_wise=true`.\n",
      "[LightGBM] [Info] Total Bins 4530\n",
      "[LightGBM] [Info] Number of data points in the train set: 1638, number of used features: 1510\n",
      "[LightGBM] [Info] [binary:BoostFromScore]: pavg=0.848596 -> initscore=1.723630\n",
      "[LightGBM] [Info] Start training from score 1.723630\n"
     ]
    },
    {
     "name": "stderr",
     "output_type": "stream",
     "text": [
      "100%|██████████| 29/29 [00:29<00:00,  1.00s/it]\n"
     ]
    },
    {
     "name": "stdout",
     "output_type": "stream",
     "text": [
      "Trial 19 completed. Results saved to ~/datasets/lazypredict/ap/ap_results_trial_19.csv.\n",
      "Running LazyClassifier Trial 20...\n"
     ]
    },
    {
     "name": "stderr",
     "output_type": "stream",
     "text": [
      " 97%|█████████▋| 28/29 [00:25<00:00,  2.13it/s]"
     ]
    },
    {
     "name": "stdout",
     "output_type": "stream",
     "text": [
      "[LightGBM] [Info] Number of positive: 1390, number of negative: 248\n",
      "[LightGBM] [Info] Auto-choosing row-wise multi-threading, the overhead of testing was 0.008906 seconds.\n",
      "You can set `force_row_wise=true` to remove the overhead.\n",
      "And if memory is not enough, you can set `force_col_wise=true`.\n",
      "[LightGBM] [Info] Total Bins 4530\n",
      "[LightGBM] [Info] Number of data points in the train set: 1638, number of used features: 1510\n",
      "[LightGBM] [Info] [binary:BoostFromScore]: pavg=0.848596 -> initscore=1.723630\n",
      "[LightGBM] [Info] Start training from score 1.723630\n"
     ]
    },
    {
     "name": "stderr",
     "output_type": "stream",
     "text": [
      "100%|██████████| 29/29 [00:26<00:00,  1.11it/s]\n"
     ]
    },
    {
     "name": "stdout",
     "output_type": "stream",
     "text": [
      "Trial 20 completed. Results saved to ~/datasets/lazypredict/ap/ap_results_trial_20.csv.\n",
      "Running LazyClassifier Trial 21...\n"
     ]
    },
    {
     "name": "stderr",
     "output_type": "stream",
     "text": [
      " 97%|█████████▋| 28/29 [00:23<00:00,  2.17it/s]"
     ]
    },
    {
     "name": "stdout",
     "output_type": "stream",
     "text": [
      "[LightGBM] [Info] Number of positive: 1390, number of negative: 248\n",
      "[LightGBM] [Info] Auto-choosing row-wise multi-threading, the overhead of testing was 0.009219 seconds.\n",
      "You can set `force_row_wise=true` to remove the overhead.\n",
      "And if memory is not enough, you can set `force_col_wise=true`.\n",
      "[LightGBM] [Info] Total Bins 4530\n",
      "[LightGBM] [Info] Number of data points in the train set: 1638, number of used features: 1510\n",
      "[LightGBM] [Info] [binary:BoostFromScore]: pavg=0.848596 -> initscore=1.723630\n",
      "[LightGBM] [Info] Start training from score 1.723630\n"
     ]
    },
    {
     "name": "stderr",
     "output_type": "stream",
     "text": [
      "100%|██████████| 29/29 [00:23<00:00,  1.22it/s]\n"
     ]
    },
    {
     "name": "stdout",
     "output_type": "stream",
     "text": [
      "Trial 21 completed. Results saved to ~/datasets/lazypredict/ap/ap_results_trial_21.csv.\n",
      "Running LazyClassifier Trial 22...\n"
     ]
    },
    {
     "name": "stderr",
     "output_type": "stream",
     "text": [
      " 97%|█████████▋| 28/29 [00:23<00:00,  2.04it/s]"
     ]
    },
    {
     "name": "stdout",
     "output_type": "stream",
     "text": [
      "[LightGBM] [Info] Number of positive: 1390, number of negative: 248\n",
      "[LightGBM] [Info] Auto-choosing row-wise multi-threading, the overhead of testing was 0.009359 seconds.\n",
      "You can set `force_row_wise=true` to remove the overhead.\n",
      "And if memory is not enough, you can set `force_col_wise=true`.\n",
      "[LightGBM] [Info] Total Bins 4530\n",
      "[LightGBM] [Info] Number of data points in the train set: 1638, number of used features: 1510\n",
      "[LightGBM] [Info] [binary:BoostFromScore]: pavg=0.848596 -> initscore=1.723630\n",
      "[LightGBM] [Info] Start training from score 1.723630\n"
     ]
    },
    {
     "name": "stderr",
     "output_type": "stream",
     "text": [
      "100%|██████████| 29/29 [00:23<00:00,  1.22it/s]\n"
     ]
    },
    {
     "name": "stdout",
     "output_type": "stream",
     "text": [
      "Trial 22 completed. Results saved to ~/datasets/lazypredict/ap/ap_results_trial_22.csv.\n",
      "Running LazyClassifier Trial 23...\n"
     ]
    },
    {
     "name": "stderr",
     "output_type": "stream",
     "text": [
      " 97%|█████████▋| 28/29 [00:23<00:00,  2.14it/s]"
     ]
    },
    {
     "name": "stdout",
     "output_type": "stream",
     "text": [
      "[LightGBM] [Info] Number of positive: 1390, number of negative: 248\n",
      "[LightGBM] [Info] Auto-choosing row-wise multi-threading, the overhead of testing was 0.011274 seconds.\n",
      "You can set `force_row_wise=true` to remove the overhead.\n",
      "And if memory is not enough, you can set `force_col_wise=true`.\n",
      "[LightGBM] [Info] Total Bins 4530\n",
      "[LightGBM] [Info] Number of data points in the train set: 1638, number of used features: 1510\n",
      "[LightGBM] [Info] [binary:BoostFromScore]: pavg=0.848596 -> initscore=1.723630\n",
      "[LightGBM] [Info] Start training from score 1.723630\n"
     ]
    },
    {
     "name": "stderr",
     "output_type": "stream",
     "text": [
      "100%|██████████| 29/29 [00:23<00:00,  1.22it/s]\n"
     ]
    },
    {
     "name": "stdout",
     "output_type": "stream",
     "text": [
      "Trial 23 completed. Results saved to ~/datasets/lazypredict/ap/ap_results_trial_23.csv.\n",
      "Running LazyClassifier Trial 24...\n"
     ]
    },
    {
     "name": "stderr",
     "output_type": "stream",
     "text": [
      " 97%|█████████▋| 28/29 [00:23<00:00,  2.12it/s]"
     ]
    },
    {
     "name": "stdout",
     "output_type": "stream",
     "text": [
      "[LightGBM] [Info] Number of positive: 1390, number of negative: 248\n",
      "[LightGBM] [Info] Auto-choosing row-wise multi-threading, the overhead of testing was 0.009562 seconds.\n",
      "You can set `force_row_wise=true` to remove the overhead.\n",
      "And if memory is not enough, you can set `force_col_wise=true`.\n",
      "[LightGBM] [Info] Total Bins 4530\n",
      "[LightGBM] [Info] Number of data points in the train set: 1638, number of used features: 1510\n",
      "[LightGBM] [Info] [binary:BoostFromScore]: pavg=0.848596 -> initscore=1.723630\n",
      "[LightGBM] [Info] Start training from score 1.723630\n"
     ]
    },
    {
     "name": "stderr",
     "output_type": "stream",
     "text": [
      "100%|██████████| 29/29 [00:23<00:00,  1.22it/s]\n"
     ]
    },
    {
     "name": "stdout",
     "output_type": "stream",
     "text": [
      "Trial 24 completed. Results saved to ~/datasets/lazypredict/ap/ap_results_trial_24.csv.\n",
      "Running LazyClassifier Trial 25...\n"
     ]
    },
    {
     "name": "stderr",
     "output_type": "stream",
     "text": [
      " 97%|█████████▋| 28/29 [00:23<00:00,  2.16it/s]"
     ]
    },
    {
     "name": "stdout",
     "output_type": "stream",
     "text": [
      "[LightGBM] [Info] Number of positive: 1390, number of negative: 248\n",
      "[LightGBM] [Info] Auto-choosing row-wise multi-threading, the overhead of testing was 0.009180 seconds.\n",
      "You can set `force_row_wise=true` to remove the overhead.\n",
      "And if memory is not enough, you can set `force_col_wise=true`.\n",
      "[LightGBM] [Info] Total Bins 4530\n",
      "[LightGBM] [Info] Number of data points in the train set: 1638, number of used features: 1510\n",
      "[LightGBM] [Info] [binary:BoostFromScore]: pavg=0.848596 -> initscore=1.723630\n",
      "[LightGBM] [Info] Start training from score 1.723630\n"
     ]
    },
    {
     "name": "stderr",
     "output_type": "stream",
     "text": [
      "100%|██████████| 29/29 [00:23<00:00,  1.21it/s]\n"
     ]
    },
    {
     "name": "stdout",
     "output_type": "stream",
     "text": [
      "Trial 25 completed. Results saved to ~/datasets/lazypredict/ap/ap_results_trial_25.csv.\n",
      "Running LazyClassifier Trial 26...\n"
     ]
    },
    {
     "name": "stderr",
     "output_type": "stream",
     "text": [
      " 97%|█████████▋| 28/29 [00:23<00:00,  2.15it/s]"
     ]
    },
    {
     "name": "stdout",
     "output_type": "stream",
     "text": [
      "[LightGBM] [Info] Number of positive: 1390, number of negative: 248\n",
      "[LightGBM] [Info] Auto-choosing row-wise multi-threading, the overhead of testing was 0.009133 seconds.\n",
      "You can set `force_row_wise=true` to remove the overhead.\n",
      "And if memory is not enough, you can set `force_col_wise=true`.\n",
      "[LightGBM] [Info] Total Bins 4530\n",
      "[LightGBM] [Info] Number of data points in the train set: 1638, number of used features: 1510\n",
      "[LightGBM] [Info] [binary:BoostFromScore]: pavg=0.848596 -> initscore=1.723630\n",
      "[LightGBM] [Info] Start training from score 1.723630\n"
     ]
    },
    {
     "name": "stderr",
     "output_type": "stream",
     "text": [
      "100%|██████████| 29/29 [00:23<00:00,  1.22it/s]\n"
     ]
    },
    {
     "name": "stdout",
     "output_type": "stream",
     "text": [
      "Trial 26 completed. Results saved to ~/datasets/lazypredict/ap/ap_results_trial_26.csv.\n",
      "Running LazyClassifier Trial 27...\n"
     ]
    },
    {
     "name": "stderr",
     "output_type": "stream",
     "text": [
      " 97%|█████████▋| 28/29 [00:24<00:00,  1.71it/s]"
     ]
    },
    {
     "name": "stdout",
     "output_type": "stream",
     "text": [
      "[LightGBM] [Info] Number of positive: 1390, number of negative: 248\n",
      "[LightGBM] [Info] Auto-choosing row-wise multi-threading, the overhead of testing was 0.012064 seconds.\n",
      "You can set `force_row_wise=true` to remove the overhead.\n",
      "And if memory is not enough, you can set `force_col_wise=true`.\n",
      "[LightGBM] [Info] Total Bins 4530\n",
      "[LightGBM] [Info] Number of data points in the train set: 1638, number of used features: 1510\n",
      "[LightGBM] [Info] [binary:BoostFromScore]: pavg=0.848596 -> initscore=1.723630\n",
      "[LightGBM] [Info] Start training from score 1.723630\n"
     ]
    },
    {
     "name": "stderr",
     "output_type": "stream",
     "text": [
      "100%|██████████| 29/29 [00:25<00:00,  1.14it/s]\n"
     ]
    },
    {
     "name": "stdout",
     "output_type": "stream",
     "text": [
      "Trial 27 completed. Results saved to ~/datasets/lazypredict/ap/ap_results_trial_27.csv.\n",
      "Running LazyClassifier Trial 28...\n"
     ]
    },
    {
     "name": "stderr",
     "output_type": "stream",
     "text": [
      " 97%|█████████▋| 28/29 [00:23<00:00,  2.15it/s]"
     ]
    },
    {
     "name": "stdout",
     "output_type": "stream",
     "text": [
      "[LightGBM] [Info] Number of positive: 1390, number of negative: 248\n",
      "[LightGBM] [Info] Auto-choosing row-wise multi-threading, the overhead of testing was 0.009873 seconds.\n",
      "You can set `force_row_wise=true` to remove the overhead.\n",
      "And if memory is not enough, you can set `force_col_wise=true`.\n",
      "[LightGBM] [Info] Total Bins 4530\n",
      "[LightGBM] [Info] Number of data points in the train set: 1638, number of used features: 1510\n",
      "[LightGBM] [Info] [binary:BoostFromScore]: pavg=0.848596 -> initscore=1.723630\n",
      "[LightGBM] [Info] Start training from score 1.723630\n"
     ]
    },
    {
     "name": "stderr",
     "output_type": "stream",
     "text": [
      "100%|██████████| 29/29 [00:23<00:00,  1.22it/s]\n"
     ]
    },
    {
     "name": "stdout",
     "output_type": "stream",
     "text": [
      "Trial 28 completed. Results saved to ~/datasets/lazypredict/ap/ap_results_trial_28.csv.\n",
      "Running LazyClassifier Trial 29...\n"
     ]
    },
    {
     "name": "stderr",
     "output_type": "stream",
     "text": [
      " 97%|█████████▋| 28/29 [00:23<00:00,  2.10it/s]"
     ]
    },
    {
     "name": "stdout",
     "output_type": "stream",
     "text": [
      "[LightGBM] [Info] Number of positive: 1390, number of negative: 248\n",
      "[LightGBM] [Info] Auto-choosing row-wise multi-threading, the overhead of testing was 0.009416 seconds.\n",
      "You can set `force_row_wise=true` to remove the overhead.\n",
      "And if memory is not enough, you can set `force_col_wise=true`.\n",
      "[LightGBM] [Info] Total Bins 4530\n",
      "[LightGBM] [Info] Number of data points in the train set: 1638, number of used features: 1510\n",
      "[LightGBM] [Info] [binary:BoostFromScore]: pavg=0.848596 -> initscore=1.723630\n",
      "[LightGBM] [Info] Start training from score 1.723630\n"
     ]
    },
    {
     "name": "stderr",
     "output_type": "stream",
     "text": [
      "100%|██████████| 29/29 [00:24<00:00,  1.20it/s]\n"
     ]
    },
    {
     "name": "stdout",
     "output_type": "stream",
     "text": [
      "Trial 29 completed. Results saved to ~/datasets/lazypredict/ap/ap_results_trial_29.csv.\n",
      "Running LazyClassifier Trial 30...\n"
     ]
    },
    {
     "name": "stderr",
     "output_type": "stream",
     "text": [
      " 97%|█████████▋| 28/29 [00:23<00:00,  2.08it/s]"
     ]
    },
    {
     "name": "stdout",
     "output_type": "stream",
     "text": [
      "[LightGBM] [Info] Number of positive: 1390, number of negative: 248\n",
      "[LightGBM] [Info] Auto-choosing row-wise multi-threading, the overhead of testing was 0.009090 seconds.\n",
      "You can set `force_row_wise=true` to remove the overhead.\n",
      "And if memory is not enough, you can set `force_col_wise=true`.\n",
      "[LightGBM] [Info] Total Bins 4530\n",
      "[LightGBM] [Info] Number of data points in the train set: 1638, number of used features: 1510\n",
      "[LightGBM] [Info] [binary:BoostFromScore]: pavg=0.848596 -> initscore=1.723630\n",
      "[LightGBM] [Info] Start training from score 1.723630\n"
     ]
    },
    {
     "name": "stderr",
     "output_type": "stream",
     "text": [
      "100%|██████████| 29/29 [00:24<00:00,  1.20it/s]\n"
     ]
    },
    {
     "name": "stdout",
     "output_type": "stream",
     "text": [
      "Trial 30 completed. Results saved to ~/datasets/lazypredict/ap/ap_results_trial_30.csv.\n",
      "Running LazyClassifier Trial 31...\n"
     ]
    },
    {
     "name": "stderr",
     "output_type": "stream",
     "text": [
      " 97%|█████████▋| 28/29 [00:23<00:00,  2.21it/s]"
     ]
    },
    {
     "name": "stdout",
     "output_type": "stream",
     "text": [
      "[LightGBM] [Info] Number of positive: 1390, number of negative: 248\n",
      "[LightGBM] [Info] Auto-choosing row-wise multi-threading, the overhead of testing was 0.009186 seconds.\n",
      "You can set `force_row_wise=true` to remove the overhead.\n",
      "And if memory is not enough, you can set `force_col_wise=true`.\n",
      "[LightGBM] [Info] Total Bins 4530\n",
      "[LightGBM] [Info] Number of data points in the train set: 1638, number of used features: 1510\n",
      "[LightGBM] [Info] [binary:BoostFromScore]: pavg=0.848596 -> initscore=1.723630\n",
      "[LightGBM] [Info] Start training from score 1.723630\n"
     ]
    },
    {
     "name": "stderr",
     "output_type": "stream",
     "text": [
      "100%|██████████| 29/29 [00:23<00:00,  1.23it/s]\n"
     ]
    },
    {
     "name": "stdout",
     "output_type": "stream",
     "text": [
      "Trial 31 completed. Results saved to ~/datasets/lazypredict/ap/ap_results_trial_31.csv.\n",
      "Running LazyClassifier Trial 32...\n"
     ]
    },
    {
     "name": "stderr",
     "output_type": "stream",
     "text": [
      " 97%|█████████▋| 28/29 [00:23<00:00,  2.10it/s]"
     ]
    },
    {
     "name": "stdout",
     "output_type": "stream",
     "text": [
      "[LightGBM] [Info] Number of positive: 1390, number of negative: 248\n",
      "[LightGBM] [Info] Auto-choosing row-wise multi-threading, the overhead of testing was 0.009120 seconds.\n",
      "You can set `force_row_wise=true` to remove the overhead.\n",
      "And if memory is not enough, you can set `force_col_wise=true`.\n",
      "[LightGBM] [Info] Total Bins 4530\n",
      "[LightGBM] [Info] Number of data points in the train set: 1638, number of used features: 1510\n",
      "[LightGBM] [Info] [binary:BoostFromScore]: pavg=0.848596 -> initscore=1.723630\n",
      "[LightGBM] [Info] Start training from score 1.723630\n"
     ]
    },
    {
     "name": "stderr",
     "output_type": "stream",
     "text": [
      "100%|██████████| 29/29 [00:23<00:00,  1.22it/s]\n"
     ]
    },
    {
     "name": "stdout",
     "output_type": "stream",
     "text": [
      "Trial 32 completed. Results saved to ~/datasets/lazypredict/ap/ap_results_trial_32.csv.\n",
      "Running LazyClassifier Trial 33...\n"
     ]
    },
    {
     "name": "stderr",
     "output_type": "stream",
     "text": [
      " 97%|█████████▋| 28/29 [00:25<00:00,  1.25it/s]"
     ]
    },
    {
     "name": "stdout",
     "output_type": "stream",
     "text": [
      "[LightGBM] [Info] Number of positive: 1390, number of negative: 248\n",
      "[LightGBM] [Info] Auto-choosing row-wise multi-threading, the overhead of testing was 0.012303 seconds.\n",
      "You can set `force_row_wise=true` to remove the overhead.\n",
      "And if memory is not enough, you can set `force_col_wise=true`.\n",
      "[LightGBM] [Info] Total Bins 4530\n",
      "[LightGBM] [Info] Number of data points in the train set: 1638, number of used features: 1510\n",
      "[LightGBM] [Info] [binary:BoostFromScore]: pavg=0.848596 -> initscore=1.723630\n",
      "[LightGBM] [Info] Start training from score 1.723630\n"
     ]
    },
    {
     "name": "stderr",
     "output_type": "stream",
     "text": [
      "100%|██████████| 29/29 [00:26<00:00,  1.11it/s]\n"
     ]
    },
    {
     "name": "stdout",
     "output_type": "stream",
     "text": [
      "Trial 33 completed. Results saved to ~/datasets/lazypredict/ap/ap_results_trial_33.csv.\n",
      "Running LazyClassifier Trial 34...\n"
     ]
    },
    {
     "name": "stderr",
     "output_type": "stream",
     "text": [
      " 97%|█████████▋| 28/29 [00:27<00:00,  1.39it/s]"
     ]
    },
    {
     "name": "stdout",
     "output_type": "stream",
     "text": [
      "[LightGBM] [Info] Number of positive: 1390, number of negative: 248\n",
      "[LightGBM] [Info] Auto-choosing row-wise multi-threading, the overhead of testing was 0.011409 seconds.\n",
      "You can set `force_row_wise=true` to remove the overhead.\n",
      "And if memory is not enough, you can set `force_col_wise=true`.\n",
      "[LightGBM] [Info] Total Bins 4530\n",
      "[LightGBM] [Info] Number of data points in the train set: 1638, number of used features: 1510\n",
      "[LightGBM] [Info] [binary:BoostFromScore]: pavg=0.848596 -> initscore=1.723630\n",
      "[LightGBM] [Info] Start training from score 1.723630\n"
     ]
    },
    {
     "name": "stderr",
     "output_type": "stream",
     "text": [
      "100%|██████████| 29/29 [00:28<00:00,  1.01it/s]\n"
     ]
    },
    {
     "name": "stdout",
     "output_type": "stream",
     "text": [
      "Trial 34 completed. Results saved to ~/datasets/lazypredict/ap/ap_results_trial_34.csv.\n",
      "Running LazyClassifier Trial 35...\n"
     ]
    },
    {
     "name": "stderr",
     "output_type": "stream",
     "text": [
      " 97%|█████████▋| 28/29 [00:27<00:00,  1.07it/s]"
     ]
    },
    {
     "name": "stdout",
     "output_type": "stream",
     "text": [
      "[LightGBM] [Info] Number of positive: 1390, number of negative: 248\n",
      "[LightGBM] [Info] Auto-choosing row-wise multi-threading, the overhead of testing was 0.012249 seconds.\n",
      "You can set `force_row_wise=true` to remove the overhead.\n",
      "And if memory is not enough, you can set `force_col_wise=true`.\n",
      "[LightGBM] [Info] Total Bins 4530\n",
      "[LightGBM] [Info] Number of data points in the train set: 1638, number of used features: 1510\n",
      "[LightGBM] [Info] [binary:BoostFromScore]: pavg=0.848596 -> initscore=1.723630\n",
      "[LightGBM] [Info] Start training from score 1.723630\n"
     ]
    },
    {
     "name": "stderr",
     "output_type": "stream",
     "text": [
      "100%|██████████| 29/29 [00:28<00:00,  1.03it/s]\n"
     ]
    },
    {
     "name": "stdout",
     "output_type": "stream",
     "text": [
      "Trial 35 completed. Results saved to ~/datasets/lazypredict/ap/ap_results_trial_35.csv.\n",
      "Running LazyClassifier Trial 36...\n"
     ]
    },
    {
     "name": "stderr",
     "output_type": "stream",
     "text": [
      " 97%|█████████▋| 28/29 [00:27<00:00,  1.22it/s]"
     ]
    },
    {
     "name": "stdout",
     "output_type": "stream",
     "text": [
      "[LightGBM] [Info] Number of positive: 1390, number of negative: 248\n",
      "[LightGBM] [Info] Auto-choosing row-wise multi-threading, the overhead of testing was 0.010981 seconds.\n",
      "You can set `force_row_wise=true` to remove the overhead.\n",
      "And if memory is not enough, you can set `force_col_wise=true`.\n",
      "[LightGBM] [Info] Total Bins 4530\n",
      "[LightGBM] [Info] Number of data points in the train set: 1638, number of used features: 1510\n",
      "[LightGBM] [Info] [binary:BoostFromScore]: pavg=0.848596 -> initscore=1.723630\n",
      "[LightGBM] [Info] Start training from score 1.723630\n"
     ]
    },
    {
     "name": "stderr",
     "output_type": "stream",
     "text": [
      "100%|██████████| 29/29 [00:27<00:00,  1.04it/s]\n"
     ]
    },
    {
     "name": "stdout",
     "output_type": "stream",
     "text": [
      "Trial 36 completed. Results saved to ~/datasets/lazypredict/ap/ap_results_trial_36.csv.\n",
      "Running LazyClassifier Trial 37...\n"
     ]
    },
    {
     "name": "stderr",
     "output_type": "stream",
     "text": [
      " 97%|█████████▋| 28/29 [00:27<00:00,  1.38it/s]"
     ]
    },
    {
     "name": "stdout",
     "output_type": "stream",
     "text": [
      "[LightGBM] [Info] Number of positive: 1390, number of negative: 248\n",
      "[LightGBM] [Info] Auto-choosing row-wise multi-threading, the overhead of testing was 0.012024 seconds.\n",
      "You can set `force_row_wise=true` to remove the overhead.\n",
      "And if memory is not enough, you can set `force_col_wise=true`.\n",
      "[LightGBM] [Info] Total Bins 4530\n",
      "[LightGBM] [Info] Number of data points in the train set: 1638, number of used features: 1510\n",
      "[LightGBM] [Info] [binary:BoostFromScore]: pavg=0.848596 -> initscore=1.723630\n",
      "[LightGBM] [Info] Start training from score 1.723630\n"
     ]
    },
    {
     "name": "stderr",
     "output_type": "stream",
     "text": [
      "100%|██████████| 29/29 [00:27<00:00,  1.04it/s]\n"
     ]
    },
    {
     "name": "stdout",
     "output_type": "stream",
     "text": [
      "Trial 37 completed. Results saved to ~/datasets/lazypredict/ap/ap_results_trial_37.csv.\n",
      "Running LazyClassifier Trial 38...\n"
     ]
    },
    {
     "name": "stderr",
     "output_type": "stream",
     "text": [
      " 97%|█████████▋| 28/29 [00:26<00:00,  1.64it/s]"
     ]
    },
    {
     "name": "stdout",
     "output_type": "stream",
     "text": [
      "[LightGBM] [Info] Number of positive: 1390, number of negative: 248\n",
      "[LightGBM] [Info] Auto-choosing col-wise multi-threading, the overhead of testing was 0.016608 seconds.\n",
      "You can set `force_col_wise=true` to remove the overhead.\n",
      "[LightGBM] [Info] Total Bins 4530\n",
      "[LightGBM] [Info] Number of data points in the train set: 1638, number of used features: 1510\n",
      "[LightGBM] [Info] [binary:BoostFromScore]: pavg=0.848596 -> initscore=1.723630\n",
      "[LightGBM] [Info] Start training from score 1.723630\n"
     ]
    },
    {
     "name": "stderr",
     "output_type": "stream",
     "text": [
      "100%|██████████| 29/29 [00:27<00:00,  1.05it/s]\n"
     ]
    },
    {
     "name": "stdout",
     "output_type": "stream",
     "text": [
      "Trial 38 completed. Results saved to ~/datasets/lazypredict/ap/ap_results_trial_38.csv.\n",
      "Running LazyClassifier Trial 39...\n"
     ]
    },
    {
     "name": "stderr",
     "output_type": "stream",
     "text": [
      " 97%|█████████▋| 28/29 [00:24<00:00,  2.13it/s]"
     ]
    },
    {
     "name": "stdout",
     "output_type": "stream",
     "text": [
      "[LightGBM] [Info] Number of positive: 1390, number of negative: 248\n",
      "[LightGBM] [Info] Auto-choosing row-wise multi-threading, the overhead of testing was 0.009157 seconds.\n",
      "You can set `force_row_wise=true` to remove the overhead.\n",
      "And if memory is not enough, you can set `force_col_wise=true`.\n",
      "[LightGBM] [Info] Total Bins 4530\n",
      "[LightGBM] [Info] Number of data points in the train set: 1638, number of used features: 1510\n",
      "[LightGBM] [Info] [binary:BoostFromScore]: pavg=0.848596 -> initscore=1.723630\n",
      "[LightGBM] [Info] Start training from score 1.723630\n"
     ]
    },
    {
     "name": "stderr",
     "output_type": "stream",
     "text": [
      "100%|██████████| 29/29 [00:24<00:00,  1.17it/s]\n"
     ]
    },
    {
     "name": "stdout",
     "output_type": "stream",
     "text": [
      "Trial 39 completed. Results saved to ~/datasets/lazypredict/ap/ap_results_trial_39.csv.\n",
      "Running LazyClassifier Trial 40...\n"
     ]
    },
    {
     "name": "stderr",
     "output_type": "stream",
     "text": [
      " 97%|█████████▋| 28/29 [00:22<00:00,  2.11it/s]"
     ]
    },
    {
     "name": "stdout",
     "output_type": "stream",
     "text": [
      "[LightGBM] [Info] Number of positive: 1390, number of negative: 248\n",
      "[LightGBM] [Info] Auto-choosing row-wise multi-threading, the overhead of testing was 0.008906 seconds.\n",
      "You can set `force_row_wise=true` to remove the overhead.\n",
      "And if memory is not enough, you can set `force_col_wise=true`.\n",
      "[LightGBM] [Info] Total Bins 4530\n",
      "[LightGBM] [Info] Number of data points in the train set: 1638, number of used features: 1510\n",
      "[LightGBM] [Info] [binary:BoostFromScore]: pavg=0.848596 -> initscore=1.723630\n",
      "[LightGBM] [Info] Start training from score 1.723630\n"
     ]
    },
    {
     "name": "stderr",
     "output_type": "stream",
     "text": [
      "100%|██████████| 29/29 [00:23<00:00,  1.24it/s]"
     ]
    },
    {
     "name": "stdout",
     "output_type": "stream",
     "text": [
      "Trial 40 completed. Results saved to ~/datasets/lazypredict/ap/ap_results_trial_40.csv.\n"
     ]
    },
    {
     "name": "stderr",
     "output_type": "stream",
     "text": [
      "\n"
     ]
    }
   ],
   "source": [
    "run_lazy_classifier(\n",
    "    \"ap\",\n",
    "    X_ap_train_activity,\n",
    "    X_ap_test_activity,\n",
    "    y_ap_train_activity,\n",
    "    y_ap_test_activity,\n",
    "    num_trials=40,\n",
    "    save_dir=\"~/datasets/lazypredict/ap\"\n",
    ")"
   ]
  },
  {
   "cell_type": "code",
   "execution_count": 29,
   "metadata": {},
   "outputs": [
    {
     "name": "stdout",
     "output_type": "stream",
     "text": [
      "Running LazyClassifier Trial 1...\n"
     ]
    },
    {
     "name": "stderr",
     "output_type": "stream",
     "text": [
      " 97%|█████████▋| 28/29 [00:23<00:00,  2.15it/s]"
     ]
    },
    {
     "name": "stdout",
     "output_type": "stream",
     "text": [
      "[LightGBM] [Info] Number of positive: 1390, number of negative: 248\n",
      "[LightGBM] [Info] Auto-choosing row-wise multi-threading, the overhead of testing was 0.009973 seconds.\n",
      "You can set `force_row_wise=true` to remove the overhead.\n",
      "And if memory is not enough, you can set `force_col_wise=true`.\n",
      "[LightGBM] [Info] Total Bins 6135\n",
      "[LightGBM] [Info] Number of data points in the train set: 1638, number of used features: 2045\n",
      "[LightGBM] [Info] [binary:BoostFromScore]: pavg=0.848596 -> initscore=1.723630\n",
      "[LightGBM] [Info] Start training from score 1.723630\n"
     ]
    },
    {
     "name": "stderr",
     "output_type": "stream",
     "text": [
      "100%|██████████| 29/29 [00:24<00:00,  1.16it/s]\n"
     ]
    },
    {
     "name": "stdout",
     "output_type": "stream",
     "text": [
      "Trial 1 completed. Results saved to ~/datasets/lazypredict/rdk5/rdk5_results_trial_1.csv.\n",
      "Running LazyClassifier Trial 2...\n"
     ]
    },
    {
     "name": "stderr",
     "output_type": "stream",
     "text": [
      " 97%|█████████▋| 28/29 [00:24<00:00,  2.12it/s]"
     ]
    },
    {
     "name": "stdout",
     "output_type": "stream",
     "text": [
      "[LightGBM] [Info] Number of positive: 1390, number of negative: 248\n",
      "[LightGBM] [Info] Auto-choosing row-wise multi-threading, the overhead of testing was 0.009412 seconds.\n",
      "You can set `force_row_wise=true` to remove the overhead.\n",
      "And if memory is not enough, you can set `force_col_wise=true`.\n",
      "[LightGBM] [Info] Total Bins 6135\n",
      "[LightGBM] [Info] Number of data points in the train set: 1638, number of used features: 2045\n",
      "[LightGBM] [Info] [binary:BoostFromScore]: pavg=0.848596 -> initscore=1.723630\n",
      "[LightGBM] [Info] Start training from score 1.723630\n"
     ]
    },
    {
     "name": "stderr",
     "output_type": "stream",
     "text": [
      "100%|██████████| 29/29 [00:25<00:00,  1.16it/s]\n"
     ]
    },
    {
     "name": "stdout",
     "output_type": "stream",
     "text": [
      "Trial 2 completed. Results saved to ~/datasets/lazypredict/rdk5/rdk5_results_trial_2.csv.\n",
      "Running LazyClassifier Trial 3...\n"
     ]
    },
    {
     "name": "stderr",
     "output_type": "stream",
     "text": [
      " 97%|█████████▋| 28/29 [00:28<00:00,  1.59it/s]"
     ]
    },
    {
     "name": "stdout",
     "output_type": "stream",
     "text": [
      "[LightGBM] [Info] Number of positive: 1390, number of negative: 248\n",
      "[LightGBM] [Info] Auto-choosing row-wise multi-threading, the overhead of testing was 0.012048 seconds.\n",
      "You can set `force_row_wise=true` to remove the overhead.\n",
      "And if memory is not enough, you can set `force_col_wise=true`.\n",
      "[LightGBM] [Info] Total Bins 6135\n",
      "[LightGBM] [Info] Number of data points in the train set: 1638, number of used features: 2045\n",
      "[LightGBM] [Info] [binary:BoostFromScore]: pavg=0.848596 -> initscore=1.723630\n",
      "[LightGBM] [Info] Start training from score 1.723630\n"
     ]
    },
    {
     "name": "stderr",
     "output_type": "stream",
     "text": [
      "100%|██████████| 29/29 [00:29<00:00,  1.03s/it]\n"
     ]
    },
    {
     "name": "stdout",
     "output_type": "stream",
     "text": [
      "Trial 3 completed. Results saved to ~/datasets/lazypredict/rdk5/rdk5_results_trial_3.csv.\n",
      "Running LazyClassifier Trial 4...\n"
     ]
    },
    {
     "name": "stderr",
     "output_type": "stream",
     "text": [
      " 97%|█████████▋| 28/29 [00:27<00:00,  1.31it/s]"
     ]
    },
    {
     "name": "stdout",
     "output_type": "stream",
     "text": [
      "[LightGBM] [Info] Number of positive: 1390, number of negative: 248\n",
      "[LightGBM] [Info] Auto-choosing row-wise multi-threading, the overhead of testing was 0.012282 seconds.\n",
      "You can set `force_row_wise=true` to remove the overhead.\n",
      "And if memory is not enough, you can set `force_col_wise=true`.\n",
      "[LightGBM] [Info] Total Bins 6135\n",
      "[LightGBM] [Info] Number of data points in the train set: 1638, number of used features: 2045\n",
      "[LightGBM] [Info] [binary:BoostFromScore]: pavg=0.848596 -> initscore=1.723630\n",
      "[LightGBM] [Info] Start training from score 1.723630\n"
     ]
    },
    {
     "name": "stderr",
     "output_type": "stream",
     "text": [
      "100%|██████████| 29/29 [00:28<00:00,  1.00it/s]\n"
     ]
    },
    {
     "name": "stdout",
     "output_type": "stream",
     "text": [
      "Trial 4 completed. Results saved to ~/datasets/lazypredict/rdk5/rdk5_results_trial_4.csv.\n",
      "Running LazyClassifier Trial 5...\n"
     ]
    },
    {
     "name": "stderr",
     "output_type": "stream",
     "text": [
      " 97%|█████████▋| 28/29 [00:27<00:00,  1.14it/s]"
     ]
    },
    {
     "name": "stdout",
     "output_type": "stream",
     "text": [
      "[LightGBM] [Info] Number of positive: 1390, number of negative: 248\n",
      "[LightGBM] [Info] Auto-choosing row-wise multi-threading, the overhead of testing was 0.012349 seconds.\n",
      "You can set `force_row_wise=true` to remove the overhead.\n",
      "And if memory is not enough, you can set `force_col_wise=true`.\n",
      "[LightGBM] [Info] Total Bins 6135\n",
      "[LightGBM] [Info] Number of data points in the train set: 1638, number of used features: 2045\n",
      "[LightGBM] [Info] [binary:BoostFromScore]: pavg=0.848596 -> initscore=1.723630\n",
      "[LightGBM] [Info] Start training from score 1.723630\n"
     ]
    },
    {
     "name": "stderr",
     "output_type": "stream",
     "text": [
      "100%|██████████| 29/29 [00:28<00:00,  1.01it/s]\n"
     ]
    },
    {
     "name": "stdout",
     "output_type": "stream",
     "text": [
      "Trial 5 completed. Results saved to ~/datasets/lazypredict/rdk5/rdk5_results_trial_5.csv.\n",
      "Running LazyClassifier Trial 6...\n"
     ]
    },
    {
     "name": "stderr",
     "output_type": "stream",
     "text": [
      " 97%|█████████▋| 28/29 [00:24<00:00,  2.16it/s]"
     ]
    },
    {
     "name": "stdout",
     "output_type": "stream",
     "text": [
      "[LightGBM] [Info] Number of positive: 1390, number of negative: 248\n",
      "[LightGBM] [Info] Auto-choosing row-wise multi-threading, the overhead of testing was 0.009130 seconds.\n",
      "You can set `force_row_wise=true` to remove the overhead.\n",
      "And if memory is not enough, you can set `force_col_wise=true`.\n",
      "[LightGBM] [Info] Total Bins 6135\n",
      "[LightGBM] [Info] Number of data points in the train set: 1638, number of used features: 2045\n",
      "[LightGBM] [Info] [binary:BoostFromScore]: pavg=0.848596 -> initscore=1.723630\n",
      "[LightGBM] [Info] Start training from score 1.723630\n"
     ]
    },
    {
     "name": "stderr",
     "output_type": "stream",
     "text": [
      "100%|██████████| 29/29 [00:25<00:00,  1.14it/s]\n"
     ]
    },
    {
     "name": "stdout",
     "output_type": "stream",
     "text": [
      "Trial 6 completed. Results saved to ~/datasets/lazypredict/rdk5/rdk5_results_trial_6.csv.\n",
      "Running LazyClassifier Trial 7...\n"
     ]
    },
    {
     "name": "stderr",
     "output_type": "stream",
     "text": [
      " 97%|█████████▋| 28/29 [00:23<00:00,  2.20it/s]"
     ]
    },
    {
     "name": "stdout",
     "output_type": "stream",
     "text": [
      "[LightGBM] [Info] Number of positive: 1390, number of negative: 248\n",
      "[LightGBM] [Info] Auto-choosing row-wise multi-threading, the overhead of testing was 0.009309 seconds.\n",
      "You can set `force_row_wise=true` to remove the overhead.\n",
      "And if memory is not enough, you can set `force_col_wise=true`.\n",
      "[LightGBM] [Info] Total Bins 6135\n",
      "[LightGBM] [Info] Number of data points in the train set: 1638, number of used features: 2045\n",
      "[LightGBM] [Info] [binary:BoostFromScore]: pavg=0.848596 -> initscore=1.723630\n",
      "[LightGBM] [Info] Start training from score 1.723630\n"
     ]
    },
    {
     "name": "stderr",
     "output_type": "stream",
     "text": [
      "100%|██████████| 29/29 [00:24<00:00,  1.16it/s]\n"
     ]
    },
    {
     "name": "stdout",
     "output_type": "stream",
     "text": [
      "Trial 7 completed. Results saved to ~/datasets/lazypredict/rdk5/rdk5_results_trial_7.csv.\n",
      "Running LazyClassifier Trial 8...\n"
     ]
    },
    {
     "name": "stderr",
     "output_type": "stream",
     "text": [
      " 97%|█████████▋| 28/29 [00:23<00:00,  2.20it/s]"
     ]
    },
    {
     "name": "stdout",
     "output_type": "stream",
     "text": [
      "[LightGBM] [Info] Number of positive: 1390, number of negative: 248\n",
      "[LightGBM] [Info] Auto-choosing row-wise multi-threading, the overhead of testing was 0.009130 seconds.\n",
      "You can set `force_row_wise=true` to remove the overhead.\n",
      "And if memory is not enough, you can set `force_col_wise=true`.\n",
      "[LightGBM] [Info] Total Bins 6135\n",
      "[LightGBM] [Info] Number of data points in the train set: 1638, number of used features: 2045\n",
      "[LightGBM] [Info] [binary:BoostFromScore]: pavg=0.848596 -> initscore=1.723630\n",
      "[LightGBM] [Info] Start training from score 1.723630\n"
     ]
    },
    {
     "name": "stderr",
     "output_type": "stream",
     "text": [
      "100%|██████████| 29/29 [00:24<00:00,  1.16it/s]\n"
     ]
    },
    {
     "name": "stdout",
     "output_type": "stream",
     "text": [
      "Trial 8 completed. Results saved to ~/datasets/lazypredict/rdk5/rdk5_results_trial_8.csv.\n",
      "Running LazyClassifier Trial 9...\n"
     ]
    },
    {
     "name": "stderr",
     "output_type": "stream",
     "text": [
      " 97%|█████████▋| 28/29 [00:23<00:00,  2.19it/s]"
     ]
    },
    {
     "name": "stdout",
     "output_type": "stream",
     "text": [
      "[LightGBM] [Info] Number of positive: 1390, number of negative: 248\n",
      "[LightGBM] [Info] Auto-choosing row-wise multi-threading, the overhead of testing was 0.008844 seconds.\n",
      "You can set `force_row_wise=true` to remove the overhead.\n",
      "And if memory is not enough, you can set `force_col_wise=true`.\n",
      "[LightGBM] [Info] Total Bins 6135\n",
      "[LightGBM] [Info] Number of data points in the train set: 1638, number of used features: 2045\n",
      "[LightGBM] [Info] [binary:BoostFromScore]: pavg=0.848596 -> initscore=1.723630\n",
      "[LightGBM] [Info] Start training from score 1.723630\n"
     ]
    },
    {
     "name": "stderr",
     "output_type": "stream",
     "text": [
      "100%|██████████| 29/29 [00:24<00:00,  1.17it/s]\n"
     ]
    },
    {
     "name": "stdout",
     "output_type": "stream",
     "text": [
      "Trial 9 completed. Results saved to ~/datasets/lazypredict/rdk5/rdk5_results_trial_9.csv.\n",
      "Running LazyClassifier Trial 10...\n"
     ]
    },
    {
     "name": "stderr",
     "output_type": "stream",
     "text": [
      " 97%|█████████▋| 28/29 [00:24<00:00,  2.17it/s]"
     ]
    },
    {
     "name": "stdout",
     "output_type": "stream",
     "text": [
      "[LightGBM] [Info] Number of positive: 1390, number of negative: 248\n",
      "[LightGBM] [Info] Auto-choosing row-wise multi-threading, the overhead of testing was 0.009086 seconds.\n",
      "You can set `force_row_wise=true` to remove the overhead.\n",
      "And if memory is not enough, you can set `force_col_wise=true`.\n",
      "[LightGBM] [Info] Total Bins 6135\n",
      "[LightGBM] [Info] Number of data points in the train set: 1638, number of used features: 2045\n",
      "[LightGBM] [Info] [binary:BoostFromScore]: pavg=0.848596 -> initscore=1.723630\n",
      "[LightGBM] [Info] Start training from score 1.723630\n"
     ]
    },
    {
     "name": "stderr",
     "output_type": "stream",
     "text": [
      "100%|██████████| 29/29 [00:24<00:00,  1.16it/s]\n"
     ]
    },
    {
     "name": "stdout",
     "output_type": "stream",
     "text": [
      "Trial 10 completed. Results saved to ~/datasets/lazypredict/rdk5/rdk5_results_trial_10.csv.\n",
      "Running LazyClassifier Trial 11...\n"
     ]
    },
    {
     "name": "stderr",
     "output_type": "stream",
     "text": [
      " 97%|█████████▋| 28/29 [00:28<00:00,  1.62it/s]"
     ]
    },
    {
     "name": "stdout",
     "output_type": "stream",
     "text": [
      "[LightGBM] [Info] Number of positive: 1390, number of negative: 248\n",
      "[LightGBM] [Info] Auto-choosing col-wise multi-threading, the overhead of testing was 0.023274 seconds.\n",
      "You can set `force_col_wise=true` to remove the overhead.\n",
      "[LightGBM] [Info] Total Bins 6135\n",
      "[LightGBM] [Info] Number of data points in the train set: 1638, number of used features: 2045\n",
      "[LightGBM] [Info] [binary:BoostFromScore]: pavg=0.848596 -> initscore=1.723630\n",
      "[LightGBM] [Info] Start training from score 1.723630\n"
     ]
    },
    {
     "name": "stderr",
     "output_type": "stream",
     "text": [
      "100%|██████████| 29/29 [00:30<00:00,  1.04s/it]\n"
     ]
    },
    {
     "name": "stdout",
     "output_type": "stream",
     "text": [
      "Trial 11 completed. Results saved to ~/datasets/lazypredict/rdk5/rdk5_results_trial_11.csv.\n",
      "Running LazyClassifier Trial 12...\n"
     ]
    },
    {
     "name": "stderr",
     "output_type": "stream",
     "text": [
      " 97%|█████████▋| 28/29 [00:28<00:00,  1.52it/s]"
     ]
    },
    {
     "name": "stdout",
     "output_type": "stream",
     "text": [
      "[LightGBM] [Info] Number of positive: 1390, number of negative: 248\n",
      "[LightGBM] [Info] Auto-choosing row-wise multi-threading, the overhead of testing was 0.011911 seconds.\n",
      "You can set `force_row_wise=true` to remove the overhead.\n",
      "And if memory is not enough, you can set `force_col_wise=true`.\n",
      "[LightGBM] [Info] Total Bins 6135\n",
      "[LightGBM] [Info] Number of data points in the train set: 1638, number of used features: 2045\n",
      "[LightGBM] [Info] [binary:BoostFromScore]: pavg=0.848596 -> initscore=1.723630\n",
      "[LightGBM] [Info] Start training from score 1.723630\n"
     ]
    },
    {
     "name": "stderr",
     "output_type": "stream",
     "text": [
      "100%|██████████| 29/29 [00:29<00:00,  1.02s/it]\n"
     ]
    },
    {
     "name": "stdout",
     "output_type": "stream",
     "text": [
      "Trial 12 completed. Results saved to ~/datasets/lazypredict/rdk5/rdk5_results_trial_12.csv.\n",
      "Running LazyClassifier Trial 13...\n"
     ]
    },
    {
     "name": "stderr",
     "output_type": "stream",
     "text": [
      " 97%|█████████▋| 28/29 [00:26<00:00,  1.91it/s]"
     ]
    },
    {
     "name": "stdout",
     "output_type": "stream",
     "text": [
      "[LightGBM] [Info] Number of positive: 1390, number of negative: 248\n",
      "[LightGBM] [Info] Auto-choosing row-wise multi-threading, the overhead of testing was 0.010861 seconds.\n",
      "You can set `force_row_wise=true` to remove the overhead.\n",
      "And if memory is not enough, you can set `force_col_wise=true`.\n",
      "[LightGBM] [Info] Total Bins 6135\n",
      "[LightGBM] [Info] Number of data points in the train set: 1638, number of used features: 2045\n",
      "[LightGBM] [Info] [binary:BoostFromScore]: pavg=0.848596 -> initscore=1.723630\n",
      "[LightGBM] [Info] Start training from score 1.723630\n"
     ]
    },
    {
     "name": "stderr",
     "output_type": "stream",
     "text": [
      "100%|██████████| 29/29 [00:27<00:00,  1.05it/s]\n"
     ]
    },
    {
     "name": "stdout",
     "output_type": "stream",
     "text": [
      "Trial 13 completed. Results saved to ~/datasets/lazypredict/rdk5/rdk5_results_trial_13.csv.\n",
      "Running LazyClassifier Trial 14...\n"
     ]
    },
    {
     "name": "stderr",
     "output_type": "stream",
     "text": [
      " 97%|█████████▋| 28/29 [00:27<00:00,  1.62it/s]"
     ]
    },
    {
     "name": "stdout",
     "output_type": "stream",
     "text": [
      "[LightGBM] [Info] Number of positive: 1390, number of negative: 248\n",
      "[LightGBM] [Info] Auto-choosing row-wise multi-threading, the overhead of testing was 0.011912 seconds.\n",
      "You can set `force_row_wise=true` to remove the overhead.\n",
      "And if memory is not enough, you can set `force_col_wise=true`.\n",
      "[LightGBM] [Info] Total Bins 6135\n",
      "[LightGBM] [Info] Number of data points in the train set: 1638, number of used features: 2045\n",
      "[LightGBM] [Info] [binary:BoostFromScore]: pavg=0.848596 -> initscore=1.723630\n",
      "[LightGBM] [Info] Start training from score 1.723630\n"
     ]
    },
    {
     "name": "stderr",
     "output_type": "stream",
     "text": [
      "100%|██████████| 29/29 [00:29<00:00,  1.01s/it]\n"
     ]
    },
    {
     "name": "stdout",
     "output_type": "stream",
     "text": [
      "Trial 14 completed. Results saved to ~/datasets/lazypredict/rdk5/rdk5_results_trial_14.csv.\n",
      "Running LazyClassifier Trial 15...\n"
     ]
    },
    {
     "name": "stderr",
     "output_type": "stream",
     "text": [
      " 97%|█████████▋| 28/29 [00:24<00:00,  2.25it/s]"
     ]
    },
    {
     "name": "stdout",
     "output_type": "stream",
     "text": [
      "[LightGBM] [Info] Number of positive: 1390, number of negative: 248\n",
      "[LightGBM] [Info] Auto-choosing row-wise multi-threading, the overhead of testing was 0.009204 seconds.\n",
      "You can set `force_row_wise=true` to remove the overhead.\n",
      "And if memory is not enough, you can set `force_col_wise=true`.\n",
      "[LightGBM] [Info] Total Bins 6135\n",
      "[LightGBM] [Info] Number of data points in the train set: 1638, number of used features: 2045\n",
      "[LightGBM] [Info] [binary:BoostFromScore]: pavg=0.848596 -> initscore=1.723630\n",
      "[LightGBM] [Info] Start training from score 1.723630\n"
     ]
    },
    {
     "name": "stderr",
     "output_type": "stream",
     "text": [
      "100%|██████████| 29/29 [00:25<00:00,  1.15it/s]\n"
     ]
    },
    {
     "name": "stdout",
     "output_type": "stream",
     "text": [
      "Trial 15 completed. Results saved to ~/datasets/lazypredict/rdk5/rdk5_results_trial_15.csv.\n",
      "Running LazyClassifier Trial 16...\n"
     ]
    },
    {
     "name": "stderr",
     "output_type": "stream",
     "text": [
      " 97%|█████████▋| 28/29 [00:23<00:00,  2.28it/s]"
     ]
    },
    {
     "name": "stdout",
     "output_type": "stream",
     "text": [
      "[LightGBM] [Info] Number of positive: 1390, number of negative: 248\n",
      "[LightGBM] [Info] Auto-choosing row-wise multi-threading, the overhead of testing was 0.009105 seconds.\n",
      "You can set `force_row_wise=true` to remove the overhead.\n",
      "And if memory is not enough, you can set `force_col_wise=true`.\n",
      "[LightGBM] [Info] Total Bins 6135\n",
      "[LightGBM] [Info] Number of data points in the train set: 1638, number of used features: 2045\n",
      "[LightGBM] [Info] [binary:BoostFromScore]: pavg=0.848596 -> initscore=1.723630\n",
      "[LightGBM] [Info] Start training from score 1.723630\n"
     ]
    },
    {
     "name": "stderr",
     "output_type": "stream",
     "text": [
      "100%|██████████| 29/29 [00:24<00:00,  1.18it/s]\n"
     ]
    },
    {
     "name": "stdout",
     "output_type": "stream",
     "text": [
      "Trial 16 completed. Results saved to ~/datasets/lazypredict/rdk5/rdk5_results_trial_16.csv.\n",
      "Running LazyClassifier Trial 17...\n"
     ]
    },
    {
     "name": "stderr",
     "output_type": "stream",
     "text": [
      " 97%|█████████▋| 28/29 [00:24<00:00,  2.17it/s]"
     ]
    },
    {
     "name": "stdout",
     "output_type": "stream",
     "text": [
      "[LightGBM] [Info] Number of positive: 1390, number of negative: 248\n",
      "[LightGBM] [Info] Auto-choosing row-wise multi-threading, the overhead of testing was 0.009211 seconds.\n",
      "You can set `force_row_wise=true` to remove the overhead.\n",
      "And if memory is not enough, you can set `force_col_wise=true`.\n",
      "[LightGBM] [Info] Total Bins 6135\n",
      "[LightGBM] [Info] Number of data points in the train set: 1638, number of used features: 2045\n",
      "[LightGBM] [Info] [binary:BoostFromScore]: pavg=0.848596 -> initscore=1.723630\n",
      "[LightGBM] [Info] Start training from score 1.723630\n"
     ]
    },
    {
     "name": "stderr",
     "output_type": "stream",
     "text": [
      "100%|██████████| 29/29 [00:25<00:00,  1.15it/s]\n"
     ]
    },
    {
     "name": "stdout",
     "output_type": "stream",
     "text": [
      "Trial 17 completed. Results saved to ~/datasets/lazypredict/rdk5/rdk5_results_trial_17.csv.\n",
      "Running LazyClassifier Trial 18...\n"
     ]
    },
    {
     "name": "stderr",
     "output_type": "stream",
     "text": [
      " 97%|█████████▋| 28/29 [00:23<00:00,  2.20it/s]"
     ]
    },
    {
     "name": "stdout",
     "output_type": "stream",
     "text": [
      "[LightGBM] [Info] Number of positive: 1390, number of negative: 248\n",
      "[LightGBM] [Info] Auto-choosing col-wise multi-threading, the overhead of testing was 0.023122 seconds.\n",
      "You can set `force_col_wise=true` to remove the overhead.\n",
      "[LightGBM] [Info] Total Bins 6135\n",
      "[LightGBM] [Info] Number of data points in the train set: 1638, number of used features: 2045\n",
      "[LightGBM] [Info] [binary:BoostFromScore]: pavg=0.848596 -> initscore=1.723630\n",
      "[LightGBM] [Info] Start training from score 1.723630\n"
     ]
    },
    {
     "name": "stderr",
     "output_type": "stream",
     "text": [
      "100%|██████████| 29/29 [00:24<00:00,  1.16it/s]\n"
     ]
    },
    {
     "name": "stdout",
     "output_type": "stream",
     "text": [
      "Trial 18 completed. Results saved to ~/datasets/lazypredict/rdk5/rdk5_results_trial_18.csv.\n",
      "Running LazyClassifier Trial 19...\n"
     ]
    },
    {
     "name": "stderr",
     "output_type": "stream",
     "text": [
      " 97%|█████████▋| 28/29 [00:23<00:00,  2.18it/s]"
     ]
    },
    {
     "name": "stdout",
     "output_type": "stream",
     "text": [
      "[LightGBM] [Info] Number of positive: 1390, number of negative: 248\n",
      "[LightGBM] [Info] Auto-choosing row-wise multi-threading, the overhead of testing was 0.009118 seconds.\n",
      "You can set `force_row_wise=true` to remove the overhead.\n",
      "And if memory is not enough, you can set `force_col_wise=true`.\n",
      "[LightGBM] [Info] Total Bins 6135\n",
      "[LightGBM] [Info] Number of data points in the train set: 1638, number of used features: 2045\n",
      "[LightGBM] [Info] [binary:BoostFromScore]: pavg=0.848596 -> initscore=1.723630\n",
      "[LightGBM] [Info] Start training from score 1.723630\n"
     ]
    },
    {
     "name": "stderr",
     "output_type": "stream",
     "text": [
      "100%|██████████| 29/29 [00:24<00:00,  1.17it/s]\n"
     ]
    },
    {
     "name": "stdout",
     "output_type": "stream",
     "text": [
      "Trial 19 completed. Results saved to ~/datasets/lazypredict/rdk5/rdk5_results_trial_19.csv.\n",
      "Running LazyClassifier Trial 20...\n"
     ]
    },
    {
     "name": "stderr",
     "output_type": "stream",
     "text": [
      " 97%|█████████▋| 28/29 [00:23<00:00,  2.16it/s]"
     ]
    },
    {
     "name": "stdout",
     "output_type": "stream",
     "text": [
      "[LightGBM] [Info] Number of positive: 1390, number of negative: 248\n",
      "[LightGBM] [Info] Auto-choosing row-wise multi-threading, the overhead of testing was 0.009471 seconds.\n",
      "You can set `force_row_wise=true` to remove the overhead.\n",
      "And if memory is not enough, you can set `force_col_wise=true`.\n",
      "[LightGBM] [Info] Total Bins 6135\n",
      "[LightGBM] [Info] Number of data points in the train set: 1638, number of used features: 2045\n",
      "[LightGBM] [Info] [binary:BoostFromScore]: pavg=0.848596 -> initscore=1.723630\n",
      "[LightGBM] [Info] Start training from score 1.723630\n"
     ]
    },
    {
     "name": "stderr",
     "output_type": "stream",
     "text": [
      "100%|██████████| 29/29 [00:24<00:00,  1.17it/s]\n"
     ]
    },
    {
     "name": "stdout",
     "output_type": "stream",
     "text": [
      "Trial 20 completed. Results saved to ~/datasets/lazypredict/rdk5/rdk5_results_trial_20.csv.\n",
      "Running LazyClassifier Trial 21...\n"
     ]
    },
    {
     "name": "stderr",
     "output_type": "stream",
     "text": [
      " 97%|█████████▋| 28/29 [00:23<00:00,  2.18it/s]"
     ]
    },
    {
     "name": "stdout",
     "output_type": "stream",
     "text": [
      "[LightGBM] [Info] Number of positive: 1390, number of negative: 248\n",
      "[LightGBM] [Info] Auto-choosing row-wise multi-threading, the overhead of testing was 0.009055 seconds.\n",
      "You can set `force_row_wise=true` to remove the overhead.\n",
      "And if memory is not enough, you can set `force_col_wise=true`.\n",
      "[LightGBM] [Info] Total Bins 6135\n",
      "[LightGBM] [Info] Number of data points in the train set: 1638, number of used features: 2045\n",
      "[LightGBM] [Info] [binary:BoostFromScore]: pavg=0.848596 -> initscore=1.723630\n",
      "[LightGBM] [Info] Start training from score 1.723630\n"
     ]
    },
    {
     "name": "stderr",
     "output_type": "stream",
     "text": [
      "100%|██████████| 29/29 [00:24<00:00,  1.16it/s]\n"
     ]
    },
    {
     "name": "stdout",
     "output_type": "stream",
     "text": [
      "Trial 21 completed. Results saved to ~/datasets/lazypredict/rdk5/rdk5_results_trial_21.csv.\n",
      "Running LazyClassifier Trial 22...\n"
     ]
    },
    {
     "name": "stderr",
     "output_type": "stream",
     "text": [
      " 97%|█████████▋| 28/29 [00:24<00:00,  2.20it/s]"
     ]
    },
    {
     "name": "stdout",
     "output_type": "stream",
     "text": [
      "[LightGBM] [Info] Number of positive: 1390, number of negative: 248\n",
      "[LightGBM] [Info] Auto-choosing row-wise multi-threading, the overhead of testing was 0.009128 seconds.\n",
      "You can set `force_row_wise=true` to remove the overhead.\n",
      "And if memory is not enough, you can set `force_col_wise=true`.\n",
      "[LightGBM] [Info] Total Bins 6135\n",
      "[LightGBM] [Info] Number of data points in the train set: 1638, number of used features: 2045\n",
      "[LightGBM] [Info] [binary:BoostFromScore]: pavg=0.848596 -> initscore=1.723630\n",
      "[LightGBM] [Info] Start training from score 1.723630\n"
     ]
    },
    {
     "name": "stderr",
     "output_type": "stream",
     "text": [
      "100%|██████████| 29/29 [00:25<00:00,  1.15it/s]\n"
     ]
    },
    {
     "name": "stdout",
     "output_type": "stream",
     "text": [
      "Trial 22 completed. Results saved to ~/datasets/lazypredict/rdk5/rdk5_results_trial_22.csv.\n",
      "Running LazyClassifier Trial 23...\n"
     ]
    },
    {
     "name": "stderr",
     "output_type": "stream",
     "text": [
      " 97%|█████████▋| 28/29 [00:24<00:00,  2.09it/s]"
     ]
    },
    {
     "name": "stdout",
     "output_type": "stream",
     "text": [
      "[LightGBM] [Info] Number of positive: 1390, number of negative: 248\n",
      "[LightGBM] [Info] Auto-choosing row-wise multi-threading, the overhead of testing was 0.009421 seconds.\n",
      "You can set `force_row_wise=true` to remove the overhead.\n",
      "And if memory is not enough, you can set `force_col_wise=true`.\n",
      "[LightGBM] [Info] Total Bins 6135\n",
      "[LightGBM] [Info] Number of data points in the train set: 1638, number of used features: 2045\n",
      "[LightGBM] [Info] [binary:BoostFromScore]: pavg=0.848596 -> initscore=1.723630\n",
      "[LightGBM] [Info] Start training from score 1.723630\n"
     ]
    },
    {
     "name": "stderr",
     "output_type": "stream",
     "text": [
      "100%|██████████| 29/29 [00:25<00:00,  1.14it/s]\n"
     ]
    },
    {
     "name": "stdout",
     "output_type": "stream",
     "text": [
      "Trial 23 completed. Results saved to ~/datasets/lazypredict/rdk5/rdk5_results_trial_23.csv.\n",
      "Running LazyClassifier Trial 24...\n"
     ]
    },
    {
     "name": "stderr",
     "output_type": "stream",
     "text": [
      " 97%|█████████▋| 28/29 [00:24<00:00,  2.13it/s]"
     ]
    },
    {
     "name": "stdout",
     "output_type": "stream",
     "text": [
      "[LightGBM] [Info] Number of positive: 1390, number of negative: 248\n",
      "[LightGBM] [Info] Auto-choosing row-wise multi-threading, the overhead of testing was 0.009660 seconds.\n",
      "You can set `force_row_wise=true` to remove the overhead.\n",
      "And if memory is not enough, you can set `force_col_wise=true`.\n",
      "[LightGBM] [Info] Total Bins 6135\n",
      "[LightGBM] [Info] Number of data points in the train set: 1638, number of used features: 2045\n",
      "[LightGBM] [Info] [binary:BoostFromScore]: pavg=0.848596 -> initscore=1.723630\n",
      "[LightGBM] [Info] Start training from score 1.723630\n"
     ]
    },
    {
     "name": "stderr",
     "output_type": "stream",
     "text": [
      "100%|██████████| 29/29 [00:25<00:00,  1.13it/s]\n"
     ]
    },
    {
     "name": "stdout",
     "output_type": "stream",
     "text": [
      "Trial 24 completed. Results saved to ~/datasets/lazypredict/rdk5/rdk5_results_trial_24.csv.\n",
      "Running LazyClassifier Trial 25...\n"
     ]
    },
    {
     "name": "stderr",
     "output_type": "stream",
     "text": [
      " 97%|█████████▋| 28/29 [00:24<00:00,  2.09it/s]"
     ]
    },
    {
     "name": "stdout",
     "output_type": "stream",
     "text": [
      "[LightGBM] [Info] Number of positive: 1390, number of negative: 248\n",
      "[LightGBM] [Info] Auto-choosing row-wise multi-threading, the overhead of testing was 0.009391 seconds.\n",
      "You can set `force_row_wise=true` to remove the overhead.\n",
      "And if memory is not enough, you can set `force_col_wise=true`.\n",
      "[LightGBM] [Info] Total Bins 6135\n",
      "[LightGBM] [Info] Number of data points in the train set: 1638, number of used features: 2045\n",
      "[LightGBM] [Info] [binary:BoostFromScore]: pavg=0.848596 -> initscore=1.723630\n",
      "[LightGBM] [Info] Start training from score 1.723630\n"
     ]
    },
    {
     "name": "stderr",
     "output_type": "stream",
     "text": [
      "100%|██████████| 29/29 [00:25<00:00,  1.13it/s]\n"
     ]
    },
    {
     "name": "stdout",
     "output_type": "stream",
     "text": [
      "Trial 25 completed. Results saved to ~/datasets/lazypredict/rdk5/rdk5_results_trial_25.csv.\n",
      "Running LazyClassifier Trial 26...\n"
     ]
    },
    {
     "name": "stderr",
     "output_type": "stream",
     "text": [
      " 97%|█████████▋| 28/29 [00:24<00:00,  2.15it/s]"
     ]
    },
    {
     "name": "stdout",
     "output_type": "stream",
     "text": [
      "[LightGBM] [Info] Number of positive: 1390, number of negative: 248\n",
      "[LightGBM] [Info] Auto-choosing row-wise multi-threading, the overhead of testing was 0.009137 seconds.\n",
      "You can set `force_row_wise=true` to remove the overhead.\n",
      "And if memory is not enough, you can set `force_col_wise=true`.\n",
      "[LightGBM] [Info] Total Bins 6135\n",
      "[LightGBM] [Info] Number of data points in the train set: 1638, number of used features: 2045\n",
      "[LightGBM] [Info] [binary:BoostFromScore]: pavg=0.848596 -> initscore=1.723630\n",
      "[LightGBM] [Info] Start training from score 1.723630\n"
     ]
    },
    {
     "name": "stderr",
     "output_type": "stream",
     "text": [
      "100%|██████████| 29/29 [00:25<00:00,  1.14it/s]\n"
     ]
    },
    {
     "name": "stdout",
     "output_type": "stream",
     "text": [
      "Trial 26 completed. Results saved to ~/datasets/lazypredict/rdk5/rdk5_results_trial_26.csv.\n",
      "Running LazyClassifier Trial 27...\n"
     ]
    },
    {
     "name": "stderr",
     "output_type": "stream",
     "text": [
      " 97%|█████████▋| 28/29 [00:24<00:00,  2.21it/s]"
     ]
    },
    {
     "name": "stdout",
     "output_type": "stream",
     "text": [
      "[LightGBM] [Info] Number of positive: 1390, number of negative: 248\n",
      "[LightGBM] [Info] Auto-choosing row-wise multi-threading, the overhead of testing was 0.009151 seconds.\n",
      "You can set `force_row_wise=true` to remove the overhead.\n",
      "And if memory is not enough, you can set `force_col_wise=true`.\n",
      "[LightGBM] [Info] Total Bins 6135\n",
      "[LightGBM] [Info] Number of data points in the train set: 1638, number of used features: 2045\n",
      "[LightGBM] [Info] [binary:BoostFromScore]: pavg=0.848596 -> initscore=1.723630\n",
      "[LightGBM] [Info] Start training from score 1.723630\n"
     ]
    },
    {
     "name": "stderr",
     "output_type": "stream",
     "text": [
      "100%|██████████| 29/29 [00:25<00:00,  1.14it/s]\n"
     ]
    },
    {
     "name": "stdout",
     "output_type": "stream",
     "text": [
      "Trial 27 completed. Results saved to ~/datasets/lazypredict/rdk5/rdk5_results_trial_27.csv.\n",
      "Running LazyClassifier Trial 28...\n"
     ]
    },
    {
     "name": "stderr",
     "output_type": "stream",
     "text": [
      " 97%|█████████▋| 28/29 [00:24<00:00,  2.08it/s]"
     ]
    },
    {
     "name": "stdout",
     "output_type": "stream",
     "text": [
      "[LightGBM] [Info] Number of positive: 1390, number of negative: 248\n",
      "[LightGBM] [Info] Auto-choosing row-wise multi-threading, the overhead of testing was 0.009231 seconds.\n",
      "You can set `force_row_wise=true` to remove the overhead.\n",
      "And if memory is not enough, you can set `force_col_wise=true`.\n",
      "[LightGBM] [Info] Total Bins 6135\n",
      "[LightGBM] [Info] Number of data points in the train set: 1638, number of used features: 2045\n",
      "[LightGBM] [Info] [binary:BoostFromScore]: pavg=0.848596 -> initscore=1.723630\n",
      "[LightGBM] [Info] Start training from score 1.723630\n"
     ]
    },
    {
     "name": "stderr",
     "output_type": "stream",
     "text": [
      "100%|██████████| 29/29 [00:25<00:00,  1.15it/s]\n"
     ]
    },
    {
     "name": "stdout",
     "output_type": "stream",
     "text": [
      "Trial 28 completed. Results saved to ~/datasets/lazypredict/rdk5/rdk5_results_trial_28.csv.\n",
      "Running LazyClassifier Trial 29...\n"
     ]
    },
    {
     "name": "stderr",
     "output_type": "stream",
     "text": [
      " 97%|█████████▋| 28/29 [00:23<00:00,  2.20it/s]"
     ]
    },
    {
     "name": "stdout",
     "output_type": "stream",
     "text": [
      "[LightGBM] [Info] Number of positive: 1390, number of negative: 248\n",
      "[LightGBM] [Info] Auto-choosing row-wise multi-threading, the overhead of testing was 0.009015 seconds.\n",
      "You can set `force_row_wise=true` to remove the overhead.\n",
      "And if memory is not enough, you can set `force_col_wise=true`.\n",
      "[LightGBM] [Info] Total Bins 6135\n",
      "[LightGBM] [Info] Number of data points in the train set: 1638, number of used features: 2045\n",
      "[LightGBM] [Info] [binary:BoostFromScore]: pavg=0.848596 -> initscore=1.723630\n",
      "[LightGBM] [Info] Start training from score 1.723630\n"
     ]
    },
    {
     "name": "stderr",
     "output_type": "stream",
     "text": [
      "100%|██████████| 29/29 [00:24<00:00,  1.16it/s]\n"
     ]
    },
    {
     "name": "stdout",
     "output_type": "stream",
     "text": [
      "Trial 29 completed. Results saved to ~/datasets/lazypredict/rdk5/rdk5_results_trial_29.csv.\n",
      "Running LazyClassifier Trial 30...\n"
     ]
    },
    {
     "name": "stderr",
     "output_type": "stream",
     "text": [
      " 97%|█████████▋| 28/29 [00:24<00:00,  2.17it/s]"
     ]
    },
    {
     "name": "stdout",
     "output_type": "stream",
     "text": [
      "[LightGBM] [Info] Number of positive: 1390, number of negative: 248\n",
      "[LightGBM] [Info] Auto-choosing row-wise multi-threading, the overhead of testing was 0.009467 seconds.\n",
      "You can set `force_row_wise=true` to remove the overhead.\n",
      "And if memory is not enough, you can set `force_col_wise=true`.\n",
      "[LightGBM] [Info] Total Bins 6135\n",
      "[LightGBM] [Info] Number of data points in the train set: 1638, number of used features: 2045\n",
      "[LightGBM] [Info] [binary:BoostFromScore]: pavg=0.848596 -> initscore=1.723630\n",
      "[LightGBM] [Info] Start training from score 1.723630\n"
     ]
    },
    {
     "name": "stderr",
     "output_type": "stream",
     "text": [
      "100%|██████████| 29/29 [00:25<00:00,  1.15it/s]\n"
     ]
    },
    {
     "name": "stdout",
     "output_type": "stream",
     "text": [
      "Trial 30 completed. Results saved to ~/datasets/lazypredict/rdk5/rdk5_results_trial_30.csv.\n",
      "Running LazyClassifier Trial 31...\n"
     ]
    },
    {
     "name": "stderr",
     "output_type": "stream",
     "text": [
      " 97%|█████████▋| 28/29 [00:24<00:00,  2.18it/s]"
     ]
    },
    {
     "name": "stdout",
     "output_type": "stream",
     "text": [
      "[LightGBM] [Info] Number of positive: 1390, number of negative: 248\n",
      "[LightGBM] [Info] Auto-choosing row-wise multi-threading, the overhead of testing was 0.009194 seconds.\n",
      "You can set `force_row_wise=true` to remove the overhead.\n",
      "And if memory is not enough, you can set `force_col_wise=true`.\n",
      "[LightGBM] [Info] Total Bins 6135\n",
      "[LightGBM] [Info] Number of data points in the train set: 1638, number of used features: 2045\n",
      "[LightGBM] [Info] [binary:BoostFromScore]: pavg=0.848596 -> initscore=1.723630\n",
      "[LightGBM] [Info] Start training from score 1.723630\n"
     ]
    },
    {
     "name": "stderr",
     "output_type": "stream",
     "text": [
      "100%|██████████| 29/29 [00:25<00:00,  1.15it/s]\n"
     ]
    },
    {
     "name": "stdout",
     "output_type": "stream",
     "text": [
      "Trial 31 completed. Results saved to ~/datasets/lazypredict/rdk5/rdk5_results_trial_31.csv.\n",
      "Running LazyClassifier Trial 32...\n"
     ]
    },
    {
     "name": "stderr",
     "output_type": "stream",
     "text": [
      " 97%|█████████▋| 28/29 [00:24<00:00,  2.12it/s]"
     ]
    },
    {
     "name": "stdout",
     "output_type": "stream",
     "text": [
      "[LightGBM] [Info] Number of positive: 1390, number of negative: 248\n",
      "[LightGBM] [Info] Auto-choosing row-wise multi-threading, the overhead of testing was 0.009127 seconds.\n",
      "You can set `force_row_wise=true` to remove the overhead.\n",
      "And if memory is not enough, you can set `force_col_wise=true`.\n",
      "[LightGBM] [Info] Total Bins 6135\n",
      "[LightGBM] [Info] Number of data points in the train set: 1638, number of used features: 2045\n",
      "[LightGBM] [Info] [binary:BoostFromScore]: pavg=0.848596 -> initscore=1.723630\n",
      "[LightGBM] [Info] Start training from score 1.723630\n"
     ]
    },
    {
     "name": "stderr",
     "output_type": "stream",
     "text": [
      "100%|██████████| 29/29 [00:25<00:00,  1.15it/s]\n"
     ]
    },
    {
     "name": "stdout",
     "output_type": "stream",
     "text": [
      "Trial 32 completed. Results saved to ~/datasets/lazypredict/rdk5/rdk5_results_trial_32.csv.\n",
      "Running LazyClassifier Trial 33...\n"
     ]
    },
    {
     "name": "stderr",
     "output_type": "stream",
     "text": [
      " 97%|█████████▋| 28/29 [00:24<00:00,  2.12it/s]"
     ]
    },
    {
     "name": "stdout",
     "output_type": "stream",
     "text": [
      "[LightGBM] [Info] Number of positive: 1390, number of negative: 248\n",
      "[LightGBM] [Info] Auto-choosing row-wise multi-threading, the overhead of testing was 0.011492 seconds.\n",
      "You can set `force_row_wise=true` to remove the overhead.\n",
      "And if memory is not enough, you can set `force_col_wise=true`.\n",
      "[LightGBM] [Info] Total Bins 6135\n",
      "[LightGBM] [Info] Number of data points in the train set: 1638, number of used features: 2045\n",
      "[LightGBM] [Info] [binary:BoostFromScore]: pavg=0.848596 -> initscore=1.723630\n",
      "[LightGBM] [Info] Start training from score 1.723630\n"
     ]
    },
    {
     "name": "stderr",
     "output_type": "stream",
     "text": [
      "100%|██████████| 29/29 [00:25<00:00,  1.14it/s]\n"
     ]
    },
    {
     "name": "stdout",
     "output_type": "stream",
     "text": [
      "Trial 33 completed. Results saved to ~/datasets/lazypredict/rdk5/rdk5_results_trial_33.csv.\n",
      "Running LazyClassifier Trial 34...\n"
     ]
    },
    {
     "name": "stderr",
     "output_type": "stream",
     "text": [
      " 97%|█████████▋| 28/29 [00:26<00:00,  1.87it/s]"
     ]
    },
    {
     "name": "stdout",
     "output_type": "stream",
     "text": [
      "[LightGBM] [Info] Number of positive: 1390, number of negative: 248\n",
      "[LightGBM] [Info] Auto-choosing row-wise multi-threading, the overhead of testing was 0.011767 seconds.\n",
      "You can set `force_row_wise=true` to remove the overhead.\n",
      "And if memory is not enough, you can set `force_col_wise=true`.\n",
      "[LightGBM] [Info] Total Bins 6135\n",
      "[LightGBM] [Info] Number of data points in the train set: 1638, number of used features: 2045\n",
      "[LightGBM] [Info] [binary:BoostFromScore]: pavg=0.848596 -> initscore=1.723630\n",
      "[LightGBM] [Info] Start training from score 1.723630\n"
     ]
    },
    {
     "name": "stderr",
     "output_type": "stream",
     "text": [
      "100%|██████████| 29/29 [00:27<00:00,  1.06it/s]\n"
     ]
    },
    {
     "name": "stdout",
     "output_type": "stream",
     "text": [
      "Trial 34 completed. Results saved to ~/datasets/lazypredict/rdk5/rdk5_results_trial_34.csv.\n",
      "Running LazyClassifier Trial 35...\n"
     ]
    },
    {
     "name": "stderr",
     "output_type": "stream",
     "text": [
      " 97%|█████████▋| 28/29 [00:26<00:00,  1.73it/s]"
     ]
    },
    {
     "name": "stdout",
     "output_type": "stream",
     "text": [
      "[LightGBM] [Info] Number of positive: 1390, number of negative: 248\n",
      "[LightGBM] [Info] Auto-choosing row-wise multi-threading, the overhead of testing was 0.011863 seconds.\n",
      "You can set `force_row_wise=true` to remove the overhead.\n",
      "And if memory is not enough, you can set `force_col_wise=true`.\n",
      "[LightGBM] [Info] Total Bins 6135\n",
      "[LightGBM] [Info] Number of data points in the train set: 1638, number of used features: 2045\n",
      "[LightGBM] [Info] [binary:BoostFromScore]: pavg=0.848596 -> initscore=1.723630\n",
      "[LightGBM] [Info] Start training from score 1.723630\n"
     ]
    },
    {
     "name": "stderr",
     "output_type": "stream",
     "text": [
      "100%|██████████| 29/29 [00:28<00:00,  1.03it/s]\n"
     ]
    },
    {
     "name": "stdout",
     "output_type": "stream",
     "text": [
      "Trial 35 completed. Results saved to ~/datasets/lazypredict/rdk5/rdk5_results_trial_35.csv.\n",
      "Running LazyClassifier Trial 36...\n"
     ]
    },
    {
     "name": "stderr",
     "output_type": "stream",
     "text": [
      " 97%|█████████▋| 28/29 [00:28<00:00,  1.75it/s]"
     ]
    },
    {
     "name": "stdout",
     "output_type": "stream",
     "text": [
      "[LightGBM] [Info] Number of positive: 1390, number of negative: 248\n",
      "[LightGBM] [Info] Auto-choosing row-wise multi-threading, the overhead of testing was 0.011902 seconds.\n",
      "You can set `force_row_wise=true` to remove the overhead.\n",
      "And if memory is not enough, you can set `force_col_wise=true`.\n",
      "[LightGBM] [Info] Total Bins 6135\n",
      "[LightGBM] [Info] Number of data points in the train set: 1638, number of used features: 2045\n",
      "[LightGBM] [Info] [binary:BoostFromScore]: pavg=0.848596 -> initscore=1.723630\n",
      "[LightGBM] [Info] Start training from score 1.723630\n"
     ]
    },
    {
     "name": "stderr",
     "output_type": "stream",
     "text": [
      "100%|██████████| 29/29 [00:29<00:00,  1.02s/it]\n"
     ]
    },
    {
     "name": "stdout",
     "output_type": "stream",
     "text": [
      "Trial 36 completed. Results saved to ~/datasets/lazypredict/rdk5/rdk5_results_trial_36.csv.\n",
      "Running LazyClassifier Trial 37...\n"
     ]
    },
    {
     "name": "stderr",
     "output_type": "stream",
     "text": [
      " 97%|█████████▋| 28/29 [00:26<00:00,  1.64it/s]"
     ]
    },
    {
     "name": "stdout",
     "output_type": "stream",
     "text": [
      "[LightGBM] [Info] Number of positive: 1390, number of negative: 248\n",
      "[LightGBM] [Info] Auto-choosing row-wise multi-threading, the overhead of testing was 0.011422 seconds.\n",
      "You can set `force_row_wise=true` to remove the overhead.\n",
      "And if memory is not enough, you can set `force_col_wise=true`.\n",
      "[LightGBM] [Info] Total Bins 6135\n",
      "[LightGBM] [Info] Number of data points in the train set: 1638, number of used features: 2045\n",
      "[LightGBM] [Info] [binary:BoostFromScore]: pavg=0.848596 -> initscore=1.723630\n",
      "[LightGBM] [Info] Start training from score 1.723630\n"
     ]
    },
    {
     "name": "stderr",
     "output_type": "stream",
     "text": [
      "100%|██████████| 29/29 [00:27<00:00,  1.04it/s]\n"
     ]
    },
    {
     "name": "stdout",
     "output_type": "stream",
     "text": [
      "Trial 37 completed. Results saved to ~/datasets/lazypredict/rdk5/rdk5_results_trial_37.csv.\n",
      "Running LazyClassifier Trial 38...\n"
     ]
    },
    {
     "name": "stderr",
     "output_type": "stream",
     "text": [
      " 97%|█████████▋| 28/29 [00:24<00:00,  2.17it/s]"
     ]
    },
    {
     "name": "stdout",
     "output_type": "stream",
     "text": [
      "[LightGBM] [Info] Number of positive: 1390, number of negative: 248\n",
      "[LightGBM] [Info] Auto-choosing row-wise multi-threading, the overhead of testing was 0.009404 seconds.\n",
      "You can set `force_row_wise=true` to remove the overhead.\n",
      "And if memory is not enough, you can set `force_col_wise=true`.\n",
      "[LightGBM] [Info] Total Bins 6135\n",
      "[LightGBM] [Info] Number of data points in the train set: 1638, number of used features: 2045\n",
      "[LightGBM] [Info] [binary:BoostFromScore]: pavg=0.848596 -> initscore=1.723630\n",
      "[LightGBM] [Info] Start training from score 1.723630\n"
     ]
    },
    {
     "name": "stderr",
     "output_type": "stream",
     "text": [
      "100%|██████████| 29/29 [00:25<00:00,  1.13it/s]\n"
     ]
    },
    {
     "name": "stdout",
     "output_type": "stream",
     "text": [
      "Trial 38 completed. Results saved to ~/datasets/lazypredict/rdk5/rdk5_results_trial_38.csv.\n",
      "Running LazyClassifier Trial 39...\n"
     ]
    },
    {
     "name": "stderr",
     "output_type": "stream",
     "text": [
      " 97%|█████████▋| 28/29 [00:24<00:00,  2.11it/s]"
     ]
    },
    {
     "name": "stdout",
     "output_type": "stream",
     "text": [
      "[LightGBM] [Info] Number of positive: 1390, number of negative: 248\n",
      "[LightGBM] [Info] Auto-choosing row-wise multi-threading, the overhead of testing was 0.009380 seconds.\n",
      "You can set `force_row_wise=true` to remove the overhead.\n",
      "And if memory is not enough, you can set `force_col_wise=true`.\n",
      "[LightGBM] [Info] Total Bins 6135\n",
      "[LightGBM] [Info] Number of data points in the train set: 1638, number of used features: 2045\n",
      "[LightGBM] [Info] [binary:BoostFromScore]: pavg=0.848596 -> initscore=1.723630\n",
      "[LightGBM] [Info] Start training from score 1.723630\n"
     ]
    },
    {
     "name": "stderr",
     "output_type": "stream",
     "text": [
      "100%|██████████| 29/29 [00:25<00:00,  1.15it/s]\n"
     ]
    },
    {
     "name": "stdout",
     "output_type": "stream",
     "text": [
      "Trial 39 completed. Results saved to ~/datasets/lazypredict/rdk5/rdk5_results_trial_39.csv.\n",
      "Running LazyClassifier Trial 40...\n"
     ]
    },
    {
     "name": "stderr",
     "output_type": "stream",
     "text": [
      " 97%|█████████▋| 28/29 [00:23<00:00,  2.20it/s]"
     ]
    },
    {
     "name": "stdout",
     "output_type": "stream",
     "text": [
      "[LightGBM] [Info] Number of positive: 1390, number of negative: 248\n",
      "[LightGBM] [Info] Auto-choosing row-wise multi-threading, the overhead of testing was 0.009393 seconds.\n",
      "You can set `force_row_wise=true` to remove the overhead.\n",
      "And if memory is not enough, you can set `force_col_wise=true`.\n",
      "[LightGBM] [Info] Total Bins 6135\n",
      "[LightGBM] [Info] Number of data points in the train set: 1638, number of used features: 2045\n",
      "[LightGBM] [Info] [binary:BoostFromScore]: pavg=0.848596 -> initscore=1.723630\n",
      "[LightGBM] [Info] Start training from score 1.723630\n"
     ]
    },
    {
     "name": "stderr",
     "output_type": "stream",
     "text": [
      "100%|██████████| 29/29 [00:24<00:00,  1.17it/s]"
     ]
    },
    {
     "name": "stdout",
     "output_type": "stream",
     "text": [
      "Trial 40 completed. Results saved to ~/datasets/lazypredict/rdk5/rdk5_results_trial_40.csv.\n"
     ]
    },
    {
     "name": "stderr",
     "output_type": "stream",
     "text": [
      "\n"
     ]
    }
   ],
   "source": [
    "run_lazy_classifier(\n",
    "    \"rdk5\",\n",
    "    X_rdk5_train_activity,\n",
    "    X_rdk5_test_activity,\n",
    "    y_rdk5_train_activity,\n",
    "    y_rdk5_test_activity,\n",
    "    num_trials=40,\n",
    "    save_dir=\"~/datasets/lazypredict/rdk5\"\n",
    ")"
   ]
  }
 ],
 "metadata": {
  "language_info": {
   "name": "python"
  }
 },
 "nbformat": 4,
 "nbformat_minor": 2
}
